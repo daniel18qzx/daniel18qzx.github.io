{
 "cells": [
  {
   "cell_type": "markdown",
   "metadata": {},
   "source": [
    "---\n",
    "title: 6种分类模型比较\n",
    "date: 2019-08-07\n",
    "categories: [人工智能, 监督学习]\n",
    "mathjax: false\n",
    "---"
   ]
  },
  {
   "cell_type": "markdown",
   "metadata": {},
   "source": [
    "## 数据集载入"
   ]
  },
  {
   "cell_type": "code",
   "execution_count": 150,
   "metadata": {
    "ExecuteTime": {
     "end_time": "2019-08-13T02:53:59.783925Z",
     "start_time": "2019-08-13T02:53:59.677329Z"
    },
    "scrolled": true
   },
   "outputs": [],
   "source": [
    "# -*- coding: utf-8 -*-\n",
    "import pandas as pd\n",
    "import numpy as np\n",
    "from matplotlib import pyplot as plt\n",
    "import seaborn as sns\n",
    "import warnings\n",
    "warnings.filterwarnings('ignore')\n",
    "\n",
    "df = pd.read_csv(u\"2019-08-01_金融数据描述_data1.csv\",encoding = 'gbk')"
   ]
  },
  {
   "cell_type": "code",
   "execution_count": 151,
   "metadata": {
    "ExecuteTime": {
     "end_time": "2019-08-13T02:54:02.016277Z",
     "start_time": "2019-08-13T02:54:01.990579Z"
    },
    "scrolled": true
   },
   "outputs": [
    {
     "name": "stdout",
     "output_type": "stream",
     "text": [
      "<class 'pandas.core.frame.DataFrame'>\n",
      "RangeIndex: 4754 entries, 0 to 4753\n",
      "Data columns (total 90 columns):\n",
      "Unnamed: 0                                    4754 non-null int64\n",
      "custid                                        4754 non-null int64\n",
      "trade_no                                      4754 non-null object\n",
      "bank_card_no                                  4754 non-null object\n",
      "low_volume_percent                            4752 non-null float64\n",
      "middle_volume_percent                         4752 non-null float64\n",
      "take_amount_in_later_12_month_highest         4754 non-null int64\n",
      "trans_amount_increase_rate_lately             4751 non-null float64\n",
      "trans_activity_month                          4752 non-null float64\n",
      "trans_activity_day                            4752 non-null float64\n",
      "transd_mcc                                    4752 non-null float64\n",
      "trans_days_interval_filter                    4746 non-null float64\n",
      "trans_days_interval                           4752 non-null float64\n",
      "regional_mobility                             4752 non-null float64\n",
      "student_feature                               1756 non-null float64\n",
      "repayment_capability                          4754 non-null int64\n",
      "is_high_user                                  4754 non-null int64\n",
      "number_of_trans_from_2011                     4752 non-null float64\n",
      "first_transaction_time                        4752 non-null float64\n",
      "historical_trans_amount                       4754 non-null int64\n",
      "historical_trans_day                          4752 non-null float64\n",
      "rank_trad_1_month                             4752 non-null float64\n",
      "trans_amount_3_month                          4754 non-null int64\n",
      "avg_consume_less_12_valid_month               4752 non-null float64\n",
      "abs                                           4754 non-null int64\n",
      "top_trans_count_last_1_month                  4752 non-null float64\n",
      "avg_price_last_12_month                       4754 non-null int64\n",
      "avg_price_top_last_12_valid_month             4650 non-null float64\n",
      "reg_preference_for_trad                       4752 non-null object\n",
      "trans_top_time_last_1_month                   4746 non-null float64\n",
      "trans_top_time_last_6_month                   4746 non-null float64\n",
      "consume_top_time_last_1_month                 4746 non-null float64\n",
      "consume_top_time_last_6_month                 4746 non-null float64\n",
      "cross_consume_count_last_1_month              4328 non-null float64\n",
      "trans_fail_top_count_enum_last_1_month        4738 non-null float64\n",
      "trans_fail_top_count_enum_last_6_month        4738 non-null float64\n",
      "trans_fail_top_count_enum_last_12_month       4738 non-null float64\n",
      "consume_mini_time_last_1_month                4728 non-null float64\n",
      "max_cumulative_consume_later_1_month          4754 non-null int64\n",
      "max_consume_count_later_6_month               4746 non-null float64\n",
      "railway_consume_count_last_12_month           4742 non-null float64\n",
      "pawns_auctions_trusts_consume_last_1_month    4754 non-null int64\n",
      "pawns_auctions_trusts_consume_last_6_month    4754 non-null int64\n",
      "jewelry_consume_count_last_6_month            4742 non-null float64\n",
      "status                                        4754 non-null int64\n",
      "source                                        4754 non-null object\n",
      "first_transaction_day                         4752 non-null float64\n",
      "trans_day_last_12_month                       4752 non-null float64\n",
      "id_name                                       4478 non-null object\n",
      "apply_score                                   4450 non-null float64\n",
      "apply_credibility                             4450 non-null float64\n",
      "query_org_count                               4450 non-null float64\n",
      "query_finance_count                           4450 non-null float64\n",
      "query_cash_count                              4450 non-null float64\n",
      "query_sum_count                               4450 non-null float64\n",
      "latest_query_time                             4450 non-null object\n",
      "latest_one_month_apply                        4450 non-null float64\n",
      "latest_three_month_apply                      4450 non-null float64\n",
      "latest_six_month_apply                        4450 non-null float64\n",
      "loans_score                                   4457 non-null float64\n",
      "loans_credibility_behavior                    4457 non-null float64\n",
      "loans_count                                   4457 non-null float64\n",
      "loans_settle_count                            4457 non-null float64\n",
      "loans_overdue_count                           4457 non-null float64\n",
      "loans_org_count_behavior                      4457 non-null float64\n",
      "consfin_org_count_behavior                    4457 non-null float64\n",
      "loans_cash_count                              4457 non-null float64\n",
      "latest_one_month_loan                         4457 non-null float64\n",
      "latest_three_month_loan                       4457 non-null float64\n",
      "latest_six_month_loan                         4457 non-null float64\n",
      "history_suc_fee                               4457 non-null float64\n",
      "history_fail_fee                              4457 non-null float64\n",
      "latest_one_month_suc                          4457 non-null float64\n",
      "latest_one_month_fail                         4457 non-null float64\n",
      "loans_long_time                               4457 non-null float64\n",
      "loans_latest_time                             4457 non-null object\n",
      "loans_credit_limit                            4457 non-null float64\n",
      "loans_credibility_limit                       4457 non-null float64\n",
      "loans_org_count_current                       4457 non-null float64\n",
      "loans_product_count                           4457 non-null float64\n",
      "loans_max_limit                               4457 non-null float64\n",
      "loans_avg_limit                               4457 non-null float64\n",
      "consfin_credit_limit                          4457 non-null float64\n",
      "consfin_credibility                           4457 non-null float64\n",
      "consfin_org_count_current                     4457 non-null float64\n",
      "consfin_product_count                         4457 non-null float64\n",
      "consfin_max_limit                             4457 non-null float64\n",
      "consfin_avg_limit                             4457 non-null float64\n",
      "latest_query_day                              4450 non-null float64\n",
      "loans_latest_day                              4457 non-null float64\n",
      "dtypes: float64(70), int64(13), object(7)\n",
      "memory usage: 3.3+ MB\n"
     ]
    }
   ],
   "source": [
    "df.info()"
   ]
  },
  {
   "cell_type": "markdown",
   "metadata": {},
   "source": [
    "## 特征预处理"
   ]
  },
  {
   "cell_type": "markdown",
   "metadata": {},
   "source": [
    "### 删除无用"
   ]
  },
  {
   "cell_type": "code",
   "execution_count": 152,
   "metadata": {
    "ExecuteTime": {
     "end_time": "2019-08-13T02:54:04.668554Z",
     "start_time": "2019-08-13T02:54:04.658519Z"
    }
   },
   "outputs": [],
   "source": [
    "delete = ['Unnamed: 0', 'custid', 'trade_no', 'bank_card_no','id_name','latest_query_time','source','loans_latest_time','first_transaction_time', 'student_feature']\n",
    "df = df.drop(delete,axis=1)"
   ]
  },
  {
   "cell_type": "markdown",
   "metadata": {},
   "source": [
    "### 处理分类型特征"
   ]
  },
  {
   "cell_type": "code",
   "execution_count": 153,
   "metadata": {
    "ExecuteTime": {
     "end_time": "2019-08-13T02:54:06.844158Z",
     "start_time": "2019-08-13T02:54:06.839694Z"
    }
   },
   "outputs": [],
   "source": [
    "from sklearn.preprocessing import LabelEncoder\n",
    "df['reg_preference_for_trad'] = LabelEncoder().fit_transform(df['reg_preference_for_trad'].astype(str))"
   ]
  },
  {
   "cell_type": "markdown",
   "metadata": {},
   "source": [
    "### 使用众数填充"
   ]
  },
  {
   "cell_type": "code",
   "execution_count": 154,
   "metadata": {
    "ExecuteTime": {
     "end_time": "2019-08-13T02:54:09.876239Z",
     "start_time": "2019-08-13T02:54:08.857340Z"
    }
   },
   "outputs": [],
   "source": [
    "from sklearn.preprocessing import Imputer\n",
    "for i in range(df.shape[1]):\n",
    "    feature = df.iloc[:,i].values.reshape(-1,1)\n",
    "    imp_mode = Imputer(strategy='most_frequent')\n",
    "    df.iloc[:,i] = imp_mode.fit_transform(feature)"
   ]
  },
  {
   "cell_type": "markdown",
   "metadata": {},
   "source": [
    "## 数据划分"
   ]
  },
  {
   "cell_type": "code",
   "execution_count": 155,
   "metadata": {
    "ExecuteTime": {
     "end_time": "2019-08-13T02:54:12.149877Z",
     "start_time": "2019-08-13T02:54:12.143225Z"
    }
   },
   "outputs": [],
   "source": [
    "X = df[:].drop(\"status\",axis=1)\n",
    "y = df[\"status\"]"
   ]
  },
  {
   "cell_type": "code",
   "execution_count": 156,
   "metadata": {
    "ExecuteTime": {
     "end_time": "2019-08-13T02:54:14.612700Z",
     "start_time": "2019-08-13T02:54:14.604514Z"
    }
   },
   "outputs": [],
   "source": [
    "from sklearn.model_selection import train_test_split\n",
    "\n",
    "X_train, X_test, y_train, y_test = train_test_split(X, y, test_size=0.2, shuffle = False)"
   ]
  },
  {
   "cell_type": "markdown",
   "metadata": {},
   "source": [
    "## 数据归一化"
   ]
  },
  {
   "cell_type": "code",
   "execution_count": 157,
   "metadata": {
    "ExecuteTime": {
     "end_time": "2019-08-13T02:54:19.039130Z",
     "start_time": "2019-08-13T02:54:19.025994Z"
    }
   },
   "outputs": [],
   "source": [
    "from sklearn.preprocessing import minmax_scale\n",
    "X_train = minmax_scale(X_train)\n",
    "X_test =  minmax_scale(X_test)"
   ]
  },
  {
   "cell_type": "markdown",
   "metadata": {},
   "source": [
    "## 建模与预测"
   ]
  },
  {
   "cell_type": "markdown",
   "metadata": {},
   "source": [
    "### 使用一般建模方法"
   ]
  },
  {
   "cell_type": "code",
   "execution_count": 158,
   "metadata": {
    "ExecuteTime": {
     "end_time": "2019-08-13T02:54:28.280089Z",
     "start_time": "2019-08-13T02:54:22.320300Z"
    }
   },
   "outputs": [],
   "source": [
    "from sklearn.metrics import *\n",
    "from sklearn.linear_model import LogisticRegression\n",
    "from sklearn.svm import SVC\n",
    "from sklearn.tree import DecisionTreeClassifier\n",
    "from sklearn.ensemble import RandomForestClassifier, GradientBoostingClassifier\n",
    "from sklearn.neighbors import KNeighborsClassifier\n",
    "from sklearn.model_selection import cross_val_score\n",
    "\n",
    "LR = LogisticRegression()\n",
    "LR = LR.fit(X_train, y_train)\n",
    "# LR = cross_val_score(LR, X_train, y_train, cv = 5)\n",
    "\n",
    "svc = SVC(kernel='linear', probability = True)\n",
    "svc = svc.fit(X_train, y_train)\n",
    "# svc = cross_val_score(svc,X_train,y_train, cv = 5)\n",
    "\n",
    "DT = DecisionTreeClassifier(max_depth = 6)\n",
    "DT = DT.fit(X_train, y_train)\n",
    "# DT = cross_val_score(DT, X_train, y_train, cv = 5)\n",
    "\n",
    "RF = RandomForestClassifier()\n",
    "RF = RF.fit(X_train, y_train)\n",
    "# RF = cross_val_score(RF, X_train, y_train, cv = 5)\n",
    "\n",
    "KNN = KNeighborsClassifier()\n",
    "KNN = KNN.fit(X_train, y_train)\n",
    "# LR = cross_val_score(LR, X_train, y_train, cv = 5)\n",
    "\n",
    "GBDT = GradientBoostingClassifier()\n",
    "GBDT = GBDT.fit(X_train, y_train)\n",
    "# LR = cross_val_score(LR, X_train, y_train, cv = 5)\n",
    "\n",
    "names = [\"LR\", \"SVC\", 'DT', \"RF\", \"KNN\", \"GBDT\"]\n",
    "models = [LR, svc, DT, RF, KNN, GBDT]\n",
    "evaluates = ['accuracy', 'precision', 'recall', 'f1', 'roc_auc']"
   ]
  },
  {
   "cell_type": "code",
   "execution_count": 159,
   "metadata": {
    "ExecuteTime": {
     "end_time": "2019-08-13T02:54:39.938989Z",
     "start_time": "2019-08-13T02:54:30.454935Z"
    }
   },
   "outputs": [
    {
     "name": "stdout",
     "output_type": "stream",
     "text": [
      "LR 训练集： accuracy:0.801,precision:0.742, recall:0.279, f1:0.406, auc:0.8\n",
      "LR 测试集： accuracy:0.789,precision:0.752, recall:0.365, f1:0.491, auc:0.787\n",
      "\n",
      "\n",
      "SVC 训练集： accuracy:0.793,precision:0.809, recall:0.196, f1:0.316, auc:0.809\n",
      "SVC 测试集： accuracy:0.771,precision:0.843, recall:0.222, f1:0.351, auc:0.796\n",
      "\n",
      "\n",
      "DT 训练集： accuracy:0.829,precision:0.723, recall:0.487, f1:0.582, auc:0.832\n",
      "DT 测试集： accuracy:0.727,precision:0.516, recall:0.361, f1:0.425, auc:0.707\n",
      "\n",
      "\n",
      "RF 训练集： accuracy:0.981,precision:0.999, recall:0.924, f1:0.96, auc:0.999\n",
      "RF 测试集： accuracy:0.722,precision:0.509, recall:0.218, f1:0.305, auc:0.673\n",
      "\n",
      "\n",
      "KNN 训练集： accuracy:0.816,precision:0.741, recall:0.379, f1:0.501, auc:0.848\n",
      "KNN 测试集： accuracy:0.708,precision:0.445, recall:0.184, f1:0.261, auc:0.623\n",
      "\n",
      "\n",
      "GBDT 训练集： accuracy:0.859,precision:0.867, recall:0.497, f1:0.632, auc:0.913\n",
      "GBDT 测试集： accuracy:0.754,precision:0.573, recall:0.474, f1:0.519, auc:0.771\n",
      "\n",
      "\n"
     ]
    },
    {
     "data": {
      "text/html": [
       "<div>\n",
       "<style scoped>\n",
       "    .dataframe tbody tr th:only-of-type {\n",
       "        vertical-align: middle;\n",
       "    }\n",
       "\n",
       "    .dataframe tbody tr th {\n",
       "        vertical-align: top;\n",
       "    }\n",
       "\n",
       "    .dataframe thead th {\n",
       "        text-align: right;\n",
       "    }\n",
       "</style>\n",
       "<table border=\"1\" class=\"dataframe\">\n",
       "  <thead>\n",
       "    <tr style=\"text-align: right;\">\n",
       "      <th></th>\n",
       "      <th></th>\n",
       "      <th>Accuracy</th>\n",
       "      <th>Precision</th>\n",
       "      <th>Recall</th>\n",
       "      <th>F1-Score</th>\n",
       "      <th>AUC-Score</th>\n",
       "    </tr>\n",
       "  </thead>\n",
       "  <tbody>\n",
       "    <tr>\n",
       "      <th rowspan=\"2\" valign=\"top\">LR</th>\n",
       "      <th>train</th>\n",
       "      <td>0.800684</td>\n",
       "      <td>0.742120</td>\n",
       "      <td>0.279396</td>\n",
       "      <td>0.405956</td>\n",
       "      <td>0.799942</td>\n",
       "    </tr>\n",
       "    <tr>\n",
       "      <th>test</th>\n",
       "      <td>0.788644</td>\n",
       "      <td>0.751938</td>\n",
       "      <td>0.364662</td>\n",
       "      <td>0.491139</td>\n",
       "      <td>0.786801</td>\n",
       "    </tr>\n",
       "    <tr>\n",
       "      <th rowspan=\"2\" valign=\"top\">SVC</th>\n",
       "      <th>train</th>\n",
       "      <td>0.792795</td>\n",
       "      <td>0.808889</td>\n",
       "      <td>0.196332</td>\n",
       "      <td>0.315972</td>\n",
       "      <td>0.809276</td>\n",
       "    </tr>\n",
       "    <tr>\n",
       "      <th>test</th>\n",
       "      <td>0.770768</td>\n",
       "      <td>0.842857</td>\n",
       "      <td>0.221805</td>\n",
       "      <td>0.351190</td>\n",
       "      <td>0.796191</td>\n",
       "    </tr>\n",
       "    <tr>\n",
       "      <th rowspan=\"2\" valign=\"top\">DT</th>\n",
       "      <th>train</th>\n",
       "      <td>0.829345</td>\n",
       "      <td>0.722756</td>\n",
       "      <td>0.486516</td>\n",
       "      <td>0.581560</td>\n",
       "      <td>0.831990</td>\n",
       "    </tr>\n",
       "    <tr>\n",
       "      <th>test</th>\n",
       "      <td>0.726604</td>\n",
       "      <td>0.516129</td>\n",
       "      <td>0.360902</td>\n",
       "      <td>0.424779</td>\n",
       "      <td>0.706676</td>\n",
       "    </tr>\n",
       "    <tr>\n",
       "      <th rowspan=\"2\" valign=\"top\">RF</th>\n",
       "      <th>train</th>\n",
       "      <td>0.981331</td>\n",
       "      <td>0.998834</td>\n",
       "      <td>0.924488</td>\n",
       "      <td>0.960224</td>\n",
       "      <td>0.999103</td>\n",
       "    </tr>\n",
       "    <tr>\n",
       "      <th>test</th>\n",
       "      <td>0.722397</td>\n",
       "      <td>0.508772</td>\n",
       "      <td>0.218045</td>\n",
       "      <td>0.305263</td>\n",
       "      <td>0.672949</td>\n",
       "    </tr>\n",
       "    <tr>\n",
       "      <th rowspan=\"2\" valign=\"top\">KNN</th>\n",
       "      <th>train</th>\n",
       "      <td>0.816198</td>\n",
       "      <td>0.740506</td>\n",
       "      <td>0.378641</td>\n",
       "      <td>0.501071</td>\n",
       "      <td>0.847694</td>\n",
       "    </tr>\n",
       "    <tr>\n",
       "      <th>test</th>\n",
       "      <td>0.707676</td>\n",
       "      <td>0.445455</td>\n",
       "      <td>0.184211</td>\n",
       "      <td>0.260638</td>\n",
       "      <td>0.623415</td>\n",
       "    </tr>\n",
       "    <tr>\n",
       "      <th rowspan=\"2\" valign=\"top\">GBDT</th>\n",
       "      <th>train</th>\n",
       "      <td>0.858796</td>\n",
       "      <td>0.866541</td>\n",
       "      <td>0.497303</td>\n",
       "      <td>0.631940</td>\n",
       "      <td>0.912630</td>\n",
       "    </tr>\n",
       "    <tr>\n",
       "      <th>test</th>\n",
       "      <td>0.753943</td>\n",
       "      <td>0.572727</td>\n",
       "      <td>0.473684</td>\n",
       "      <td>0.518519</td>\n",
       "      <td>0.770979</td>\n",
       "    </tr>\n",
       "  </tbody>\n",
       "</table>\n",
       "</div>"
      ],
      "text/plain": [
       "            Accuracy  Precision    Recall  F1-Score  AUC-Score\n",
       "LR   train  0.800684   0.742120  0.279396  0.405956   0.799942\n",
       "     test   0.788644   0.751938  0.364662  0.491139   0.786801\n",
       "SVC  train  0.792795   0.808889  0.196332  0.315972   0.809276\n",
       "     test   0.770768   0.842857  0.221805  0.351190   0.796191\n",
       "DT   train  0.829345   0.722756  0.486516  0.581560   0.831990\n",
       "     test   0.726604   0.516129  0.360902  0.424779   0.706676\n",
       "RF   train  0.981331   0.998834  0.924488  0.960224   0.999103\n",
       "     test   0.722397   0.508772  0.218045  0.305263   0.672949\n",
       "KNN  train  0.816198   0.740506  0.378641  0.501071   0.847694\n",
       "     test   0.707676   0.445455  0.184211  0.260638   0.623415\n",
       "GBDT train  0.858796   0.866541  0.497303  0.631940   0.912630\n",
       "     test   0.753943   0.572727  0.473684  0.518519   0.770979"
      ]
     },
     "execution_count": 159,
     "metadata": {},
     "output_type": "execute_result"
    }
   ],
   "source": [
    "df_list = []\n",
    "for name,model in zip(names,models):\n",
    "    y_train_pred = model.predict(X_train)\n",
    "    y_test_pred = model.predict(X_test)\n",
    "    \n",
    "    #accuracy\n",
    "    train_accuracy = model.score(X_train,y_train)\n",
    "    test_accuracy = model.score(X_test,y_test)\n",
    "    \n",
    "    \n",
    "    #precision   \n",
    "    train_precision = precision_score(y_train,y_train_pred)\n",
    "    test_precision = precision_score(y_test,y_test_pred)   \n",
    "    \n",
    "    #recall\n",
    "    train_recall = recall_score(y_train,y_train_pred)\n",
    "    test_recall = recall_score(y_test,y_test_pred)   \n",
    "    \n",
    "    #f1\n",
    "    train_f1 = f1_score(y_train,y_train_pred)\n",
    "    test_f1 = f1_score(y_test,y_test_pred)   \n",
    "    \n",
    "    #auc\n",
    "    y_train_pred = model.predict_proba(X_train)[:,1]\n",
    "    y_test_pred = model.predict_proba(X_test)[:,1]\n",
    "    \n",
    "    train_auc = roc_auc_score(y_train,y_train_pred)\n",
    "    test_auc = roc_auc_score(y_test,y_test_pred)\n",
    "    \n",
    "    print('{} 训练集： accuracy:{:.3},precision:{:.3}, recall:{:.3}, f1:{:.3}, auc:{:.3}'.format(name,train_accuracy,train_precision,train_recall,train_f1,train_auc))\n",
    "    print('{} 测试集： accuracy:{:.3},precision:{:.3}, recall:{:.3}, f1:{:.3}, auc:{:.3}'.format(name,test_accuracy,test_precision,test_recall,test_f1,test_auc))\n",
    "    print('\\n')\n",
    "    df = pd.DataFrame(np.array([train_accuracy,train_precision,train_recall,train_f1,train_auc,test_accuracy,test_precision,test_recall,test_f1,test_auc]).reshape(2,-1),\n",
    "                  index = ['train','test'],\n",
    "                  columns = ['Accuracy','Precision','Recall','F1-Score','AUC-Score'])\n",
    "    df_list.append(df)\n",
    "\n",
    "pd.concat(df_list,axis=0,keys=names)"
   ]
  },
  {
   "cell_type": "code",
   "execution_count": 160,
   "metadata": {
    "ExecuteTime": {
     "end_time": "2019-08-13T02:54:44.039746Z",
     "start_time": "2019-08-13T02:54:41.104384Z"
    },
    "scrolled": false
   },
   "outputs": [],
   "source": [
    "def draw_roc_curve(train_pre_proba,test_pre_proba,train_auc,test_auc,model_name,num):\n",
    "    fpr,tpr,roc_auc = train_pre_proba\n",
    "    test_fpr,test_tpr,test_roc_auc = test_pre_proba\n",
    "    \n",
    "    plt.figure()\n",
    "    lw = 2\n",
    "    plt.plot(fpr, tpr, color='darkorange',\n",
    "             lw=lw, label='ROC curve (area = %0.2f)' % train_auc)\n",
    "    plt.plot(test_fpr, test_tpr, color='red',\n",
    "         lw=lw, label='ROC curve (area = %0.2f)' %test_auc)\n",
    "    plt.plot([0, 1], [0, 1], color='navy', lw=lw, linestyle='--')\n",
    "    #plt.xlim([0.0, 1.0])\n",
    "    #plt.ylim([0.0, 1.05])\n",
    "    plt.xlabel('False Positive Rate')\n",
    "    plt.ylabel('True Positive Rate')\n",
    "    plt.title('Roc example '+ model_name)\n",
    "    plt.legend(loc=\"lower right\")\n",
    "    plt.savefig(\"../img/2019-08-07_5种分类模型比较_{}.png\".format(num))\n",
    "    plt.close()\n",
    "    \n",
    "for num,name,model in zip(range(1,7),names,models):\n",
    "    \n",
    "    y_train_pred = model.predict_proba(X_train)[:,1]\n",
    "    y_test_pred = model.predict_proba(X_test)[:,1]\n",
    "\n",
    "\n",
    "    train_roc = roc_curve(y_train,y_train_pred)\n",
    "    test_roc = roc_curve(y_test,y_test_pred)\n",
    "\n",
    "    train_auc = roc_auc_score(y_train,y_train_pred)\n",
    "    test_auc = roc_auc_score(y_test,y_test_pred)\n",
    "\n",
    "    draw_roc_curve(train_roc,test_roc,train_auc,test_auc,name,num)"
   ]
  },
  {
   "cell_type": "markdown",
   "metadata": {},
   "source": [
    "![](/img/2019-08-07_5种分类模型比较_1.png)"
   ]
  },
  {
   "cell_type": "markdown",
   "metadata": {},
   "source": [
    "![](/img/2019-08-07_5种分类模型比较_2.png)"
   ]
  },
  {
   "cell_type": "markdown",
   "metadata": {},
   "source": [
    "![](/img/2019-08-07_5种分类模型比较_3.png)"
   ]
  },
  {
   "cell_type": "markdown",
   "metadata": {},
   "source": [
    "![](/img/2019-08-07_5种分类模型比较_4.png)"
   ]
  },
  {
   "cell_type": "markdown",
   "metadata": {},
   "source": [
    "![](/img/2019-08-07_5种分类模型比较_5.png)"
   ]
  },
  {
   "cell_type": "markdown",
   "metadata": {},
   "source": [
    "![](/img/2019-08-07_5种分类模型比较_6.png)"
   ]
  },
  {
   "cell_type": "markdown",
   "metadata": {},
   "source": [
    "### 使用k-folds交叉建模"
   ]
  },
  {
   "cell_type": "code",
   "execution_count": 168,
   "metadata": {
    "ExecuteTime": {
     "end_time": "2019-08-13T02:56:53.551859Z",
     "start_time": "2019-08-13T02:56:53.544808Z"
    }
   },
   "outputs": [],
   "source": [
    "from sklearn.model_selection import KFold\n",
    "\n",
    "def run_cv(X,y,clf_class,**kwargs):\n",
    "    kf = KFold(n_splits = 5, shuffle = False, random_state = 0)\n",
    "    y_pred = y.copy()\n",
    "    clf = clf_class(**kwargs)\n",
    "    \n",
    "    for train_index , test_index in kf.split(X):\n",
    "        X_train, X_test = X[train_index], X[test_index]\n",
    "        y_train, y_test = y[train_index], y[test_index]\n",
    "        \n",
    "        clf.fit(X_train,y_train)\n",
    "        y_pred[test_index] = clf.predict(X_test)\n",
    "    return y_pred"
   ]
  },
  {
   "cell_type": "code",
   "execution_count": 169,
   "metadata": {
    "ExecuteTime": {
     "end_time": "2019-08-13T02:56:56.764640Z",
     "start_time": "2019-08-13T02:56:54.814923Z"
    }
   },
   "outputs": [],
   "source": [
    "from sklearn.ensemble import RandomForestClassifier, GradientBoostingClassifier\n",
    "from sklearn.svm import SVC\n",
    "from sklearn.tree import DecisionTreeClassifier\n",
    "from sklearn.model_selection import cross_val_score\n",
    "from sklearn.neighbors import KNeighborsClassifier \n",
    "from sklearn.linear_model import LogisticRegression\n",
    "\n",
    "LR_CV_result = run_cv(X_train,y_train,LogisticRegression)\n",
    "RF_CV_result = run_cv(X_train,y_train,RandomForestClassifier)\n",
    "KNN_CV_result = run_cv(X_train,y_train,KNeighborsClassifier)"
   ]
  },
  {
   "cell_type": "code",
   "execution_count": 170,
   "metadata": {
    "ExecuteTime": {
     "end_time": "2019-08-13T02:56:59.731038Z",
     "start_time": "2019-08-13T02:56:59.719604Z"
    }
   },
   "outputs": [
    {
     "name": "stdout",
     "output_type": "stream",
     "text": [
      "Logistic Regression (L2 is default): 0.7933210623192216\n",
      "Random forest: 0.7812253484091507\n",
      "K-nearest-neighbors: 0.7520378648435446\n"
     ]
    }
   ],
   "source": [
    "def accuracy(y_true,y_pred):\n",
    "    return np.mean(y_true == y_pred)\n",
    "\n",
    "print (\"Logistic Regression (L2 is default): \" + str(accuracy(y_train, LR_CV_result)))\n",
    "print (\"Random forest: \" + str(accuracy(y_train, RF_CV_result)))\n",
    "print (\"K-nearest-neighbors: \" + str(accuracy(y_train, KNN_CV_result)))"
   ]
  },
  {
   "cell_type": "markdown",
   "metadata": {},
   "source": [
    "> 参考：\n",
    "\n",
    "1. [DataWhale数据挖掘实战营](https://github.com/datawhalechina/Datawhale_Learning/tree/master/doc/%E7%90%86%E8%AE%BA%E5%BA%94%E7%94%A8/%E6%95%B0%E6%8D%AE%E6%8C%96%E6%8E%98)\n",
    "2. [吴裕雄 PYTHON 机器学习——集成学习梯度提升决策树GRADIENTBOOSTINGCLASSIFIER分类模型](https://www.cnblogs.com/tszr/p/10801558.html)\n",
    "3. [使用5种分类模型进行用户贷款逾期预测](http://yezuolin.com/2018/11/TheModelofUserLoanOverdueEvaluation/)\n",
    "4. [sklearn.model_selection.KFold](https://blog.csdn.net/kancy110/article/details/74910185/)"
   ]
  }
 ],
 "metadata": {
  "kernelspec": {
   "display_name": "Python 3",
   "language": "python",
   "name": "python3"
  },
  "language_info": {
   "codemirror_mode": {
    "name": "ipython",
    "version": 3
   },
   "file_extension": ".py",
   "mimetype": "text/x-python",
   "name": "python",
   "nbconvert_exporter": "python",
   "pygments_lexer": "ipython3",
   "version": "3.7.1"
  },
  "toc": {
   "base_numbering": 1,
   "nav_menu": {},
   "number_sections": false,
   "sideBar": true,
   "skip_h1_title": false,
   "title_cell": "Table of Contents",
   "title_sidebar": "Contents",
   "toc_cell": false,
   "toc_position": {
    "height": "calc(100% - 180px)",
    "left": "10px",
    "top": "150px",
    "width": "184px"
   },
   "toc_section_display": true,
   "toc_window_display": true
  },
  "varInspector": {
   "cols": {
    "lenName": 16,
    "lenType": 16,
    "lenVar": 40
   },
   "kernels_config": {
    "python": {
     "delete_cmd_postfix": "",
     "delete_cmd_prefix": "del ",
     "library": "var_list.py",
     "varRefreshCmd": "print(var_dic_list())"
    },
    "r": {
     "delete_cmd_postfix": ") ",
     "delete_cmd_prefix": "rm(",
     "library": "var_list.r",
     "varRefreshCmd": "cat(var_dic_list()) "
    }
   },
   "types_to_exclude": [
    "module",
    "function",
    "builtin_function_or_method",
    "instance",
    "_Feature"
   ],
   "window_display": false
  }
 },
 "nbformat": 4,
 "nbformat_minor": 2
}
