{
 "cells": [
  {
   "cell_type": "markdown",
   "metadata": {},
   "source": [
    "---\n",
    "title: Matplotlib基本语法\n",
    "date: 2019-06-24\n",
    "categories: [基本语法, Matplotlib]\n",
    "---"
   ]
  },
  {
   "cell_type": "markdown",
   "metadata": {},
   "source": [
    "## 基本配置与标记"
   ]
  },
  {
   "cell_type": "code",
   "execution_count": 8,
   "metadata": {
    "scrolled": true
   },
   "outputs": [],
   "source": [
    "#coding:utf-8\n",
    "\n",
    "import numpy as np\n",
    "import matplotlib.pyplot as plt\n",
    "from pylab import *\n",
    "\n",
    "# 定义数据部分\n",
    "x = np.arange(0., 10, 0.2)\n",
    "y1 = np.cos(x)\n",
    "y2 = np.sin(x)\n",
    "y3 = np.sqrt(x)\n",
    "\n",
    "# 绘制 3 条函数曲线\n",
    "plt.plot(x, y1, color='blue', linewidth=1.5, linestyle='-', marker='.', label=r'$y = cos{x}$')\n",
    "plt.plot(x, y2, color='green', linewidth=1.5, linestyle='-', marker='*', label=r'$y = sin{x}$')\n",
    "plt.plot(x, y3, color='m', linewidth=1.5, linestyle='-', marker='x', label=r'$y = \\sqrt{x}$')\n",
    "\n",
    "# 坐标轴上移\n",
    "ax = plt.subplot(111)\n",
    "ax.spines['right'].set_color('none')     # 去掉右边的边框线\n",
    "ax.spines['top'].set_color('none')       # 去掉上边的边框线\n",
    "\n",
    "# 移动下边边框线，相当于移动 X 轴\n",
    "ax.xaxis.set_ticks_position('bottom')    \n",
    "ax.spines['bottom'].set_position(('data', 0))\n",
    "\n",
    "# 移动左边边框线，相当于移动 y 轴\n",
    "ax.yaxis.set_ticks_position('left')\n",
    "ax.spines['left'].set_position(('data', 0))\n",
    "\n",
    "# 设置 x, y 轴的取值范围\n",
    "plt.xlim(x.min()*1.1, x.max()*1.1)\n",
    "plt.ylim(-1.5, 4.0)\n",
    "\n",
    "# 设置 x, y 轴的刻度值\n",
    "plt.xticks([2, 4, 6, 8, 10], [r'2', r'4', r'6', r'8', r'10'])\n",
    "plt.yticks([-1.0, 0.0, 1.0, 2.0, 3.0, 4.0], \n",
    "    [r'-1.0', r'0.0', r'1.0', r'2.0', r'3.0', r'4.0'])\n",
    "\n",
    "# 添加文字\n",
    "plt.text(4, 1.68, r'$x \\in [0.0, \\ 10.0]$', color='k', fontsize=15)\n",
    "plt.text(4, 1.38, r'$y \\in [-1.0, \\ 4.0]$', color='k', fontsize=15)\n",
    "\n",
    "# 特殊点添加注解\n",
    "plt.scatter([8,],[np.sqrt(8),], 50, color ='m')  # 使用散点图放大当前点\n",
    "plt.annotate(r'$2\\sqrt{2}$', xy=(8, np.sqrt(8)), xytext=(8.5, 2.2), fontsize=16, color='#090909', arrowprops=dict(arrowstyle='->', connectionstyle='arc3, rad=0.1', color='#090909'))\n",
    "\n",
    "# 设置标题、x轴、y轴\n",
    "plt.title(r'$the \\ function \\ figure \\ of \\ cos(), \\ sin() \\ and \\ sqrt()$', fontsize=19)\n",
    "plt.xlabel(r'$the \\ input \\ value \\ of \\ x$', fontsize=18, labelpad=88.8)\n",
    "plt.ylabel(r'$y = f(x)$', fontsize=18, labelpad=12.5)\n",
    "\n",
    "# 设置图例及位置\n",
    "plt.legend(loc='upper right')    \n",
    "# plt.legend(['cos(x)', 'sin(x)', 'sqrt(x)'], loc='up right')\n",
    "\n",
    "# 显示网格线\n",
    "plt.grid(True)    \n",
    "\n",
    "# 绘图\n",
    "plt.savefig(\"../img/2019-06-24_Matplotlib基本语法_1.png\")\n",
    "plt.close()"
   ]
  },
  {
   "cell_type": "markdown",
   "metadata": {},
   "source": [
    "![](/img/2019-06-24_Matplotlib基本语法_1.png)"
   ]
  },
  {
   "cell_type": "markdown",
   "metadata": {},
   "source": [
    "## 曲线图"
   ]
  },
  {
   "cell_type": "code",
   "execution_count": 9,
   "metadata": {},
   "outputs": [],
   "source": [
    "x = np.arange(-5,5,0.1)\n",
    "y = x ** 2\n",
    "plt.plot(x,y)\n",
    "\n",
    "# 绘图\n",
    "plt.savefig(\"../img/2019-06-24_Matplotlib基本语法_2.png\")\n",
    "plt.close()"
   ]
  },
  {
   "cell_type": "markdown",
   "metadata": {},
   "source": [
    "![](/img/2019-06-24_Matplotlib基本语法_2.png)"
   ]
  },
  {
   "cell_type": "markdown",
   "metadata": {},
   "source": [
    "## 散布图"
   ]
  },
  {
   "cell_type": "code",
   "execution_count": 10,
   "metadata": {
    "scrolled": true
   },
   "outputs": [],
   "source": [
    "import numpy as np\n",
    "import matplotlib.pyplot as plt\n",
    "\n",
    "n = 1024\n",
    "X = np.random.normal(0, 1, n)\n",
    "Y = np.random.normal(0, 1, n)\n",
    "\n",
    "plt.scatter(X,Y)\n",
    "\n",
    "# 绘图\n",
    "plt.savefig(\"../img/2019-06-24_Matplotlib基本语法_3.png\")\n",
    "plt.close()"
   ]
  },
  {
   "cell_type": "markdown",
   "metadata": {},
   "source": [
    "![](/img/2019-06-24_Matplotlib基本语法_3.png)"
   ]
  },
  {
   "cell_type": "markdown",
   "metadata": {},
   "source": [
    "## 柱状图"
   ]
  },
  {
   "cell_type": "code",
   "execution_count": 11,
   "metadata": {},
   "outputs": [],
   "source": [
    "x = np.random.normal(size=1000)\n",
    "plt.hist(x, bins=10)\n",
    "\n",
    "# 绘图\n",
    "plt.savefig(\"../img/2019-06-24_Matplotlib基本语法_4.png\")\n",
    "plt.close()"
   ]
  },
  {
   "cell_type": "markdown",
   "metadata": {},
   "source": [
    "![](/img/2019-06-24_Matplotlib基本语法_4.png)"
   ]
  },
  {
   "cell_type": "code",
   "execution_count": 12,
   "metadata": {},
   "outputs": [],
   "source": [
    "import numpy as np\n",
    "import matplotlib.pyplot as plt\n",
    "\n",
    "n = 12\n",
    "X = np.arange(n)\n",
    "Y1 = (1- X / float(n)) * np.random.uniform(0.5, 1.0, n)\n",
    "Y2 = (1- X/ float(n)) * np.random.uniform(0.5, 1.0, n)\n",
    "\n",
    "plt.axes([0.025, 0.025, 0.95, 0.95])\n",
    "plt.bar(X, +Y1, facecolor = '#9999ff', edgecolor = 'white')\n",
    "plt.bar(X, -Y2, facecolor = '#ff9999', edgecolor = 'white')\n",
    "\n",
    "for x,y in zip(X,Y1):\n",
    "    plt.text(x, y + 0.08, '%.2f' % y, ha = 'center', va = 'bottom')\n",
    "\n",
    "for x,y in zip(X,Y2):\n",
    "    plt.text(x, -y - 0.08, '%.2f' % y, ha = 'center', va= 'top')\n",
    "\n",
    "plt.xlim(-.5, n), \n",
    "plt.ylim(-1.25, +1.25), \n",
    "plt.xticks([])\n",
    "plt.yticks([])\n",
    "\n",
    "# 绘图\n",
    "plt.savefig(\"../img/2019-06-24_Matplotlib基本语法_5.png\")\n",
    "plt.close()"
   ]
  },
  {
   "cell_type": "markdown",
   "metadata": {},
   "source": [
    "![](/img/2019-06-24_Matplotlib基本语法_5.png)"
   ]
  },
  {
   "cell_type": "markdown",
   "metadata": {},
   "source": [
    "## 3D图"
   ]
  },
  {
   "cell_type": "code",
   "execution_count": 13,
   "metadata": {},
   "outputs": [],
   "source": [
    "import numpy as np\n",
    "import matplotlib.pyplot as plt\n",
    "from mpl_toolkits.mplot3d import Axes3D\n",
    "\n",
    "fig = plt.figure()\n",
    "ax = Axes3D(fig)\n",
    "X = np.arange(-4, 4, 0.25)\n",
    "Y = np.arange(-4, 4, 0.25)\n",
    "X, Y = np.meshgrid(X, Y)\n",
    "R = np.sqrt(X ** 2 + Y ** 2)\n",
    "Z = np.sin(R)\n",
    "\n",
    "ax.plot_surface(X, Y, Z, rstride = 1, cstride=1, cmap = plt.cm.hot)\n",
    "ax.contourf(X, Y, Z, zdir = 'z', offset = -2, cmap = plt.cm.hot)\n",
    "ax.set_zlim(-2,2)\n",
    "\n",
    "# 绘图\n",
    "plt.savefig(\"../img/2019-06-24_Matplotlib基本语法_6.png\")\n",
    "plt.close()"
   ]
  },
  {
   "cell_type": "markdown",
   "metadata": {},
   "source": [
    "![](/img/2019-06-24_Matplotlib基本语法_6.png)"
   ]
  },
  {
   "cell_type": "markdown",
   "metadata": {},
   "source": [
    "> 参考：\n",
    "\n",
    "1. [廖雪峰Python数据分析](https://www.julyedu.com/course/getDetail/66/)"
   ]
  }
 ],
 "metadata": {
  "kernelspec": {
   "display_name": "Python 3",
   "language": "python",
   "name": "python3"
  },
  "language_info": {
   "codemirror_mode": {
    "name": "ipython",
    "version": 3
   },
   "file_extension": ".py",
   "mimetype": "text/x-python",
   "name": "python",
   "nbconvert_exporter": "python",
   "pygments_lexer": "ipython3",
   "version": "3.6.2"
  }
 },
 "nbformat": 4,
 "nbformat_minor": 2
}
