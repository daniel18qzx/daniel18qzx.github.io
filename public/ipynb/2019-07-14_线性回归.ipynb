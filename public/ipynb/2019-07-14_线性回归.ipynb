{
 "cells": [
  {
   "cell_type": "markdown",
   "metadata": {},
   "source": [
    "---\n",
    "title: 线性回归\n",
    "date: 2019-07-14\n",
    "categories: [人工智能, 监督学习]\n",
    "---"
   ]
  },
  {
   "cell_type": "markdown",
   "metadata": {},
   "source": [
    "## 创建数据"
   ]
  },
  {
   "cell_type": "code",
   "execution_count": 107,
   "metadata": {},
   "outputs": [],
   "source": [
    "def make_data(nDim):\n",
    "    x0 = np.linspace(1, np.pi, 50)\n",
    "    x = np.vstack([[x0,], [i**x0 for i in range(2, nDim+1)]])\n",
    "    y = np.sin(x0) + np.random.normal(0,0.15,len(x0))\n",
    "    \n",
    "    return x.transpose(), y"
   ]
  },
  {
   "cell_type": "markdown",
   "metadata": {},
   "source": [
    "## 最小二乘法 Ordinary Least Squares (OLS)"
   ]
  },
  {
   "cell_type": "markdown",
   "metadata": {},
   "source": [
    "目标函数：\n",
    "$$argmin(\\sum_{}^{} {(\\hat{y}-y)^2})$$\n",
    "\n",
    "不足：OLS为了更好的拟合数据，会使用较大的w值，进而导致过度拟合。"
   ]
  },
  {
   "cell_type": "code",
   "execution_count": 124,
   "metadata": {
    "scrolled": false
   },
   "outputs": [],
   "source": [
    "import matplotlib.pyplot as plt\n",
    "import numpy as np\n",
    "from sklearn import linear_model\n",
    "\n",
    "dims = [2, 6, 12, 24]\n",
    "plt.figure(figsize=(10, 10))\n",
    "\n",
    "for idx, i in enumerate(dims):\n",
    "    \n",
    "    plt.subplot(2, 2, idx+1)\n",
    "    x, y = make_data(i)\n",
    "\n",
    "    reg = linear_model.LinearRegression()\n",
    "    reg.fit(x, y)\n",
    "\n",
    "#     reg.intercept_\n",
    "#     reg.coef_\n",
    "\n",
    "    plt.scatter(x[:, 0], y, marker = '*', color = 'r', label = 'samples')\n",
    "    plt.plot(x[:, 0], [reg.predict([x[i, :]]) for i in range(len(y))], linestyle = '--', label = 'model')\n",
    "    plt.legend(loc='upper right')\n",
    "    plt.title('Dimensions: %s' %i, fontsize=19)\n",
    "\n",
    "plt.savefig(\"../img/2019-07-14_线性回归_1.png\")\n",
    "plt.close()"
   ]
  },
  {
   "cell_type": "markdown",
   "metadata": {},
   "source": [
    "![](/img/2019-07-14_线性回归_1.png)"
   ]
  },
  {
   "cell_type": "markdown",
   "metadata": {},
   "source": [
    "## 岭回归 Ridge Regression (Tikhonov Regularization)"
   ]
  },
  {
   "cell_type": "markdown",
   "metadata": {},
   "source": [
    "目标函数：\n",
    "$$argmin(\\sum_{}^{} {(\\hat{y}-y)^2}+\\alpha \\sum_{}^{} {w^2})$$\n",
    "\n",
    "优化：为惩罚OLS每个w逐渐增加导致过度拟合的问题，新增的项为L2惩罚项(L2 Penalty)。\n",
    "特点：w有可能特别小的绝对值，但很难达成0，造成贡献很小的系数还是要放，影响性能。"
   ]
  },
  {
   "cell_type": "code",
   "execution_count": 125,
   "metadata": {
    "scrolled": true
   },
   "outputs": [],
   "source": [
    "import matplotlib.pyplot as plt\n",
    "import numpy as np\n",
    "from sklearn import linear_model\n",
    "\n",
    "dims = [2, 6, 12, 24]\n",
    "plt.figure(figsize=(10, 10))\n",
    "\n",
    "for idx, i in enumerate(dims):\n",
    "    \n",
    "    plt.subplot(2, 2, idx+1)\n",
    "    x, y = make_data(i)\n",
    "\n",
    "    reg = linear_model.Ridge(alpha = 100)\n",
    "    reg.fit(x, y)\n",
    "\n",
    "#     reg.intercept_\n",
    "#     reg.coef_\n",
    "\n",
    "    plt.scatter(x[:, 0], y, marker = '*', color = 'r', label = 'samples')\n",
    "    plt.plot(x[:, 0], [reg.predict([x[i, :]]) for i in range(len(y))], linestyle = '--', label = 'model')\n",
    "    plt.legend(loc='upper right')\n",
    "    plt.title('Dimensions: %s' %i, fontsize=19)\n",
    "    \n",
    "plt.savefig(\"../img/2019-07-14_线性回归_2.png\")\n",
    "plt.close()"
   ]
  },
  {
   "cell_type": "markdown",
   "metadata": {},
   "source": [
    "![](/img/2019-07-14_线性回归_2.png)"
   ]
  },
  {
   "cell_type": "markdown",
   "metadata": {},
   "source": [
    "## Lasso 回归"
   ]
  },
  {
   "cell_type": "markdown",
   "metadata": {},
   "source": [
    "目标函数：\n",
    "$$argmin(\\sum_{}^{} {(\\hat{y}-y)^2}+\\alpha \\sum_{}^{} {|w|})$$\n",
    "\n",
    "优化：为惩罚OLS每个w逐渐增加导致过度拟合的问题，新增的项为L1惩罚项(L1 Penalty)。\n",
    "特点：比L2惩罚项严厉很多，可以产生稀疏回归参数，即多数回归参数为零。"
   ]
  },
  {
   "cell_type": "code",
   "execution_count": 126,
   "metadata": {},
   "outputs": [],
   "source": [
    "import matplotlib.pyplot as plt\n",
    "import numpy as np\n",
    "from sklearn import linear_model\n",
    "\n",
    "dims = [2, 6, 12, 24]\n",
    "plt.figure(figsize=(10, 10))\n",
    "\n",
    "for idx, i in enumerate(dims):\n",
    "    \n",
    "    plt.subplot(2, 2, idx+1)\n",
    "    x, y = make_data(i)\n",
    "\n",
    "    reg = linear_model.Lasso(alpha = 100)\n",
    "    reg.fit(x, y)\n",
    "\n",
    "#     reg.intercept_\n",
    "#     reg.coef_\n",
    "\n",
    "    plt.scatter(x[:, 0], y, marker = '*', color = 'r', label = 'samples')\n",
    "    plt.plot(x[:, 0], [reg.predict([x[i, :]]) for i in range(len(y))], linestyle = '--', label = 'model')\n",
    "    plt.legend(loc='upper right')\n",
    "    plt.title('Dimensions: %s' %i, fontsize=19)\n",
    "\n",
    "plt.savefig(\"../img/2019-07-14_线性回归_3.png\")\n",
    "plt.close()"
   ]
  },
  {
   "cell_type": "markdown",
   "metadata": {},
   "source": [
    "![](/img/2019-07-14_线性回归_3.png)"
   ]
  },
  {
   "cell_type": "markdown",
   "metadata": {},
   "source": [
    "> 参考：\n",
    "\n",
    "1. [从机器学习到深度学习：基于Scikit-learn与TensorFlow的高效开发实战](http://www.broadview.com.cn/book/5337)"
   ]
  }
 ],
 "metadata": {
  "kernelspec": {
   "display_name": "Python 3",
   "language": "python",
   "name": "python3"
  },
  "language_info": {
   "codemirror_mode": {
    "name": "ipython",
    "version": 3
   },
   "file_extension": ".py",
   "mimetype": "text/x-python",
   "name": "python",
   "nbconvert_exporter": "python",
   "pygments_lexer": "ipython3",
   "version": "3.6.2"
  }
 },
 "nbformat": 4,
 "nbformat_minor": 2
}
