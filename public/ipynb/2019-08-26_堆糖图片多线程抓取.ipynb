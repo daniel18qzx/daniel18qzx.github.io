{
 "cells": [
  {
   "cell_type": "markdown",
   "metadata": {},
   "source": [
    "---\n",
    "title: 堆糖图片多线程抓取\n",
    "date: 2019-08-26\n",
    "categories: [爬虫开发, 项目]\n",
    "mathjax: false\n",
    "---"
   ]
  },
  {
   "cell_type": "code",
   "execution_count": 76,
   "metadata": {},
   "outputs": [
    {
     "name": "stdout",
     "output_type": "stream",
     "text": [
      "Now Downloading: 1\n",
      "Now Downloading: 2\n",
      "Now Downloading: 3\n",
      "Now Downloading: 4\n",
      "Now Downloading: 5\n",
      "Now Downloading: 6\n",
      "Now Downloading: 7\n",
      "Now Downloading: 8\n",
      "Now Downloading: 9\n",
      "Now Downloading: 10\n",
      "Now Downloading: 11\n",
      "Now Downloading: 12\n",
      "Now Downloading: 13\n",
      "Now Downloading: 14\n",
      "Now Downloading: 15\n",
      "Now Downloading: 16\n",
      "Now Downloading: 17\n",
      "Now Downloading: 18\n",
      "Now Downloading: 19\n",
      "Now Downloading: 20\n",
      "Now Downloading: 21\n",
      "Now Downloading: 22\n",
      "Now Downloading: 23\n",
      "Now Downloading: 24\n",
      "Now Downloading: 25\n",
      "Now Downloading: 26\n",
      "Now Downloading: 27\n",
      "Now Downloading: 28\n",
      "Now Downloading: 29\n",
      "Now Downloading: 30\n",
      "Now Downloading: 31\n",
      "Now Downloading: 32\n",
      "Now Downloading: 33\n",
      "Now Downloading: 34\n",
      "Now Downloading: 35\n",
      "Now Downloading: 36\n",
      "Now Downloading: 37\n",
      "Now Downloading: 38\n",
      "Now Downloading: 39\n"
     ]
    },
    {
     "ename": "KeyboardInterrupt",
     "evalue": "",
     "output_type": "error",
     "traceback": [
      "\u001b[0;31m---------------------------------------------------------------------------\u001b[0m",
      "\u001b[0;31mKeyboardInterrupt\u001b[0m                         Traceback (most recent call last)",
      "\u001b[0;32m<ipython-input-76-0523e753e441>\u001b[0m in \u001b[0;36m<module>\u001b[0;34m()\u001b[0m\n\u001b[1;32m     61\u001b[0m         \u001b[0mt\u001b[0m\u001b[0;34m.\u001b[0m\u001b[0mstart\u001b[0m\u001b[0;34m(\u001b[0m\u001b[0;34m)\u001b[0m\u001b[0;34m\u001b[0m\u001b[0m\n\u001b[1;32m     62\u001b[0m \u001b[0;34m\u001b[0m\u001b[0m\n\u001b[0;32m---> 63\u001b[0;31m \u001b[0mmain\u001b[0m\u001b[0;34m(\u001b[0m\u001b[0;34m'杨幂'\u001b[0m\u001b[0;34m)\u001b[0m\u001b[0;34m\u001b[0m\u001b[0m\n\u001b[0m",
      "\u001b[0;32m<ipython-input-76-0523e753e441>\u001b[0m in \u001b[0;36mmain\u001b[0;34m(label)\u001b[0m\n\u001b[1;32m     57\u001b[0m \u001b[0;34m\u001b[0m\u001b[0m\n\u001b[1;32m     58\u001b[0m         \u001b[0;31m#锁上，并开始执行\u001b[0m\u001b[0;34m\u001b[0m\u001b[0;34m\u001b[0m\u001b[0m\n\u001b[0;32m---> 59\u001b[0;31m         \u001b[0mthread_lock\u001b[0m\u001b[0;34m.\u001b[0m\u001b[0macquire\u001b[0m\u001b[0;34m(\u001b[0m\u001b[0;34m)\u001b[0m\u001b[0;34m\u001b[0m\u001b[0m\n\u001b[0m\u001b[1;32m     60\u001b[0m         \u001b[0mt\u001b[0m \u001b[0;34m=\u001b[0m \u001b[0mthreading\u001b[0m\u001b[0;34m.\u001b[0m\u001b[0mThread\u001b[0m\u001b[0;34m(\u001b[0m\u001b[0mtarget\u001b[0m\u001b[0;34m=\u001b[0m\u001b[0mdownload_pic\u001b[0m\u001b[0;34m,\u001b[0m \u001b[0margs\u001b[0m\u001b[0;34m=\u001b[0m\u001b[0;34m(\u001b[0m\u001b[0murl\u001b[0m\u001b[0;34m,\u001b[0m \u001b[0mnumbers\u001b[0m\u001b[0;34m)\u001b[0m\u001b[0;34m)\u001b[0m\u001b[0;34m\u001b[0m\u001b[0m\n\u001b[1;32m     61\u001b[0m         \u001b[0mt\u001b[0m\u001b[0;34m.\u001b[0m\u001b[0mstart\u001b[0m\u001b[0;34m(\u001b[0m\u001b[0;34m)\u001b[0m\u001b[0;34m\u001b[0m\u001b[0m\n",
      "\u001b[0;32m/Users/daniel/anaconda/lib/python3.6/threading.py\u001b[0m in \u001b[0;36macquire\u001b[0;34m(self, blocking, timeout)\u001b[0m\n\u001b[1;32m    424\u001b[0m                         \u001b[0;32mif\u001b[0m \u001b[0mtimeout\u001b[0m \u001b[0;34m<=\u001b[0m \u001b[0;36m0\u001b[0m\u001b[0;34m:\u001b[0m\u001b[0;34m\u001b[0m\u001b[0m\n\u001b[1;32m    425\u001b[0m                             \u001b[0;32mbreak\u001b[0m\u001b[0;34m\u001b[0m\u001b[0m\n\u001b[0;32m--> 426\u001b[0;31m                 \u001b[0mself\u001b[0m\u001b[0;34m.\u001b[0m\u001b[0m_cond\u001b[0m\u001b[0;34m.\u001b[0m\u001b[0mwait\u001b[0m\u001b[0;34m(\u001b[0m\u001b[0mtimeout\u001b[0m\u001b[0;34m)\u001b[0m\u001b[0;34m\u001b[0m\u001b[0m\n\u001b[0m\u001b[1;32m    427\u001b[0m             \u001b[0;32melse\u001b[0m\u001b[0;34m:\u001b[0m\u001b[0;34m\u001b[0m\u001b[0m\n\u001b[1;32m    428\u001b[0m                 \u001b[0mself\u001b[0m\u001b[0;34m.\u001b[0m\u001b[0m_value\u001b[0m \u001b[0;34m-=\u001b[0m \u001b[0;36m1\u001b[0m\u001b[0;34m\u001b[0m\u001b[0m\n",
      "\u001b[0;32m/Users/daniel/anaconda/lib/python3.6/threading.py\u001b[0m in \u001b[0;36mwait\u001b[0;34m(self, timeout)\u001b[0m\n\u001b[1;32m    293\u001b[0m         \u001b[0;32mtry\u001b[0m\u001b[0;34m:\u001b[0m    \u001b[0;31m# restore state no matter what (e.g., KeyboardInterrupt)\u001b[0m\u001b[0;34m\u001b[0m\u001b[0m\n\u001b[1;32m    294\u001b[0m             \u001b[0;32mif\u001b[0m \u001b[0mtimeout\u001b[0m \u001b[0;32mis\u001b[0m \u001b[0;32mNone\u001b[0m\u001b[0;34m:\u001b[0m\u001b[0;34m\u001b[0m\u001b[0m\n\u001b[0;32m--> 295\u001b[0;31m                 \u001b[0mwaiter\u001b[0m\u001b[0;34m.\u001b[0m\u001b[0macquire\u001b[0m\u001b[0;34m(\u001b[0m\u001b[0;34m)\u001b[0m\u001b[0;34m\u001b[0m\u001b[0m\n\u001b[0m\u001b[1;32m    296\u001b[0m                 \u001b[0mgotit\u001b[0m \u001b[0;34m=\u001b[0m \u001b[0;32mTrue\u001b[0m\u001b[0;34m\u001b[0m\u001b[0m\n\u001b[1;32m    297\u001b[0m             \u001b[0;32melse\u001b[0m\u001b[0;34m:\u001b[0m\u001b[0;34m\u001b[0m\u001b[0m\n",
      "\u001b[0;31mKeyboardInterrupt\u001b[0m: "
     ]
    }
   ],
   "source": [
    "import requests\n",
    "import urllib.parse\n",
    "import threading\n",
    "\n",
    "#多线程锁\n",
    "thread_lock = threading.BoundedSemaphore(value = 10)\n",
    "\n",
    "def get_page(url):\n",
    "    #GET之后用utf-8解析\n",
    "    page = requests.get(url).content.decode(\"utf-8\")\n",
    "    return page\n",
    "\n",
    "def findall_in_page(page, start_part, end_part):\n",
    "    all_strings = []\n",
    "    end = 0\n",
    "    while page.find(start_part,end) != -1:\n",
    "        start = page.find(start_part, end)+len(start_part)\n",
    "        end = page.find(end_part, start)\n",
    "        string = page[start: end]\n",
    "        all_strings.append(string)\n",
    "    return all_strings\n",
    "\n",
    "def pic_urls_find_part(pages):\n",
    "    pic_pics = []\n",
    "    for page in pages:\n",
    "        urls = findall_in_page(page, '\"path\":\"', '\"')\n",
    "        pic_pics.extend(urls)\n",
    "    return pic_pics\n",
    "    \n",
    "def pages_usr(label):\n",
    "    pages = []\n",
    "    url = 'https://www.duitang.com/napi/blog/list/by_search/?kw={}&start={}&limit=1000'\n",
    "    #将中文转成ASCII码\n",
    "    label = urllib.parse.quote(label)\n",
    "    #观察response可发现max=3600\n",
    "    for index in range(0,3600,100):\n",
    "        u = url.format(label,index)\n",
    "        page = get_page(u)\n",
    "        pages.append(page)\n",
    "        return pages\n",
    "        \n",
    "def download_pic(url, name):\n",
    "    req = requests.get(url)\n",
    "    path = 'test/杨幂'+str(name)+\".jpg\"\n",
    "    with open(path, 'wb+') as file:\n",
    "        file.write(req.content)\n",
    "    #将锁打开避免堵塞\n",
    "    thread_lock.release()\n",
    "        \n",
    "def main(label):\n",
    "    pages = pages_usr(label)\n",
    "    pic_urls = pic_urls_find_part(pages)\n",
    "    numbers = 0\n",
    "    for url in pic_urls:\n",
    "        numbers += 1\n",
    "        print(\"Now Downloading: {}\".format(numbers))\n",
    "        \n",
    "        #锁上，并开始执行\n",
    "        thread_lock.acquire()\n",
    "        t = threading.Thread(target=download_pic, args=(url, numbers))\n",
    "        t.start()\n",
    "        \n",
    "main('杨幂')"
   ]
  },
  {
   "cell_type": "markdown",
   "metadata": {},
   "source": [
    "> 参考：\n",
    "\n",
    "1. [从零起步 系统入门Python爬虫工程师](https://coding.imooc.com/class/chapter/325.html)"
   ]
  }
 ],
 "metadata": {
  "kernelspec": {
   "display_name": "Python 3",
   "language": "python",
   "name": "python3"
  },
  "language_info": {
   "codemirror_mode": {
    "name": "ipython",
    "version": 3
   },
   "file_extension": ".py",
   "mimetype": "text/x-python",
   "name": "python",
   "nbconvert_exporter": "python",
   "pygments_lexer": "ipython3",
   "version": "3.6.1"
  },
  "toc": {
   "base_numbering": 1,
   "nav_menu": {},
   "number_sections": false,
   "sideBar": true,
   "skip_h1_title": false,
   "title_cell": "Table of Contents",
   "title_sidebar": "Contents",
   "toc_cell": false,
   "toc_position": {
    "height": "calc(100% - 180px)",
    "left": "10px",
    "top": "150px",
    "width": "165px"
   },
   "toc_section_display": true,
   "toc_window_display": false
  },
  "varInspector": {
   "cols": {
    "lenName": 16,
    "lenType": 16,
    "lenVar": 40
   },
   "kernels_config": {
    "python": {
     "delete_cmd_postfix": "",
     "delete_cmd_prefix": "del ",
     "library": "var_list.py",
     "varRefreshCmd": "print(var_dic_list())"
    },
    "r": {
     "delete_cmd_postfix": ") ",
     "delete_cmd_prefix": "rm(",
     "library": "var_list.r",
     "varRefreshCmd": "cat(var_dic_list()) "
    }
   },
   "types_to_exclude": [
    "module",
    "function",
    "builtin_function_or_method",
    "instance",
    "_Feature"
   ],
   "window_display": false
  }
 },
 "nbformat": 4,
 "nbformat_minor": 2
}
