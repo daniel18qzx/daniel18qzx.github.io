{
 "cells": [
  {
   "cell_type": "markdown",
   "metadata": {},
   "source": [
    "---\n",
    "title: LeetCode 185_部门工资前三高的所有员工\n",
    "date: 2019-09-10\n",
    "categories: [LeetCode, Database]\n",
    "mathjax: false\n",
    "---"
   ]
  },
  {
   "cell_type": "markdown",
   "metadata": {},
   "source": [
    "## 题目描述"
   ]
  },
  {
   "cell_type": "markdown",
   "metadata": {},
   "source": [
    "Employee 表包含所有员工信息，每个员工有其对应的工号 Id，姓名 Name，工资 Salary 和部门编号 DepartmentId 。\n",
    "\n",
    "```\n",
    "+----+-------+--------+--------------+\n",
    "| Id | Name  | Salary | DepartmentId |\n",
    "+----+-------+--------+--------------+\n",
    "| 1  | Joe   | 85000  | 1            |\n",
    "| 2  | Henry | 80000  | 2            |\n",
    "| 3  | Sam   | 60000  | 2            |\n",
    "| 4  | Max   | 90000  | 1            |\n",
    "| 5  | Janet | 69000  | 1            |\n",
    "| 6  | Randy | 85000  | 1            |\n",
    "| 7  | Will  | 70000  | 1            |\n",
    "+----+-------+--------+--------------+\n",
    "```\n",
    "\n",
    "Department 表包含公司所有部门的信息。\n",
    "\n",
    "```\n",
    "+----+----------+\n",
    "| Id | Name     |\n",
    "+----+----------+\n",
    "| 1  | IT       |\n",
    "| 2  | Sales    |\n",
    "+----+----------+\n",
    "```\n",
    "\n",
    "编写一个 SQL 查询，找出每个部门获得前三高工资的所有员工。例如，根据上述给定的表，查询结果应返回：\n",
    "\n",
    "```\n",
    "+------------+----------+--------+\n",
    "| Department | Employee | Salary |\n",
    "+------------+----------+--------+\n",
    "| IT         | Max      | 90000  |\n",
    "| IT         | Randy    | 85000  |\n",
    "| IT         | Joe      | 85000  |\n",
    "| IT         | Will     | 70000  |\n",
    "| Sales      | Henry    | 80000  |\n",
    "| Sales      | Sam      | 60000  |\n",
    "+------------+----------+--------+\n",
    "```\n",
    "\n",
    "解释：\n",
    "\n",
    "IT 部门中，Max 获得了最高的工资，Randy 和 Joe 都拿到了第二高的工资，Will 的工资排第三。销售部门（Sales）只有两名员工，Henry 的工资最高，Sam 的工资排第二。"
   ]
  },
  {
   "cell_type": "markdown",
   "metadata": {},
   "source": [
    "## 解题思路"
   ]
  },
  {
   "cell_type": "markdown",
   "metadata": {},
   "source": [
    "1. Employee join Employee，取出比自己大的数目小于3的\n",
    "2. 再取所需维度，where id 在上面筛选出来的\n",
    "3. hive中直接用 row_number() over(partition by DepartmentId order by Salary desc) as rank，外面再包一层 rank <= 3 即可"
   ]
  },
  {
   "cell_type": "markdown",
   "metadata": {},
   "source": [
    "## code"
   ]
  },
  {
   "cell_type": "code",
   "execution_count": 1,
   "metadata": {
    "ExecuteTime": {
     "end_time": "2019-09-09T13:04:00.921923Z",
     "start_time": "2019-09-09T13:03:59.561130Z"
    },
    "collapsed": true,
    "scrolled": false
   },
   "outputs": [],
   "source": [
    "# Write your MySQL query statement below\n",
    "select\n",
    "    d.Name as 'Department',\n",
    "    c.Name as 'Employee',\n",
    "    c.Salary as 'Salary'\n",
    "from Employee c\n",
    "inner join Department d\n",
    "    on c.DepartmentId = d.Id\n",
    "where c.Id in \n",
    "    (select\n",
    "        a.Id\n",
    "    from Employee a\n",
    "    left join Employee b\n",
    "        on a.DepartmentId = b.DepartmentId \n",
    "            and a.Salary < b.Salary\n",
    "    group by a.Id\n",
    "    having count(distinct b.Salary) < 3)\n",
    "order by d.Name, c.Salary desc, c.Name"
   ]
  },
  {
   "cell_type": "markdown",
   "metadata": {},
   "source": [
    "## 成绩"
   ]
  },
  {
   "cell_type": "markdown",
   "metadata": {},
   "source": [
    "- 用时：331 ms\n",
    "- 内存消耗：N/A"
   ]
  },
  {
   "cell_type": "markdown",
   "metadata": {},
   "source": [
    "> 参考：\n",
    "\n",
    "1. [185. 部门工资前三高的所有员工](https://leetcode-cn.com/problems/department-top-three-salaries/)"
   ]
  }
 ],
 "metadata": {
  "kernelspec": {
   "display_name": "Python 3",
   "language": "python",
   "name": "python3"
  },
  "language_info": {
   "codemirror_mode": {
    "name": "ipython",
    "version": 3
   },
   "file_extension": ".py",
   "mimetype": "text/x-python",
   "name": "python",
   "nbconvert_exporter": "python",
   "pygments_lexer": "ipython3",
   "version": "3.6.1"
  },
  "toc": {
   "base_numbering": 1,
   "nav_menu": {},
   "number_sections": false,
   "sideBar": true,
   "skip_h1_title": false,
   "title_cell": "Table of Contents",
   "title_sidebar": "Contents",
   "toc_cell": false,
   "toc_position": {
    "height": "calc(100% - 180px)",
    "left": "10px",
    "top": "150px",
    "width": "267px"
   },
   "toc_section_display": true,
   "toc_window_display": true
  },
  "varInspector": {
   "cols": {
    "lenName": 16,
    "lenType": 16,
    "lenVar": 40
   },
   "kernels_config": {
    "python": {
     "delete_cmd_postfix": "",
     "delete_cmd_prefix": "del ",
     "library": "var_list.py",
     "varRefreshCmd": "print(var_dic_list())"
    },
    "r": {
     "delete_cmd_postfix": ") ",
     "delete_cmd_prefix": "rm(",
     "library": "var_list.r",
     "varRefreshCmd": "cat(var_dic_list()) "
    }
   },
   "types_to_exclude": [
    "module",
    "function",
    "builtin_function_or_method",
    "instance",
    "_Feature"
   ],
   "window_display": false
  }
 },
 "nbformat": 4,
 "nbformat_minor": 2
}
