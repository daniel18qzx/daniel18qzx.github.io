{
 "cells": [
  {
   "cell_type": "markdown",
   "metadata": {},
   "source": [
    "---\n",
    "title: 线性回归\n",
    "date: 2019-07-14\n",
    "categories: [人工智能, 线性回归]\n",
    "mathjax: true\n",
    "---"
   ]
  },
  {
   "cell_type": "markdown",
   "metadata": {},
   "source": [
    "## 基本配置与标记"
   ]
  },
  {
   "cell_type": "code",
   "execution_count": 1,
   "metadata": {
    "scrolled": true
   },
   "outputs": [
    {
     "name": "stderr",
     "output_type": "stream",
     "text": [
      "/Library/Frameworks/Python.framework/Versions/3.6/lib/python3.6/site-packages/matplotlib/figure.py:98: MatplotlibDeprecationWarning: \n",
      "Adding an axes using the same arguments as a previous axes currently reuses the earlier instance.  In a future version, a new instance will always be created and returned.  Meanwhile, this warning can be suppressed, and the future behavior ensured, by passing a unique label to each axes instance.\n",
      "  \"Adding an axes using the same arguments as a previous axes \"\n"
     ]
    }
   ],
   "source": [
    "#coding:utf-8\n",
    "\n",
    "import numpy as np\n",
    "import matplotlib.pyplot as plt\n",
    "from pylab import *\n",
    "\n",
    "# 定义数据部分\n",
    "x = np.arange(0., 10, 0.2)\n",
    "y1 = np.cos(x)\n",
    "y2 = np.sin(x)\n",
    "y3 = np.sqrt(x)\n",
    "\n",
    "# 绘制 3 条函数曲线\n",
    "plt.plot(x, y1, color='blue', linewidth=1.5, linestyle='-', marker='.', label=r'$y = cos{x}$')\n",
    "plt.plot(x, y2, color='green', linewidth=1.5, linestyle='-', marker='*', label=r'$y = sin{x}$')\n",
    "plt.plot(x, y3, color='m', linewidth=1.5, linestyle='-', marker='x', label=r'$y = \\sqrt{x}$')\n",
    "\n",
    "# 坐标轴上移\n",
    "ax = plt.subplot(111)\n",
    "ax.spines['right'].set_color('none')     # 去掉右边的边框线\n",
    "ax.spines['top'].set_color('none')       # 去掉上边的边框线\n",
    "\n",
    "# 移动下边边框线，相当于移动 X 轴\n",
    "ax.xaxis.set_ticks_position('bottom')    \n",
    "ax.spines['bottom'].set_position(('data', 0))\n",
    "\n",
    "# 移动左边边框线，相当于移动 y 轴\n",
    "ax.yaxis.set_ticks_position('left')\n",
    "ax.spines['left'].set_position(('data', 0))\n",
    "\n",
    "# 设置 x, y 轴的取值范围\n",
    "plt.xlim(x.min()*1.1, x.max()*1.1)\n",
    "plt.ylim(-1.5, 4.0)\n",
    "\n",
    "# 设置 x, y 轴的刻度值\n",
    "plt.xticks([2, 4, 6, 8, 10], [r'2', r'4', r'6', r'8', r'10'])\n",
    "plt.yticks([-1.0, 0.0, 1.0, 2.0, 3.0, 4.0], \n",
    "    [r'-1.0', r'0.0', r'1.0', r'2.0', r'3.0', r'4.0'])\n",
    "\n",
    "# 添加文字\n",
    "plt.text(4, 1.68, r'$x \\in [0.0, \\ 10.0]$', color='k', fontsize=15)\n",
    "plt.text(4, 1.38, r'$y \\in [-1.0, \\ 4.0]$', color='k', fontsize=15)\n",
    "\n",
    "# 特殊点添加注解\n",
    "plt.scatter([8,],[np.sqrt(8),], 50, color ='m')  # 使用散点图放大当前点\n",
    "plt.annotate(r'$2\\sqrt{2}$', xy=(8, np.sqrt(8)), xytext=(8.5, 2.2), fontsize=16, color='#090909', arrowprops=dict(arrowstyle='->', connectionstyle='arc3, rad=0.1', color='#090909'))\n",
    "\n",
    "# 设置标题、x轴、y轴\n",
    "plt.title(r'$the \\ function \\ figure \\ of \\ cos(), \\ sin() \\ and \\ sqrt()$', fontsize=19)\n",
    "plt.xlabel(r'$the \\ input \\ value \\ of \\ x$', fontsize=18, labelpad=88.8)\n",
    "plt.ylabel(r'$y = f(x)$', fontsize=18, labelpad=12.5)\n",
    "\n",
    "# 设置图例及位置\n",
    "plt.legend(loc='upper right')    \n",
    "# plt.legend(['cos(x)', 'sin(x)', 'sqrt(x)'], loc='up right')\n",
    "\n",
    "# 显示网格线\n",
    "plt.grid(True)    \n",
    "\n",
    "# 绘图\n",
    "plt.savefig(\"../img/2019-06-24_Matplotlib基本语法_1.png\")\n",
    "plt.close()"
   ]
  },
  {
   "cell_type": "markdown",
   "metadata": {},
   "source": [
    "![](/img/2019-06-24_Matplotlib基本语法_1.png)"
   ]
  },
  {
   "cell_type": "markdown",
   "metadata": {},
   "source": [
    "> 参考：\n",
    "\n",
    "1. [从机器学习到深度学习：基于Scikit-learn与TensorFlow的高效开发实战](http://www.broadview.com.cn/book/5337)"
   ]
  }
 ],
 "metadata": {
  "kernelspec": {
   "display_name": "Python 3",
   "language": "python",
   "name": "python3"
  },
  "language_info": {
   "codemirror_mode": {
    "name": "ipython",
    "version": 3
   },
   "file_extension": ".py",
   "mimetype": "text/x-python",
   "name": "python",
   "nbconvert_exporter": "python",
   "pygments_lexer": "ipython3",
   "version": "3.7.1"
  },
  "varInspector": {
   "cols": {
    "lenName": 16,
    "lenType": 16,
    "lenVar": 40
   },
   "kernels_config": {
    "python": {
     "delete_cmd_postfix": "",
     "delete_cmd_prefix": "del ",
     "library": "var_list.py",
     "varRefreshCmd": "print(var_dic_list())"
    },
    "r": {
     "delete_cmd_postfix": ") ",
     "delete_cmd_prefix": "rm(",
     "library": "var_list.r",
     "varRefreshCmd": "cat(var_dic_list()) "
    }
   },
   "types_to_exclude": [
    "module",
    "function",
    "builtin_function_or_method",
    "instance",
    "_Feature"
   ],
   "window_display": false
  }
 },
 "nbformat": 4,
 "nbformat_minor": 2
}
