{
 "cells": [
  {
   "cell_type": "markdown",
   "metadata": {},
   "source": [
    "---\n",
    "title: Pandas移动窗口\n",
    "date: 2019-09-01\n",
    "categories: [基本语法, Pandas]\n",
    "mathjax: false\n",
    "---"
   ]
  },
  {
   "cell_type": "markdown",
   "metadata": {},
   "source": [
    "## 简单范例"
   ]
  },
  {
   "cell_type": "code",
   "execution_count": 15,
   "metadata": {
    "ExecuteTime": {
     "end_time": "2019-08-29T10:21:36.482096Z",
     "start_time": "2019-08-29T10:21:36.463140Z"
    },
    "scrolled": true
   },
   "outputs": [
    {
     "data": {
      "text/plain": [
       "2019-01-16     4\n",
       "2019-01-17     8\n",
       "2019-01-18     6\n",
       "2019-01-19     5\n",
       "2019-01-20     9\n",
       "2019-01-21     1\n",
       "2019-01-22     4\n",
       "2019-01-23     5\n",
       "2019-01-24     2\n",
       "2019-01-25     4\n",
       "2019-01-26     6\n",
       "2019-01-27     7\n",
       "2019-01-28     9\n",
       "2019-01-29    13\n",
       "2019-01-30     6\n",
       "Freq: D, dtype: int64"
      ]
     },
     "execution_count": 15,
     "metadata": {},
     "output_type": "execute_result"
    }
   ],
   "source": [
    "import matplotlib.pyplot as plt\n",
    "import numpy as np\n",
    "import pandas as pd\n",
    "\n",
    "index = pd.date_range('20190116', '20190130')\n",
    "data = [4, 8, 6, 5, 9, 1, 4, 5, 2, 4, 6, 7, 9, 13, 6]\n",
    "ser_data = pd.Series(data, index=index)\n",
    "ser_data"
   ]
  },
  {
   "cell_type": "code",
   "execution_count": 5,
   "metadata": {},
   "outputs": [
    {
     "data": {
      "text/plain": [
       "2019-01-16         NaN\n",
       "2019-01-17         NaN\n",
       "2019-01-18    6.000000\n",
       "2019-01-19    6.333333\n",
       "2019-01-20    6.666667\n",
       "2019-01-21    5.000000\n",
       "2019-01-22    4.666667\n",
       "2019-01-23    3.333333\n",
       "2019-01-24    3.666667\n",
       "2019-01-25    3.666667\n",
       "2019-01-26    4.000000\n",
       "2019-01-27    5.666667\n",
       "2019-01-28    7.333333\n",
       "2019-01-29    9.666667\n",
       "2019-01-30    9.333333\n",
       "Freq: D, dtype: float64"
      ]
     },
     "execution_count": 5,
     "metadata": {},
     "output_type": "execute_result"
    }
   ],
   "source": [
    "ser_data.rolling(3).mean()"
   ]
  },
  {
   "cell_type": "code",
   "execution_count": 6,
   "metadata": {},
   "outputs": [
    {
     "data": {
      "text/plain": [
       "2019-01-16    4.000000\n",
       "2019-01-17    6.000000\n",
       "2019-01-18    6.000000\n",
       "2019-01-19    6.333333\n",
       "2019-01-20    6.666667\n",
       "2019-01-21    5.000000\n",
       "2019-01-22    4.666667\n",
       "2019-01-23    3.333333\n",
       "2019-01-24    3.666667\n",
       "2019-01-25    3.666667\n",
       "2019-01-26    4.000000\n",
       "2019-01-27    5.666667\n",
       "2019-01-28    7.333333\n",
       "2019-01-29    9.666667\n",
       "2019-01-30    9.333333\n",
       "Freq: D, dtype: float64"
      ]
     },
     "execution_count": 6,
     "metadata": {},
     "output_type": "execute_result"
    }
   ],
   "source": [
    "ser_data.rolling(3, min_periods=1).mean()"
   ]
  },
  {
   "cell_type": "code",
   "execution_count": 17,
   "metadata": {},
   "outputs": [],
   "source": [
    "index = pd.date_range('20190116', '20190216')\n",
    "data = np.random.randint(20, size=len(index))\n",
    "ser_data = pd.Series(data, index=index)\n",
    "\n",
    "plt.figure(figsize=(15, 5))\n",
    "\n",
    "ser_data.plot(style='r--', label='原数据')\n",
    "ser_data.rolling(3).mean().plot(style='b', label='滑动平滑后')\n",
    "\n",
    "plt.legend()\n",
    "\n",
    "plt.savefig(\"../img/2019-09-01_Pandas移动窗口.png\")\n",
    "plt.close()"
   ]
  },
  {
   "cell_type": "markdown",
   "metadata": {},
   "source": [
    "![](/img/2019-09-01_Pandas移动窗口.png)"
   ]
  },
  {
   "cell_type": "markdown",
   "metadata": {},
   "source": [
    "> 参考：\n",
    "\n",
    "1. [移动窗口函数rolling](http://blog.sina.com.cn/s/blog_c32439660102x2kp.html)\n",
    "2. [pandas 0.17.0 documentation](https://pandas.pydata.org/pandas-docs/version/0.17.0/generated/pandas.rolling_window.html)\n",
    "3. [python时间序列分析之_用pandas中的rolling函数计算时间窗口数据](https://baijiahao.baidu.com/s?id=1622798772654712959&wfr=spider&for=pc)"
   ]
  }
 ],
 "metadata": {
  "kernelspec": {
   "display_name": "Python 3",
   "language": "python",
   "name": "python3"
  },
  "language_info": {
   "codemirror_mode": {
    "name": "ipython",
    "version": 3
   },
   "file_extension": ".py",
   "mimetype": "text/x-python",
   "name": "python",
   "nbconvert_exporter": "python",
   "pygments_lexer": "ipython3",
   "version": "3.6.2"
  },
  "toc": {
   "base_numbering": 1,
   "nav_menu": {},
   "number_sections": false,
   "sideBar": true,
   "skip_h1_title": false,
   "title_cell": "Table of Contents",
   "title_sidebar": "Contents",
   "toc_cell": false,
   "toc_position": {
    "height": "calc(100% - 180px)",
    "left": "10px",
    "top": "150px",
    "width": "201px"
   },
   "toc_section_display": true,
   "toc_window_display": true
  },
  "varInspector": {
   "cols": {
    "lenName": 16,
    "lenType": 16,
    "lenVar": 40
   },
   "kernels_config": {
    "python": {
     "delete_cmd_postfix": "",
     "delete_cmd_prefix": "del ",
     "library": "var_list.py",
     "varRefreshCmd": "print(var_dic_list())"
    },
    "r": {
     "delete_cmd_postfix": ") ",
     "delete_cmd_prefix": "rm(",
     "library": "var_list.r",
     "varRefreshCmd": "cat(var_dic_list()) "
    }
   },
   "types_to_exclude": [
    "module",
    "function",
    "builtin_function_or_method",
    "instance",
    "_Feature"
   ],
   "window_display": false
  }
 },
 "nbformat": 4,
 "nbformat_minor": 2
}
