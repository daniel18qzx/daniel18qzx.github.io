{
 "cells": [
  {
   "cell_type": "markdown",
   "metadata": {},
   "source": [
    "---\n",
    "title: LeetCode 601_体育馆的人流量\n",
    "date: 2019-09-11\n",
    "categories: [LeetCode, Database]\n",
    "mathjax: false\n",
    "---"
   ]
  },
  {
   "cell_type": "markdown",
   "metadata": {},
   "source": [
    "## 题目描述"
   ]
  },
  {
   "cell_type": "markdown",
   "metadata": {},
   "source": [
    "X 市建了一个新的体育馆，每日人流量信息被记录在这三列信息中：序号 (id)、日期 (visit_date)、 人流量 (people)。\n",
    "\n",
    "请编写一个查询语句，找出人流量的高峰期。高峰期时，至少连续三行记录中的人流量不少于100。\n",
    "\n",
    "例如，表 stadium：\n",
    "\n",
    "```\n",
    "+------+------------+-----------+\n",
    "| id   | visit_date | people    |\n",
    "+------+------------+-----------+\n",
    "| 1    | 2017-01-01 | 10        |\n",
    "| 2    | 2017-01-02 | 109       |\n",
    "| 3    | 2017-01-03 | 150       |\n",
    "| 4    | 2017-01-04 | 99        |\n",
    "| 5    | 2017-01-05 | 145       |\n",
    "| 6    | 2017-01-06 | 1455      |\n",
    "| 7    | 2017-01-07 | 199       |\n",
    "| 8    | 2017-01-08 | 188       |\n",
    "+------+------------+-----------+\n",
    "```\n",
    "\n",
    "对于上面的示例数据，输出为：\n",
    "\n",
    "```\n",
    "+------+------------+-----------+\n",
    "| id   | visit_date | people    |\n",
    "+------+------------+-----------+\n",
    "| 5    | 2017-01-05 | 145       |\n",
    "| 6    | 2017-01-06 | 1455      |\n",
    "| 7    | 2017-01-07 | 199       |\n",
    "| 8    | 2017-01-08 | 188       |\n",
    "+------+------------+-----------+\n",
    "```"
   ]
  },
  {
   "cell_type": "markdown",
   "metadata": {},
   "source": [
    "## 解题思路"
   ]
  },
  {
   "cell_type": "markdown",
   "metadata": {},
   "source": [
    "1. 单表多次拼接\n",
    "2. 将连续日期写在where条件里判断"
   ]
  },
  {
   "cell_type": "markdown",
   "metadata": {},
   "source": [
    "## code"
   ]
  },
  {
   "cell_type": "code",
   "execution_count": 1,
   "metadata": {
    "ExecuteTime": {
     "end_time": "2019-09-09T13:04:00.921923Z",
     "start_time": "2019-09-09T13:03:59.561130Z"
    },
    "collapsed": true,
    "scrolled": false
   },
   "outputs": [],
   "source": [
    "# Write your MySQL query statement below\n",
    "select\n",
    "    distinct a.*\n",
    "from\n",
    "    stadium a,\n",
    "    stadium b,\n",
    "    stadium c\n",
    "where\n",
    "        a.people>=100 \n",
    "    and b.people>=100\n",
    "    and c.people>=100\n",
    "    and (\n",
    "     (a.id = b.id-1 and b.id = c.id -1) or\n",
    "     (a.id = b.id-1 and a.id = c.id +1) or\n",
    "     (a.id = b.id+1 and b.id = c.id +1)) \n",
    "order by a.id"
   ]
  },
  {
   "cell_type": "markdown",
   "metadata": {},
   "source": [
    "## 成绩"
   ]
  },
  {
   "cell_type": "markdown",
   "metadata": {},
   "source": [
    "- 用时：138 ms\n",
    "- 内存消耗：N/A"
   ]
  },
  {
   "cell_type": "markdown",
   "metadata": {},
   "source": [
    "> 参考：\n",
    "\n",
    "1. [601. 体育馆的人流量](https://leetcode-cn.com/problems/human-traffic-of-stadium/)"
   ]
  }
 ],
 "metadata": {
  "kernelspec": {
   "display_name": "Python 3",
   "language": "python",
   "name": "python3"
  },
  "language_info": {
   "codemirror_mode": {
    "name": "ipython",
    "version": 3
   },
   "file_extension": ".py",
   "mimetype": "text/x-python",
   "name": "python",
   "nbconvert_exporter": "python",
   "pygments_lexer": "ipython3",
   "version": "3.6.1"
  },
  "toc": {
   "base_numbering": 1,
   "nav_menu": {},
   "number_sections": false,
   "sideBar": true,
   "skip_h1_title": false,
   "title_cell": "Table of Contents",
   "title_sidebar": "Contents",
   "toc_cell": false,
   "toc_position": {
    "height": "calc(100% - 180px)",
    "left": "10px",
    "top": "150px",
    "width": "267px"
   },
   "toc_section_display": true,
   "toc_window_display": true
  },
  "varInspector": {
   "cols": {
    "lenName": 16,
    "lenType": 16,
    "lenVar": 40
   },
   "kernels_config": {
    "python": {
     "delete_cmd_postfix": "",
     "delete_cmd_prefix": "del ",
     "library": "var_list.py",
     "varRefreshCmd": "print(var_dic_list())"
    },
    "r": {
     "delete_cmd_postfix": ") ",
     "delete_cmd_prefix": "rm(",
     "library": "var_list.r",
     "varRefreshCmd": "cat(var_dic_list()) "
    }
   },
   "types_to_exclude": [
    "module",
    "function",
    "builtin_function_or_method",
    "instance",
    "_Feature"
   ],
   "window_display": false
  }
 },
 "nbformat": 4,
 "nbformat_minor": 2
}
