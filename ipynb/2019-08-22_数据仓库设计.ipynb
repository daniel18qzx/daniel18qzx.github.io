{
 "cells": [
  {
   "cell_type": "markdown",
   "metadata": {},
   "source": [
    "---\n",
    "title: 数据仓库设计\n",
    "date: 2019-08-22\n",
    "categories: [大数据建设, 数据仓库]\n",
    "mathjax: false\n",
    "---"
   ]
  },
  {
   "cell_type": "markdown",
   "metadata": {},
   "source": [
    "## 基本介绍"
   ]
  },
  {
   "cell_type": "markdown",
   "metadata": {},
   "source": [
    "数据仓库是一个**面向主题的**、**集成的**、**相对稳定的**且**反映历史变化的**数据集合，用于支持管理人员的决策\n",
    "\n",
    "- **面向主题的**：为特定的数据分析领域与目标提供数据支持，比如交易库、用户库等\n",
    "- **集成的**：面向分析的数据仓库需要集成多种不同数据源以及文件以进行比较鉴别\n",
    "- **相对稳定的**：数据仓库中的数据是经过抽取而形成的分析型数据，主要供企业决策分析之用，执行的主要是‘查询’操作，一般不执行‘更新’操作。一个稳定的数据环境有利于数据分析的纵向和横向对比\n",
    "- **反映历史变化的**：数据仓库中的数据以一定时间段为单位进行统一更新，不断增加新的数据内容、不断删去旧的数据内容、更新与时间有关的综合数据"
   ]
  },
  {
   "cell_type": "markdown",
   "metadata": {},
   "source": [
    "|　 | 数据库系统设计 | 数据仓库系统设计|\n",
    "|-|-|-|\n",
    "|面向的数据类型 | 面向应用 | 面向分析|\n",
    "|应用需求 | 比较明确 | 不太明确|\n",
    "|系统设计目标 | 事务处理的并发性、安全性、高效性 | 历史数据的存储，数据质量的提升和数据模型的构建|\n",
    "|数据来源 | 业务输入 | 业务系统|\n",
    "|系统设计的方法 | 需求驱动 | 数据驱动|"
   ]
  },
  {
   "cell_type": "markdown",
   "metadata": {},
   "source": [
    "## 体系结构"
   ]
  },
  {
   "cell_type": "markdown",
   "metadata": {},
   "source": [
    "![](/img/2019-08-22_数据仓库设计_1.png)"
   ]
  },
  {
   "cell_type": "markdown",
   "metadata": {},
   "source": [
    "## 模型"
   ]
  },
  {
   "cell_type": "markdown",
   "metadata": {},
   "source": [
    "### 星形模型"
   ]
  },
  {
   "cell_type": "markdown",
   "metadata": {},
   "source": [
    "- 星型模型组成：\n",
    "    - 一个包含大批数据和不冗余数据的事实表（中心表）\n",
    "    - 一组小的附属表，称为维表。每维一个\n",
    "- 事实表中每条元组都含有指向各个维表的外键和一些相应的测量数据，事实表的记录数量很多，维表中记录的是有关这一维的属性"
   ]
  },
  {
   "cell_type": "markdown",
   "metadata": {},
   "source": [
    "![](http://www.ibm.com/developerworks/cn/rational/r-warehouses/images/image005.png)"
   ]
  },
  {
   "cell_type": "markdown",
   "metadata": {},
   "source": [
    "### 雪花模型"
   ]
  },
  {
   "cell_type": "markdown",
   "metadata": {},
   "source": [
    "- 雪花模型是对星型模型维表的进一步层次化\n",
    "- 原来的各维表可能被扩展为小的事实表，形成一些局部的“层次”区域"
   ]
  },
  {
   "cell_type": "markdown",
   "metadata": {},
   "source": [
    "![](http://www.ibm.com/developerworks/cn/rational/r-warehouses/images/image013.png)"
   ]
  },
  {
   "cell_type": "markdown",
   "metadata": {},
   "source": [
    "### 比较"
   ]
  },
  {
   "cell_type": "markdown",
   "metadata": {},
   "source": [
    "雪花模式的维表是规范化的，以减少冗余。这种表易于维护，并节省存储空间。但与巨大的事实表相比，这种空间的节省可以忽略\n",
    "\n",
    "由于执行查询需要更多的连接操作，雪花结构可能降低浏览的性能。\n",
    "在数据仓库设计中，星型模式更加常用"
   ]
  },
  {
   "cell_type": "markdown",
   "metadata": {},
   "source": [
    "## 五层模型架构"
   ]
  },
  {
   "cell_type": "markdown",
   "metadata": {},
   "source": [
    "|　　　　　|  数据来源及建模方式 | 服务领域 |设计原则|\n",
    "|-|-|-|-|\n",
    "|DM层 | 数据来自DWS和MID层，应用支撑 | 前端报表展现，数据分析，产品数据支撑 | 面向应用开发报表、支撑产品需求|\n",
    "|DWS层 | 数据来自MID和DWD层，轻度汇总，面向应用结合数据设计 | 各类服务模块，原子指标，通用应用模型开发 |基于数据面向应用和通用服务，该层模型随需求变更会不断演化|\n",
    "|MID层 | 数据来自DWD层，是MID事实明细层，采用维度建模，星型架构 |为数据仓库提供各主题业务明细数据 |分业务线按主题建模，数据只来自于DWD|\n",
    "|DWD层 | 数据来自ODS层,数据模型是ODS一致 |数据质量提升，数据清洗、码值标准化，数据加密，数据校验 |加密脱敏及治理后的规整数据，对外开放查询|\n",
    "|ODS层 | 数据准备区，数据来源是各业务系统的源数据，物理模型和业务系统模型一致。 |为其它逻辑层提供数据，数据溯源，数据存储 |原始数据，不对外开放查询使用|"
   ]
  },
  {
   "cell_type": "markdown",
   "metadata": {},
   "source": [
    "- 细化DW建模\n",
    "    - 对DW中各个主题业务建模进行了细分，每个层次具有不同的功能。\n",
    "    - 保留了最细粒度数据\n",
    "    - 满足了不同维度，不同事实的信息\n",
    "    \n",
    "    \n",
    "- 满足数据重新生成\n",
    "    - 不同层次的数据支持数据重新生成\n",
    "    - 无需备份恢复\n",
    "    - 解决了由不同故障带来的数据质量问题\n",
    "    - 消除了重新初始化数据的烦恼\n",
    "    \n",
    "    \n",
    "- 快速适应需求变更\n",
    "    - 适应维度变化\n",
    "    - 明细基础数据层稳定，适应前端应用层业务需求变更\n",
    "    - 所有前端应用层模型之间不存在依赖，需求变更对DW整个模型影响范围小 \n",
    "    - 能适应短周期内上线下线需求"
   ]
  },
  {
   "cell_type": "markdown",
   "metadata": {},
   "source": [
    "## 元数据管理"
   ]
  },
  {
   "cell_type": "markdown",
   "metadata": {},
   "source": [
    "最基本的元数据相当于数据库系统中的数据字典。元数据定义了数据仓库有什么，指明了数据仓库中数据的内容和位置，刻画了数据的抽取和转换规则，存储了与数据仓库主题有关的各种商业信息，而且整个数据仓库的运行都是基于元数据的\n",
    "\n",
    "- 数据源的元数据\n",
    "- 数据模型的元数据\n",
    "- 数据仓库映射的元数据\n",
    "- 数据仓库使用的元数据"
   ]
  },
  {
   "cell_type": "markdown",
   "metadata": {},
   "source": [
    "## 构建方法"
   ]
  },
  {
   "cell_type": "markdown",
   "metadata": {},
   "source": [
    "### 自上而下（Bill Inmon）"
   ]
  },
  {
   "cell_type": "markdown",
   "metadata": {},
   "source": [
    "- 从整个企业的业务环境入手，分析其中的概念，应该有什么样的数据，达成概念完整性，并不从它需要支持那些应用入手\n",
    "- 一个企业建立唯一的数据中心，就像一个数据的仓库，其中数据是经过整合、经过清洗、去掉脏数据的、标准的，能够提供统一的视图"
   ]
  },
  {
   "cell_type": "markdown",
   "metadata": {},
   "source": [
    "### 自下而上（Ralph Kimbal）"
   ]
  },
  {
   "cell_type": "markdown",
   "metadata": {},
   "source": [
    "- 按照实际的应用需求，加载需要的数据，不需要的数据不必要加载到数据仓库当中\n",
    "- 这种方式建设周期较短，客户能够很快看到结果，适合做项目类数据仓库"
   ]
  },
  {
   "cell_type": "markdown",
   "metadata": {},
   "source": [
    "### 混合法"
   ]
  },
  {
   "cell_type": "markdown",
   "metadata": {},
   "source": [
    "- 结合自上而下、自下而上两种构造数据仓库的方法，结合企业自身特点，分析业务环境构造数据仓库底层数据基础，再按照实际的应用需求构造数据仓库上层数据"
   ]
  },
  {
   "cell_type": "markdown",
   "metadata": {},
   "source": [
    "### 应避免的设计"
   ]
  },
  {
   "cell_type": "markdown",
   "metadata": {},
   "source": [
    "- 任务间依赖较乱\n",
    "- 链路太长\n",
    "- 数据质量低\n",
    "- 数据安全级别低\n",
    "- 元数据信息缺失\n",
    "- 码值无标准"
   ]
  },
  {
   "cell_type": "markdown",
   "metadata": {},
   "source": [
    "## 架构原则"
   ]
  },
  {
   "cell_type": "markdown",
   "metadata": {},
   "source": [
    "- 底层业务的数据驱动为导向同时结合业务需求驱动\n",
    "- 便于数据分析\n",
    "    - 屏蔽底层复杂业务\n",
    "    - 简单、完整、集成的将数据暴露给分析层\n",
    "- 底层业务变动与上层需求变动对模型冲击最小化\n",
    "    - 业务系统变化影响削弱在基础数据层（资金订单改造）\n",
    "    - 结合自上而下的建设方法削弱需求变动对模型的影响\n",
    "    - 数据水平层次清晰化\n",
    "- 高内聚松耦合\n",
    "    - 主题之内或各个完整意义的系统内数据的高内聚\n",
    "    - 主题之间或各个完整意义的系统间数据的松耦合\n",
    "- 构建仓库基础数据层\n",
    "    - 使得底层业务数据整合工作与上层应用开发工作相隔离，为仓库大规模开发奠定基础\n",
    "    - 仓库层次更加清晰，对外暴露数据更加统一"
   ]
  },
  {
   "cell_type": "markdown",
   "metadata": {
    "collapsed": true
   },
   "source": [
    "> 参考：\n",
    "\n",
    "1. [数据仓库建模之雪花模型和星形模型](https://www.cnblogs.com/xiaojianblogs/p/7655458.html)\n",
    "2. [支付宝数据建模介绍](https://max.book118.com/html/2017/0618/116376625.shtm)"
   ]
  }
 ],
 "metadata": {
  "kernelspec": {
   "display_name": "Python 3",
   "language": "python",
   "name": "python3"
  },
  "language_info": {
   "codemirror_mode": {
    "name": "ipython",
    "version": 3
   },
   "file_extension": ".py",
   "mimetype": "text/x-python",
   "name": "python",
   "nbconvert_exporter": "python",
   "pygments_lexer": "ipython3",
   "version": "3.6.1"
  },
  "toc": {
   "base_numbering": 1,
   "nav_menu": {},
   "number_sections": false,
   "sideBar": true,
   "skip_h1_title": false,
   "title_cell": "Table of Contents",
   "title_sidebar": "Contents",
   "toc_cell": false,
   "toc_position": {
    "height": "calc(100% - 180px)",
    "left": "10px",
    "top": "150px",
    "width": "165px"
   },
   "toc_section_display": true,
   "toc_window_display": true
  },
  "varInspector": {
   "cols": {
    "lenName": 16,
    "lenType": 16,
    "lenVar": 40
   },
   "kernels_config": {
    "python": {
     "delete_cmd_postfix": "",
     "delete_cmd_prefix": "del ",
     "library": "var_list.py",
     "varRefreshCmd": "print(var_dic_list())"
    },
    "r": {
     "delete_cmd_postfix": ") ",
     "delete_cmd_prefix": "rm(",
     "library": "var_list.r",
     "varRefreshCmd": "cat(var_dic_list()) "
    }
   },
   "types_to_exclude": [
    "module",
    "function",
    "builtin_function_or_method",
    "instance",
    "_Feature"
   ],
   "window_display": false
  }
 },
 "nbformat": 4,
 "nbformat_minor": 2
}
