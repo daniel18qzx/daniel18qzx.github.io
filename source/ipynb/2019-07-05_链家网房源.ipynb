{
 "cells": [
  {
   "cell_type": "markdown",
   "metadata": {},
   "source": [
    "---\n",
    "title: 链家网房源\n",
    "date: 2019-07-05\n",
    "categories: [爬虫开发, 项目]\n",
    "---"
   ]
  },
  {
   "cell_type": "code",
   "execution_count": 7,
   "metadata": {},
   "outputs": [],
   "source": [
    "import requests\n",
    "import time\n",
    "from bs4 import BeautifulSoup"
   ]
  },
  {
   "cell_type": "markdown",
   "metadata": {},
   "source": [
    "## request"
   ]
  },
  {
   "cell_type": "markdown",
   "metadata": {},
   "source": [
    "### 设置列表页URL的固定部分"
   ]
  },
  {
   "cell_type": "code",
   "execution_count": 8,
   "metadata": {},
   "outputs": [],
   "source": [
    "url = 'http://bj.lianjia.com/ershoufang/'\n",
    "\n",
    "#设置页面页的可变部分\n",
    "page = ('pg')"
   ]
  },
  {
   "cell_type": "markdown",
   "metadata": {},
   "source": [
    "### 设置请求头部信息"
   ]
  },
  {
   "cell_type": "code",
   "execution_count": 9,
   "metadata": {},
   "outputs": [],
   "source": [
    "headers = {'User-Agent':'Mozilla/5.0 (Windows NT 6.1) AppleWebKit/537.11 (KHTML, like Gecko) Chrome/23.0.1271.64 Safari/537.11',\n",
    "'Accept':'text/html;q=0.9,*/*;q=0.8',\n",
    "'Accept-Charset':'ISO-8859-1,utf-8;q=0.7,*;q=0.3',\n",
    "'Accept-Encoding':'gzip',\n",
    "'Connection':'close',\n",
    "'Referer':'http://www.baidu.com/link?url=_andhfsjjjKRgEWkj7i9cFmYYGsisrnm2A-TN3XZDQXxvGsM9k9ZZSnikW2Yds4s&amp;amp;wd=&amp;amp;eqid=c3435a7d00146bd600000003582bfd1f'\n",
    "}"
   ]
  },
  {
   "cell_type": "markdown",
   "metadata": {},
   "source": [
    "### 循环抓取列表页信息"
   ]
  },
  {
   "cell_type": "code",
   "execution_count": 10,
   "metadata": {},
   "outputs": [],
   "source": [
    "for i in range(1,2):\n",
    "     if i == 1:\n",
    "          i=str(i)\n",
    "          a=(url+page+i+'/')\n",
    "          r=requests.get(url=a,headers=headers)\n",
    "          html=r.content\n",
    "     else:\n",
    "          i=str(i)\n",
    "          a=(url+page+i+'/')\n",
    "          r=requests.get(url=a,headers=headers)\n",
    "          html2=r.content\n",
    "          html = html + html2\n",
    "     #每次间隔1秒\n",
    "     time.sleep(1)"
   ]
  },
  {
   "cell_type": "markdown",
   "metadata": {},
   "source": [
    "### 解析抓取的页面内容"
   ]
  },
  {
   "cell_type": "code",
   "execution_count": 11,
   "metadata": {},
   "outputs": [],
   "source": [
    "lj=BeautifulSoup(html,'html.parser')"
   ]
  },
  {
   "cell_type": "markdown",
   "metadata": {},
   "source": [
    "### 提取房源总价"
   ]
  },
  {
   "cell_type": "code",
   "execution_count": 12,
   "metadata": {},
   "outputs": [],
   "source": [
    "price=lj.find_all('div','priceInfo')\n",
    "tp=[]\n",
    "for a in price:\n",
    "    totalPrice=a.span.string\n",
    "    tp.append(totalPrice)"
   ]
  },
  {
   "cell_type": "markdown",
   "metadata": {},
   "source": [
    "### 提取房源信息"
   ]
  },
  {
   "cell_type": "code",
   "execution_count": 13,
   "metadata": {},
   "outputs": [],
   "source": [
    "houseInfo=lj.find_all('div',attrs={'class':'houseInfo'})\n",
    " \n",
    "hi=[]\n",
    "for b in houseInfo:\n",
    "    house=b.get_text()\n",
    "    hi.append(house)"
   ]
  },
  {
   "cell_type": "markdown",
   "metadata": {},
   "source": [
    "### 提取房源关注度"
   ]
  },
  {
   "cell_type": "code",
   "execution_count": 14,
   "metadata": {},
   "outputs": [],
   "source": [
    "followInfo=lj.find_all('div',attrs={'class':'followInfo'})\n",
    " \n",
    "fi=[]\n",
    "for c in followInfo:\n",
    "    follow=c.get_text()\n",
    "    fi.append(follow)"
   ]
  },
  {
   "cell_type": "markdown",
   "metadata": {},
   "source": [
    "### DataFrame"
   ]
  },
  {
   "cell_type": "code",
   "execution_count": 30,
   "metadata": {},
   "outputs": [
    {
     "data": {
      "text/html": [
       "<div>\n",
       "<style scoped>\n",
       "    .dataframe tbody tr th:only-of-type {\n",
       "        vertical-align: middle;\n",
       "    }\n",
       "\n",
       "    .dataframe tbody tr th {\n",
       "        vertical-align: top;\n",
       "    }\n",
       "\n",
       "    .dataframe thead th {\n",
       "        text-align: right;\n",
       "    }\n",
       "</style>\n",
       "<table border=\"1\" class=\"dataframe\">\n",
       "  <thead>\n",
       "    <tr style=\"text-align: right;\">\n",
       "      <th></th>\n",
       "      <th>totalprice</th>\n",
       "      <th>houseinfo</th>\n",
       "      <th>followinfo</th>\n",
       "    </tr>\n",
       "  </thead>\n",
       "  <tbody>\n",
       "    <tr>\n",
       "      <th>0</th>\n",
       "      <td>268</td>\n",
       "      <td>农光东里  | 1室1厅 | 37.55平米 | 南 | 精装</td>\n",
       "      <td>150人关注 / 6天以前发布</td>\n",
       "    </tr>\n",
       "    <tr>\n",
       "      <th>1</th>\n",
       "      <td>381</td>\n",
       "      <td>平乐园小区  | 2室1厅 | 60.52平米 | 南 北 | 精装</td>\n",
       "      <td>135人关注 / 18天以前发布</td>\n",
       "    </tr>\n",
       "    <tr>\n",
       "      <th>2</th>\n",
       "      <td>570</td>\n",
       "      <td>科源小区  | 2室1厅 | 65.1平米 | 东 西 | 简装</td>\n",
       "      <td>70人关注 / 5个月以前发布</td>\n",
       "    </tr>\n",
       "    <tr>\n",
       "      <th>3</th>\n",
       "      <td>365</td>\n",
       "      <td>劲松南路  | 2室1厅 | 57.49平米 | 南 北 | 简装</td>\n",
       "      <td>97人关注 / 10天以前发布</td>\n",
       "    </tr>\n",
       "    <tr>\n",
       "      <th>4</th>\n",
       "      <td>688</td>\n",
       "      <td>大井胡同  | 1室1厅 | 38平米 | 南 | 精装</td>\n",
       "      <td>18人关注 / 12天以前发布</td>\n",
       "    </tr>\n",
       "  </tbody>\n",
       "</table>\n",
       "</div>"
      ],
      "text/plain": [
       "  totalprice                           houseinfo        followinfo\n",
       "0        268     农光东里  | 1室1厅 | 37.55平米 | 南 | 精装   150人关注 / 6天以前发布\n",
       "1        381  平乐园小区  | 2室1厅 | 60.52平米 | 南 北 | 精装  135人关注 / 18天以前发布\n",
       "2        570    科源小区  | 2室1厅 | 65.1平米 | 东 西 | 简装   70人关注 / 5个月以前发布\n",
       "3        365   劲松南路  | 2室1厅 | 57.49平米 | 南 北 | 简装   97人关注 / 10天以前发布\n",
       "4        688        大井胡同  | 1室1厅 | 38平米 | 南 | 精装   18人关注 / 12天以前发布"
      ]
     },
     "execution_count": 30,
     "metadata": {},
     "output_type": "execute_result"
    }
   ],
   "source": [
    "import pandas as pd\n",
    "house=pd.DataFrame({'totalprice':tp,'houseinfo':hi,'followinfo':fi})\n",
    "house.head()"
   ]
  },
  {
   "cell_type": "markdown",
   "metadata": {},
   "source": [
    "### 对房源信息进行分列"
   ]
  },
  {
   "cell_type": "code",
   "execution_count": 31,
   "metadata": {},
   "outputs": [
    {
     "data": {
      "text/html": [
       "<div>\n",
       "<style scoped>\n",
       "    .dataframe tbody tr th:only-of-type {\n",
       "        vertical-align: middle;\n",
       "    }\n",
       "\n",
       "    .dataframe tbody tr th {\n",
       "        vertical-align: top;\n",
       "    }\n",
       "\n",
       "    .dataframe thead th {\n",
       "        text-align: right;\n",
       "    }\n",
       "</style>\n",
       "<table border=\"1\" class=\"dataframe\">\n",
       "  <thead>\n",
       "    <tr style=\"text-align: right;\">\n",
       "      <th></th>\n",
       "      <th>小区</th>\n",
       "      <th>户型</th>\n",
       "      <th>面积</th>\n",
       "      <th>朝向</th>\n",
       "      <th>装修</th>\n",
       "    </tr>\n",
       "  </thead>\n",
       "  <tbody>\n",
       "    <tr>\n",
       "      <th>0</th>\n",
       "      <td>农光东里</td>\n",
       "      <td>1室1厅</td>\n",
       "      <td>37.55平米</td>\n",
       "      <td>南</td>\n",
       "      <td>精装</td>\n",
       "    </tr>\n",
       "    <tr>\n",
       "      <th>1</th>\n",
       "      <td>平乐园小区</td>\n",
       "      <td>2室1厅</td>\n",
       "      <td>60.52平米</td>\n",
       "      <td>南 北</td>\n",
       "      <td>精装</td>\n",
       "    </tr>\n",
       "    <tr>\n",
       "      <th>2</th>\n",
       "      <td>科源小区</td>\n",
       "      <td>2室1厅</td>\n",
       "      <td>65.1平米</td>\n",
       "      <td>东 西</td>\n",
       "      <td>简装</td>\n",
       "    </tr>\n",
       "    <tr>\n",
       "      <th>3</th>\n",
       "      <td>劲松南路</td>\n",
       "      <td>2室1厅</td>\n",
       "      <td>57.49平米</td>\n",
       "      <td>南 北</td>\n",
       "      <td>简装</td>\n",
       "    </tr>\n",
       "    <tr>\n",
       "      <th>4</th>\n",
       "      <td>大井胡同</td>\n",
       "      <td>1室1厅</td>\n",
       "      <td>38平米</td>\n",
       "      <td>南</td>\n",
       "      <td>精装</td>\n",
       "    </tr>\n",
       "  </tbody>\n",
       "</table>\n",
       "</div>"
      ],
      "text/plain": [
       "        小区      户型         面积     朝向   装修\n",
       "0   农光东里     1室1厅    37.55平米      南    精装\n",
       "1  平乐园小区     2室1厅    60.52平米    南 北    精装\n",
       "2   科源小区     2室1厅     65.1平米    东 西    简装\n",
       "3   劲松南路     2室1厅    57.49平米    南 北    简装\n",
       "4   大井胡同     1室1厅       38平米      南    精装"
      ]
     },
     "execution_count": 31,
     "metadata": {},
     "output_type": "execute_result"
    }
   ],
   "source": [
    "houseinfo_split = pd.DataFrame((x.split('|') for x in house.houseinfo),index=house.index,columns=['小区','户型','面积','朝向','装修'])\n",
    "houseinfo_split.head()"
   ]
  },
  {
   "cell_type": "markdown",
   "metadata": {},
   "source": [
    "### 将分列结果拼接回原数据表"
   ]
  },
  {
   "cell_type": "code",
   "execution_count": 32,
   "metadata": {},
   "outputs": [
    {
     "data": {
      "text/html": [
       "<div>\n",
       "<style scoped>\n",
       "    .dataframe tbody tr th:only-of-type {\n",
       "        vertical-align: middle;\n",
       "    }\n",
       "\n",
       "    .dataframe tbody tr th {\n",
       "        vertical-align: top;\n",
       "    }\n",
       "\n",
       "    .dataframe thead th {\n",
       "        text-align: right;\n",
       "    }\n",
       "</style>\n",
       "<table border=\"1\" class=\"dataframe\">\n",
       "  <thead>\n",
       "    <tr style=\"text-align: right;\">\n",
       "      <th></th>\n",
       "      <th>totalprice</th>\n",
       "      <th>houseinfo</th>\n",
       "      <th>followinfo</th>\n",
       "      <th>小区</th>\n",
       "      <th>户型</th>\n",
       "      <th>面积</th>\n",
       "      <th>朝向</th>\n",
       "      <th>装修</th>\n",
       "    </tr>\n",
       "  </thead>\n",
       "  <tbody>\n",
       "    <tr>\n",
       "      <th>0</th>\n",
       "      <td>268</td>\n",
       "      <td>农光东里  | 1室1厅 | 37.55平米 | 南 | 精装</td>\n",
       "      <td>150人关注 / 6天以前发布</td>\n",
       "      <td>农光东里</td>\n",
       "      <td>1室1厅</td>\n",
       "      <td>37.55平米</td>\n",
       "      <td>南</td>\n",
       "      <td>精装</td>\n",
       "    </tr>\n",
       "    <tr>\n",
       "      <th>1</th>\n",
       "      <td>381</td>\n",
       "      <td>平乐园小区  | 2室1厅 | 60.52平米 | 南 北 | 精装</td>\n",
       "      <td>135人关注 / 18天以前发布</td>\n",
       "      <td>平乐园小区</td>\n",
       "      <td>2室1厅</td>\n",
       "      <td>60.52平米</td>\n",
       "      <td>南 北</td>\n",
       "      <td>精装</td>\n",
       "    </tr>\n",
       "    <tr>\n",
       "      <th>2</th>\n",
       "      <td>570</td>\n",
       "      <td>科源小区  | 2室1厅 | 65.1平米 | 东 西 | 简装</td>\n",
       "      <td>70人关注 / 5个月以前发布</td>\n",
       "      <td>科源小区</td>\n",
       "      <td>2室1厅</td>\n",
       "      <td>65.1平米</td>\n",
       "      <td>东 西</td>\n",
       "      <td>简装</td>\n",
       "    </tr>\n",
       "    <tr>\n",
       "      <th>3</th>\n",
       "      <td>365</td>\n",
       "      <td>劲松南路  | 2室1厅 | 57.49平米 | 南 北 | 简装</td>\n",
       "      <td>97人关注 / 10天以前发布</td>\n",
       "      <td>劲松南路</td>\n",
       "      <td>2室1厅</td>\n",
       "      <td>57.49平米</td>\n",
       "      <td>南 北</td>\n",
       "      <td>简装</td>\n",
       "    </tr>\n",
       "    <tr>\n",
       "      <th>4</th>\n",
       "      <td>688</td>\n",
       "      <td>大井胡同  | 1室1厅 | 38平米 | 南 | 精装</td>\n",
       "      <td>18人关注 / 12天以前发布</td>\n",
       "      <td>大井胡同</td>\n",
       "      <td>1室1厅</td>\n",
       "      <td>38平米</td>\n",
       "      <td>南</td>\n",
       "      <td>精装</td>\n",
       "    </tr>\n",
       "  </tbody>\n",
       "</table>\n",
       "</div>"
      ],
      "text/plain": [
       "  totalprice                           houseinfo        followinfo       小区  \\\n",
       "0        268     农光东里  | 1室1厅 | 37.55平米 | 南 | 精装   150人关注 / 6天以前发布   农光东里     \n",
       "1        381  平乐园小区  | 2室1厅 | 60.52平米 | 南 北 | 精装  135人关注 / 18天以前发布  平乐园小区     \n",
       "2        570    科源小区  | 2室1厅 | 65.1平米 | 东 西 | 简装   70人关注 / 5个月以前发布   科源小区     \n",
       "3        365   劲松南路  | 2室1厅 | 57.49平米 | 南 北 | 简装   97人关注 / 10天以前发布   劲松南路     \n",
       "4        688        大井胡同  | 1室1厅 | 38平米 | 南 | 精装   18人关注 / 12天以前发布   大井胡同     \n",
       "\n",
       "       户型         面积     朝向   装修  \n",
       "0   1室1厅    37.55平米      南    精装  \n",
       "1   2室1厅    60.52平米    南 北    精装  \n",
       "2   2室1厅     65.1平米    东 西    简装  \n",
       "3   2室1厅    57.49平米    南 北    简装  \n",
       "4   1室1厅       38平米      南    精装  "
      ]
     },
     "execution_count": 32,
     "metadata": {},
     "output_type": "execute_result"
    }
   ],
   "source": [
    "house=pd.merge(house,houseinfo_split,right_index=True, left_index=True)\n",
    "house.head()"
   ]
  },
  {
   "cell_type": "markdown",
   "metadata": {},
   "source": [
    "### 对房源关注度进行分列"
   ]
  },
  {
   "cell_type": "code",
   "execution_count": 33,
   "metadata": {},
   "outputs": [
    {
     "data": {
      "text/html": [
       "<div>\n",
       "<style scoped>\n",
       "    .dataframe tbody tr th:only-of-type {\n",
       "        vertical-align: middle;\n",
       "    }\n",
       "\n",
       "    .dataframe tbody tr th {\n",
       "        vertical-align: top;\n",
       "    }\n",
       "\n",
       "    .dataframe thead th {\n",
       "        text-align: right;\n",
       "    }\n",
       "</style>\n",
       "<table border=\"1\" class=\"dataframe\">\n",
       "  <thead>\n",
       "    <tr style=\"text-align: right;\">\n",
       "      <th></th>\n",
       "      <th>totalprice</th>\n",
       "      <th>houseinfo</th>\n",
       "      <th>followinfo</th>\n",
       "      <th>小区</th>\n",
       "      <th>户型</th>\n",
       "      <th>面积</th>\n",
       "      <th>朝向</th>\n",
       "      <th>装修</th>\n",
       "      <th>guanzhu</th>\n",
       "      <th>fabu</th>\n",
       "    </tr>\n",
       "  </thead>\n",
       "  <tbody>\n",
       "    <tr>\n",
       "      <th>0</th>\n",
       "      <td>268</td>\n",
       "      <td>农光东里  | 1室1厅 | 37.55平米 | 南 | 精装</td>\n",
       "      <td>150人关注 / 6天以前发布</td>\n",
       "      <td>农光东里</td>\n",
       "      <td>1室1厅</td>\n",
       "      <td>37.55平米</td>\n",
       "      <td>南</td>\n",
       "      <td>精装</td>\n",
       "      <td>150人关注</td>\n",
       "      <td>6天以前发布</td>\n",
       "    </tr>\n",
       "    <tr>\n",
       "      <th>1</th>\n",
       "      <td>381</td>\n",
       "      <td>平乐园小区  | 2室1厅 | 60.52平米 | 南 北 | 精装</td>\n",
       "      <td>135人关注 / 18天以前发布</td>\n",
       "      <td>平乐园小区</td>\n",
       "      <td>2室1厅</td>\n",
       "      <td>60.52平米</td>\n",
       "      <td>南 北</td>\n",
       "      <td>精装</td>\n",
       "      <td>135人关注</td>\n",
       "      <td>18天以前发布</td>\n",
       "    </tr>\n",
       "    <tr>\n",
       "      <th>2</th>\n",
       "      <td>570</td>\n",
       "      <td>科源小区  | 2室1厅 | 65.1平米 | 东 西 | 简装</td>\n",
       "      <td>70人关注 / 5个月以前发布</td>\n",
       "      <td>科源小区</td>\n",
       "      <td>2室1厅</td>\n",
       "      <td>65.1平米</td>\n",
       "      <td>东 西</td>\n",
       "      <td>简装</td>\n",
       "      <td>70人关注</td>\n",
       "      <td>5个月以前发布</td>\n",
       "    </tr>\n",
       "    <tr>\n",
       "      <th>3</th>\n",
       "      <td>365</td>\n",
       "      <td>劲松南路  | 2室1厅 | 57.49平米 | 南 北 | 简装</td>\n",
       "      <td>97人关注 / 10天以前发布</td>\n",
       "      <td>劲松南路</td>\n",
       "      <td>2室1厅</td>\n",
       "      <td>57.49平米</td>\n",
       "      <td>南 北</td>\n",
       "      <td>简装</td>\n",
       "      <td>97人关注</td>\n",
       "      <td>10天以前发布</td>\n",
       "    </tr>\n",
       "    <tr>\n",
       "      <th>4</th>\n",
       "      <td>688</td>\n",
       "      <td>大井胡同  | 1室1厅 | 38平米 | 南 | 精装</td>\n",
       "      <td>18人关注 / 12天以前发布</td>\n",
       "      <td>大井胡同</td>\n",
       "      <td>1室1厅</td>\n",
       "      <td>38平米</td>\n",
       "      <td>南</td>\n",
       "      <td>精装</td>\n",
       "      <td>18人关注</td>\n",
       "      <td>12天以前发布</td>\n",
       "    </tr>\n",
       "  </tbody>\n",
       "</table>\n",
       "</div>"
      ],
      "text/plain": [
       "  totalprice                           houseinfo        followinfo       小区  \\\n",
       "0        268     农光东里  | 1室1厅 | 37.55平米 | 南 | 精装   150人关注 / 6天以前发布   农光东里     \n",
       "1        381  平乐园小区  | 2室1厅 | 60.52平米 | 南 北 | 精装  135人关注 / 18天以前发布  平乐园小区     \n",
       "2        570    科源小区  | 2室1厅 | 65.1平米 | 东 西 | 简装   70人关注 / 5个月以前发布   科源小区     \n",
       "3        365   劲松南路  | 2室1厅 | 57.49平米 | 南 北 | 简装   97人关注 / 10天以前发布   劲松南路     \n",
       "4        688        大井胡同  | 1室1厅 | 38平米 | 南 | 精装   18人关注 / 12天以前发布   大井胡同     \n",
       "\n",
       "       户型         面积     朝向   装修  guanzhu      fabu  \n",
       "0   1室1厅    37.55平米      南    精装  150人关注     6天以前发布  \n",
       "1   2室1厅    60.52平米    南 北    精装  135人关注    18天以前发布  \n",
       "2   2室1厅     65.1平米    东 西    简装   70人关注    5个月以前发布  \n",
       "3   2室1厅    57.49平米    南 北    简装   97人关注    10天以前发布  \n",
       "4   1室1厅       38平米      南    精装   18人关注    12天以前发布  "
      ]
     },
     "execution_count": 33,
     "metadata": {},
     "output_type": "execute_result"
    }
   ],
   "source": [
    "followinfo_split = pd.DataFrame((x.split('/') for x in house.followinfo),index=house.index,columns=['guanzhu','fabu'])\n",
    "house=pd.merge(house,followinfo_split,right_index=True, left_index=True)\n",
    "house.head()"
   ]
  },
  {
   "cell_type": "markdown",
   "metadata": {},
   "source": [
    "> 参考：\n",
    "\n",
    "1. [廖雪峰Python数据分析](https://www.julyedu.com/course/getDetail/66/)"
   ]
  }
 ],
 "metadata": {
  "kernelspec": {
   "display_name": "Python 3",
   "language": "python",
   "name": "python3"
  },
  "language_info": {
   "codemirror_mode": {
    "name": "ipython",
    "version": 3
   },
   "file_extension": ".py",
   "mimetype": "text/x-python",
   "name": "python",
   "nbconvert_exporter": "python",
   "pygments_lexer": "ipython3",
   "version": "3.6.2"
  }
 },
 "nbformat": 4,
 "nbformat_minor": 2
}
