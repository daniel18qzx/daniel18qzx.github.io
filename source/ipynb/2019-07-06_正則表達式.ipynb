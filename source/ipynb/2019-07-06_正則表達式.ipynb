{
 "cells": [
  {
   "cell_type": "markdown",
   "metadata": {},
   "source": [
    "---\n",
    "title: 正則表達式\n",
    "date: 2019-07-06\n",
    "categories: [基本语法, 数据处理]\n",
    "---"
   ]
  },
  {
   "cell_type": "markdown",
   "metadata": {},
   "source": [
    "## re用法"
   ]
  },
  {
   "cell_type": "code",
   "execution_count": 86,
   "metadata": {},
   "outputs": [],
   "source": [
    "import re\n",
    "\n",
    "def re_all(regex):\n",
    "    log = 'Thu Mar 14 19:27:38 1991::jvfcho@iwrptlqmyok.edu::668950058-6-11\\n'\n",
    "    print(log)\n",
    "    print(\"\")\n",
    "    \n",
    "    print(\"===返回匹配的字符串（re.search().group()）===\")\n",
    "    print(re.search(regex,log).group())\n",
    "    print(\"\")\n",
    "    \n",
    "    print(\"===列表返回匹配的所有子串(re.findall())===\")\n",
    "    print(re.findall(regex,log))\n",
    "    print(\"\")\n",
    "\n",
    "    print(\"===返回匹配开始的位置（re.search().start()）===\")\n",
    "    print(re.search(regex,log).start())\n",
    "    print(\"\")\n",
    "\n",
    "    print(\"===返回匹配结束的位置（re.search().end()）===\")\n",
    "    print(re.search(regex,log).end())\n",
    "    print(\"\")\n",
    "\n",
    "    print(\"===返回匹配位置（re.search().span()）===\")\n",
    "    print(re.search(regex,log).span())\n",
    "    print(\"\")"
   ]
  },
  {
   "cell_type": "markdown",
   "metadata": {},
   "source": [
    "## 匹配"
   ]
  },
  {
   "cell_type": "code",
   "execution_count": 88,
   "metadata": {
    "scrolled": true
   },
   "outputs": [
    {
     "name": "stdout",
     "output_type": "stream",
     "text": [
      "Thu Mar 14 19:27:38 1991::jvfcho@iwrptlqmyok.edu::668950058-6-11\n",
      "\n",
      "\n",
      "===返回匹配的字符串（re.search().group()）===\n",
      "Thu\n",
      "\n",
      "===列表返回匹配的所有子串(re.findall())===\n",
      "['Thu']\n",
      "\n",
      "===返回匹配开始的位置（re.search().start()）===\n",
      "0\n",
      "\n",
      "===返回匹配结束的位置（re.search().end()）===\n",
      "3\n",
      "\n",
      "===返回匹配位置（re.search().span()）===\n",
      "(0, 3)\n",
      "\n"
     ]
    }
   ],
   "source": [
    "regex = '(Mon|Tue|Wed|Thu|Fri|Sat|Sun)'  # |是or\n",
    "re_all(regex)"
   ]
  },
  {
   "cell_type": "code",
   "execution_count": 92,
   "metadata": {},
   "outputs": [
    {
     "name": "stdout",
     "output_type": "stream",
     "text": [
      "Thu Mar 14 19:27:38 1991::jvfcho@iwrptlqmyok.edu::668950058-6-11\n",
      "\n",
      "\n",
      "===返回匹配的字符串（re.search().group()）===\n",
      "19:27:38 \n",
      "\n",
      "===列表返回匹配的所有子串(re.findall())===\n",
      "[('19', '27', '38')]\n",
      "\n",
      "===返回匹配开始的位置（re.search().start()）===\n",
      "11\n",
      "\n",
      "===返回匹配结束的位置（re.search().end()）===\n",
      "20\n",
      "\n",
      "===返回匹配位置（re.search().span()）===\n",
      "(11, 20)\n",
      "\n"
     ]
    }
   ],
   "source": [
    "regex = '([0-9]{1,2}):([0-9]{1,2}):([0-9]{1,2}).'  # ()是子組，會依次返回; {}是幾個; *是無數個\n",
    "re_all(regex)"
   ]
  },
  {
   "cell_type": "code",
   "execution_count": 103,
   "metadata": {},
   "outputs": [
    {
     "name": "stdout",
     "output_type": "stream",
     "text": [
      "Thu Mar 14 19:27:38 1991::jvfcho@iwrptlqmyok.edu::668950058-6-11\n",
      "\n",
      "\n",
      "===返回匹配的字符串（re.search().group()）===\n",
      "jvfcho@iwrptlqmyok.edu\n",
      "\n",
      "===列表返回匹配的所有子串(re.findall())===\n",
      "[('jvfcho', 'iwrptlqmyok', 'edu')]\n",
      "\n",
      "===返回匹配开始的位置（re.search().start()）===\n",
      "26\n",
      "\n",
      "===返回匹配结束的位置（re.search().end()）===\n",
      "48\n",
      "\n",
      "===返回匹配位置（re.search().span()）===\n",
      "(26, 48)\n",
      "\n"
     ]
    }
   ],
   "source": [
    "regex = '([a-z]*)@([a-z]*).(com|edu|net|org|gov)'\n",
    "re_all(regex)"
   ]
  },
  {
   "cell_type": "markdown",
   "metadata": {},
   "source": [
    "> 参考：\n",
    "\n",
    "1. [陈乾博客](https://www.cnblogs.com/cq146637/p/8072540.html)\n",
    "2. [qiuri2008博客](https://www.cnblogs.com/jiangzhaowei/p/5738590.html)"
   ]
  }
 ],
 "metadata": {
  "kernelspec": {
   "display_name": "Python 3",
   "language": "python",
   "name": "python3"
  },
  "language_info": {
   "codemirror_mode": {
    "name": "ipython",
    "version": 3
   },
   "file_extension": ".py",
   "mimetype": "text/x-python",
   "name": "python",
   "nbconvert_exporter": "python",
   "pygments_lexer": "ipython3",
   "version": "3.6.2"
  }
 },
 "nbformat": 4,
 "nbformat_minor": 2
}
