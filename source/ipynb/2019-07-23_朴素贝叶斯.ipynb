{
 "cells": [
  {
   "cell_type": "markdown",
   "metadata": {},
   "source": [
    "---\n",
    "title: 朴素贝叶斯\n",
    "date: 2019-07-23\n",
    "categories: [人工智能, 监督学习]\n",
    "mathjax: true\n",
    "---"
   ]
  },
  {
   "cell_type": "markdown",
   "metadata": {},
   "source": [
    "## 特性"
   ]
  },
  {
   "cell_type": "markdown",
   "metadata": {},
   "source": [
    "- 基于概率，优点是可以对预测标签给出理论上完美的可能性估计\n",
    "- 要求数据多维特征之间相互独立，因此在计算n维特征的联合分布时，才能简化成各自先验机率相乘"
   ]
  },
  {
   "cell_type": "markdown",
   "metadata": {},
   "source": [
    "## 原理"
   ]
  },
  {
   "cell_type": "markdown",
   "metadata": {},
   "source": [
    "朴素贝叶斯是应用贝叶斯定理进行有监督学习的一种分类模型。在模型中，将贝叶斯定理公式 $P(A|B) = \\frac{P(A)*P(B|A)}{P(B)}$ 中的事件A看成被分类标签，事件B看成数据特征。伪代码如下：\n",
    "\n",
    "> for label in 所有标签:\n",
    ">\n",
    ">    用贝叶斯公式计算在给定特征情况下出现该label的后验机率\n",
    ">\n",
    ">预测标签 <= 获得最高后验机率的 label\n",
    "\n",
    "由于实际上计算了所有标签的后验机率，所以贝叶斯分类不仅可以提供该组特征最可能的标签，还能给出其他的标签排序。"
   ]
  },
  {
   "cell_type": "markdown",
   "metadata": {},
   "source": [
    "## 高斯朴素贝叶斯"
   ]
  },
  {
   "cell_type": "markdown",
   "metadata": {},
   "source": [
    "- 假定所有特征都呈高斯分布"
   ]
  },
  {
   "cell_type": "code",
   "execution_count": 16,
   "metadata": {
    "ExecuteTime": {
     "end_time": "2019-07-23T12:58:55.674083Z",
     "start_time": "2019-07-23T12:58:55.649775Z"
    },
    "scrolled": false
   },
   "outputs": [
    {
     "name": "stdout",
     "output_type": "stream",
     "text": [
      "数据集大小\n",
      "(150, 4)\n",
      "(150,)\n",
      "\n",
      "察看模型的先验机率\n",
      "[0.33333333 0.33333333 0.33333333]\n",
      "\n",
      "察看训练集标签数量\n",
      "[50. 50. 50.]\n",
      "\n",
      "察看高斯模型期望值\n",
      "[[5.006 3.428 1.462 0.246]\n",
      " [5.936 2.77  4.26  1.326]\n",
      " [6.588 2.974 5.552 2.026]]\n",
      "\n",
      "察看高斯模型方差\n",
      "[[0.121764 0.140816 0.029556 0.010884]\n",
      " [0.261104 0.0965   0.2164   0.038324]\n",
      " [0.396256 0.101924 0.298496 0.073924]]\n"
     ]
    }
   ],
   "source": [
    "from sklearn import datasets\n",
    "iris = datasets.load_iris()\n",
    "\n",
    "from sklearn.naive_bayes import GaussianNB\n",
    "gnb = GaussianNB()\n",
    "gnb.fit(iris.data, iris.target)\n",
    "\n",
    "print(\"数据集大小\")\n",
    "print(iris.data.shape)\n",
    "print(iris.target.shape)\n",
    "print(\"\")\n",
    "\n",
    "print(\"察看模型的先验机率\")\n",
    "print(gnb.class_prior_)\n",
    "print(\"\")\n",
    "\n",
    "print(\"察看训练集标签数量\")\n",
    "print(gnb.class_count_)\n",
    "print(\"\")\n",
    "\n",
    "print(\"察看高斯模型期望值\")\n",
    "print(gnb.theta_)\n",
    "print(\"\")\n",
    "\n",
    "print(\"察看高斯模型方差\")\n",
    "print(gnb.sigma_)"
   ]
  },
  {
   "cell_type": "markdown",
   "metadata": {},
   "source": [
    "## 伯努利朴素贝叶斯"
   ]
  },
  {
   "cell_type": "markdown",
   "metadata": {},
   "source": [
    "- 每次实验只可能出现两种结果的事件概率分布，也称二值分布"
   ]
  },
  {
   "cell_type": "code",
   "execution_count": 18,
   "metadata": {
    "ExecuteTime": {
     "end_time": "2019-07-23T13:13:37.537780Z",
     "start_time": "2019-07-23T13:13:37.526607Z"
    }
   },
   "outputs": [
    {
     "data": {
      "text/plain": [
       "array([0])"
      ]
     },
     "execution_count": 18,
     "metadata": {},
     "output_type": "execute_result"
    }
   ],
   "source": [
    "from sklearn.naive_bayes import BernoulliNB\n",
    "clf = BernoulliNB(binarize = 1)\n",
    "\n",
    "# 可以输入非二值特征，BernoulliNB内部会用阈值1将其转换为二值\n",
    "X = [[0.3, 0.2], [1.3, 1.2], [1.1, 1.2]]\n",
    "Y = [0, 1, 1]\n",
    "clf.fit(X, Y)\n",
    "\n",
    "clf.predict([[0.99, 0.99]])"
   ]
  },
  {
   "cell_type": "markdown",
   "metadata": {},
   "source": [
    "> 参考：\n",
    "\n",
    "1. [从机器学习到深度学习：基于Scikit-learn与TensorFlow的高效开发实战](http://www.broadview.com.cn/book/5337)"
   ]
  }
 ],
 "metadata": {
  "kernelspec": {
   "display_name": "Python 3",
   "language": "python",
   "name": "python3"
  },
  "language_info": {
   "codemirror_mode": {
    "name": "ipython",
    "version": 3
   },
   "file_extension": ".py",
   "mimetype": "text/x-python",
   "name": "python",
   "nbconvert_exporter": "python",
   "pygments_lexer": "ipython3",
   "version": "3.7.1"
  },
  "varInspector": {
   "cols": {
    "lenName": 16,
    "lenType": 16,
    "lenVar": 40
   },
   "kernels_config": {
    "python": {
     "delete_cmd_postfix": "",
     "delete_cmd_prefix": "del ",
     "library": "var_list.py",
     "varRefreshCmd": "print(var_dic_list())"
    },
    "r": {
     "delete_cmd_postfix": ") ",
     "delete_cmd_prefix": "rm(",
     "library": "var_list.r",
     "varRefreshCmd": "cat(var_dic_list()) "
    }
   },
   "types_to_exclude": [
    "module",
    "function",
    "builtin_function_or_method",
    "instance",
    "_Feature"
   ],
   "window_display": false
  }
 },
 "nbformat": 4,
 "nbformat_minor": 2
}
