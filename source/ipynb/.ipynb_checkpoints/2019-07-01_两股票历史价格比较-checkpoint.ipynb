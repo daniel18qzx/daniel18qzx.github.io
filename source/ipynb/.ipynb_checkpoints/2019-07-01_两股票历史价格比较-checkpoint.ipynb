{
 "cells": [
  {
   "cell_type": "markdown",
   "metadata": {},
   "source": [
    "---\n",
    "title: 两股票历史价格比较\n",
    "date: 2019-07-01\n",
    "categories: [金融分析, 项目]\n",
    "---"
   ]
  },
  {
   "cell_type": "markdown",
   "metadata": {},
   "source": [
    "## 项目任务\n",
    "1. 获取财务数据\n",
    "2. 填充缺失值\n",
    "3. 数据归一化\n",
    "4. 折线图"
   ]
  },
  {
   "cell_type": "markdown",
   "metadata": {},
   "source": [
    "## 代码"
   ]
  },
  {
   "cell_type": "markdown",
   "metadata": {},
   "source": [
    "### 依赖"
   ]
  },
  {
   "cell_type": "code",
   "execution_count": 2,
   "metadata": {},
   "outputs": [],
   "source": [
    "import matplotlib.pyplot as plt\n",
    "import numpy as np\n",
    "import pandas as pd\n",
    "import tushare as ts\n",
    "import ssl\n",
    "context = ssl._create_unverified_context()"
   ]
  },
  {
   "cell_type": "markdown",
   "metadata": {},
   "source": [
    "### 获取财务数据"
   ]
  },
  {
   "cell_type": "code",
   "execution_count": 3,
   "metadata": {},
   "outputs": [],
   "source": [
    "s_pf = '600000'\n",
    "s_gd = '601818'\n",
    "sdate = '2018-01-01'\n",
    "edate = '2018-12-31'\n",
    "\n",
    "df_pf = ts.get_hist_data(s_pf, start = sdate, end = edate).sort_index(axis = 0, ascending = True)\n",
    "df_gd = ts.get_hist_data(s_gd, start = sdate, end = edate).sort_index(axis = 0, ascending = True)"
   ]
  },
  {
   "cell_type": "markdown",
   "metadata": {},
   "source": [
    "### 数据处理"
   ]
  },
  {
   "cell_type": "code",
   "execution_count": 4,
   "metadata": {},
   "outputs": [
    {
     "data": {
      "text/html": [
       "<div>\n",
       "<style scoped>\n",
       "    .dataframe tbody tr th:only-of-type {\n",
       "        vertical-align: middle;\n",
       "    }\n",
       "\n",
       "    .dataframe tbody tr th {\n",
       "        vertical-align: top;\n",
       "    }\n",
       "\n",
       "    .dataframe thead th {\n",
       "        text-align: right;\n",
       "    }\n",
       "</style>\n",
       "<table border=\"1\" class=\"dataframe\">\n",
       "  <thead>\n",
       "    <tr style=\"text-align: right;\">\n",
       "      <th></th>\n",
       "      <th>pf_clse</th>\n",
       "      <th>gd_close</th>\n",
       "      <th>pf_one</th>\n",
       "      <th>gd_one</th>\n",
       "    </tr>\n",
       "  </thead>\n",
       "  <tbody>\n",
       "    <tr>\n",
       "      <th>pf_clse</th>\n",
       "      <td>1.000000</td>\n",
       "      <td>0.912252</td>\n",
       "      <td>1.000000</td>\n",
       "      <td>0.912252</td>\n",
       "    </tr>\n",
       "    <tr>\n",
       "      <th>gd_close</th>\n",
       "      <td>0.912252</td>\n",
       "      <td>1.000000</td>\n",
       "      <td>0.912252</td>\n",
       "      <td>1.000000</td>\n",
       "    </tr>\n",
       "    <tr>\n",
       "      <th>pf_one</th>\n",
       "      <td>1.000000</td>\n",
       "      <td>0.912252</td>\n",
       "      <td>1.000000</td>\n",
       "      <td>0.912252</td>\n",
       "    </tr>\n",
       "    <tr>\n",
       "      <th>gd_one</th>\n",
       "      <td>0.912252</td>\n",
       "      <td>1.000000</td>\n",
       "      <td>0.912252</td>\n",
       "      <td>1.000000</td>\n",
       "    </tr>\n",
       "  </tbody>\n",
       "</table>\n",
       "</div>"
      ],
      "text/plain": [
       "           pf_clse  gd_close    pf_one    gd_one\n",
       "pf_clse   1.000000  0.912252  1.000000  0.912252\n",
       "gd_close  0.912252  1.000000  0.912252  1.000000\n",
       "pf_one    1.000000  0.912252  1.000000  0.912252\n",
       "gd_one    0.912252  1.000000  0.912252  1.000000"
      ]
     },
     "metadata": {},
     "output_type": "display_data"
    }
   ],
   "source": [
    "df = pd.concat([df_pf.close, df_gd.close], axis = 1, keys = ['pf_clse','gd_close'])\n",
    "df.ffill(axis = 0, inplace = True)\n",
    "\n",
    "df['pf_one'] = df_pf.close / float(df_pf.close[0]) * 100\n",
    "df['gd_one'] = df_gd.close / float(df_gd.close[0]) * 100\n",
    "\n",
    "display(df.corr(method = 'pearson', min_periods = 1))"
   ]
  },
  {
   "cell_type": "markdown",
   "metadata": {},
   "source": [
    "### 画图"
   ]
  },
  {
   "cell_type": "code",
   "execution_count": 6,
   "metadata": {},
   "outputs": [],
   "source": [
    "df.pf_one.plot(figsize = (20,15))\n",
    "df.gd_one.plot(figsize = (20,15))\n",
    "\n",
    "# 绘图\n",
    "plt.savefig(\"../img/2019-07-01_两股票历史价格比较_1.png\")\n",
    "plt.close()"
   ]
  },
  {
   "cell_type": "markdown",
   "metadata": {},
   "source": [
    "![](/img/2019-07-01_两股票历史价格比较_1.png)"
   ]
  },
  {
   "cell_type": "markdown",
   "metadata": {},
   "source": [
    "> 参考：\n",
    "\n",
    "1. [廖雪峰Python数据分析](https://www.julyedu.com/course/getDetail/66/)\n",
    "2. [Tushare官网](http://tushare.org/)"
   ]
  }
 ],
 "metadata": {
  "kernelspec": {
   "display_name": "Python 3",
   "language": "python",
   "name": "python3"
  },
  "language_info": {
   "codemirror_mode": {
    "name": "ipython",
    "version": 3
   },
   "file_extension": ".py",
   "mimetype": "text/x-python",
   "name": "python",
   "nbconvert_exporter": "python",
   "pygments_lexer": "ipython3",
   "version": "3.6.2"
  }
 },
 "nbformat": 4,
 "nbformat_minor": 2
}
