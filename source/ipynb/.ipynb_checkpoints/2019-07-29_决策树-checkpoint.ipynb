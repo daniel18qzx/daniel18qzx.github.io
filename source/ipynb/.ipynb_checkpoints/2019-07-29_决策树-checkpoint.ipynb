{
 "cells": [
  {
   "cell_type": "markdown",
   "metadata": {},
   "source": [
    "---\n",
    "title: 决策树\n",
    "date: 2019-07-29\n",
    "categories: [人工智能, 监督学习]\n",
    "mathjax: true\n",
    "---"
   ]
  },
  {
   "cell_type": "markdown",
   "metadata": {},
   "source": [
    "## 信息价值指标"
   ]
  },
  {
   "cell_type": "markdown",
   "metadata": {},
   "source": [
    "### 信息熵"
   ]
  },
  {
   "cell_type": "markdown",
   "metadata": {},
   "source": [
    "$$H=-\\sum_{i=1}^{n}{P_i \\cdot log_2{P_i}}$$\n",
    "\n",
    "- 某随机事件结果的种类越多，则该事件的熵越大（不确定性越大）\n",
    "- 某随机事件的各种可能发生结果概率越均匀，则该事件的熵越大（不确定性越大）\n",
    "- 值域：>= 0\n",
    "- 缺点是计算量大（log）"
   ]
  },
  {
   "cell_type": "markdown",
   "metadata": {},
   "source": [
    "### 基尼指数"
   ]
  },
  {
   "cell_type": "markdown",
   "metadata": {},
   "source": [
    "$$G=1-\\sum_{i=1}^{n}{P_i^2}$$\n",
    "\n",
    "- 值域：0~1"
   ]
  },
  {
   "cell_type": "markdown",
   "metadata": {},
   "source": [
    "## 建树逻辑"
   ]
  },
  {
   "cell_type": "markdown",
   "metadata": {},
   "source": [
    "所有子树信息价值（信息熵、基尼指数）的和必定小于等于原来整体数据集的信息价值，信息增益用来衡量减少的程度。\n",
    "\n",
    "\n",
    "> def build(D=数据集)：\n",
    ">\n",
    "> 　　if D所有数据目标值 y 都相同：\n",
    ">\n",
    "> 　　　　return  #递回停止条件\n",
    ">\n",
    "> 　　for i in D中的所有特征：\n",
    ">\n",
    "> 　　　　计算用i划分子树后获得的信息增益\n",
    ">\n",
    "> 　　if 所有特征都没有大于零的信息增益：\n",
    ">\n",
    "> 　　　　return  #递回停止条件\n",
    ">\n",
    "> 　　被选择的特征 x = 具有最大信息增益的特征\n",
    ">\n",
    "> 　　for sub in 按照x划分子树后的数据集：\n",
    ">\n",
    "> 　　　　build(sub)\n"
   ]
  },
  {
   "cell_type": "markdown",
   "metadata": {},
   "source": [
    "## 衍生算法"
   ]
  },
  {
   "cell_type": "markdown",
   "metadata": {},
   "source": [
    "- ID3：只能使用熵的信息增益处理离散特征的分类问题\n",
    "- C4.5：\n",
    "    - 使用信息增益比的概念去除先选择多值特征的倾向\n",
    "    - 支持连续特征，在计算信息增益比之前首先将其离散化\n",
    "    - 在训练后检测训练集的正确分类比，并剪枝产生错误较多的叶子结点\n",
    "- CART算法：使用基尼系数代替熵进行信息增益计算、只使用二叉树，并提供解决回归问题的能力"
   ]
  },
  {
   "cell_type": "markdown",
   "metadata": {},
   "source": [
    "## DecisionTreeClassifier\n",
    "\n",
    "超参数：\n",
    "- criterion: gini, entropy\n",
    "- max_depth\n",
    "- min_samples_split\n",
    "- min_samples_leaf\n",
    "- max_leaf_nodes\n",
    "- min_impurity_decrease"
   ]
  },
  {
   "cell_type": "code",
   "execution_count": 40,
   "metadata": {
    "ExecuteTime": {
     "end_time": "2019-07-23T12:58:55.674083Z",
     "start_time": "2019-07-23T12:58:55.649775Z"
    },
    "scrolled": false
   },
   "outputs": [
    {
     "name": "stdout",
     "output_type": "stream",
     "text": [
      "[0]\n",
      "[0. 0. 1.]\n"
     ]
    }
   ],
   "source": [
    "from sklearn import tree\n",
    "\n",
    "X = [[2000, 30, 400], [370, 130, 0], [3020, 120, 300]]\n",
    "Y = [1, 0, 1]\n",
    "\n",
    "clf = tree.DecisionTreeClassifier(criterion = \"entropy\")\n",
    "clf = clf.fit(X, Y)\n",
    "\n",
    "print(clf.predict([[4000, 6000, 0]]))\n",
    "print(clf.feature_importances_)"
   ]
  },
  {
   "cell_type": "markdown",
   "metadata": {},
   "source": [
    "## 树的可视化"
   ]
  },
  {
   "cell_type": "code",
   "execution_count": 77,
   "metadata": {
    "ExecuteTime": {
     "end_time": "2019-07-23T13:13:37.537780Z",
     "start_time": "2019-07-23T13:13:37.526607Z"
    },
    "scrolled": true
   },
   "outputs": [],
   "source": [
    "from IPython.display import display, Image\n",
    "import graphviz\n",
    "import pydotplus as pdp\n",
    "\n",
    "dot_data = tree.export_graphviz(clf, out_file = None,\n",
    "                               feature_names = [\"标签A\",\"标签B\",\"标签C\"],\n",
    "                               class_names = [\"分类A\",\"分类B\"],\n",
    "                               filled = True,\n",
    "                               rotate = False)\n",
    "\n",
    "# 要先用brew install graphviz\n",
    "graph = pdp.graph_from_dot_data(dot_data)\n",
    "img = Image(graph.create_png())"
   ]
  },
  {
   "cell_type": "markdown",
   "metadata": {},
   "source": [
    "![](/img/2019-07-29_决策树_1.png)"
   ]
  },
  {
   "cell_type": "markdown",
   "metadata": {},
   "source": [
    "> 参考：\n",
    "\n",
    "1. [从机器学习到深度学习：基于Scikit-learn与TensorFlow的高效开发实战](http://www.broadview.com.cn/book/5337)"
   ]
  }
 ],
 "metadata": {
  "kernelspec": {
   "display_name": "Python 3",
   "language": "python",
   "name": "python3"
  },
  "language_info": {
   "codemirror_mode": {
    "name": "ipython",
    "version": 3
   },
   "file_extension": ".py",
   "mimetype": "text/x-python",
   "name": "python",
   "nbconvert_exporter": "python",
   "pygments_lexer": "ipython3",
   "version": "3.6.2"
  },
  "toc": {
   "base_numbering": 1,
   "nav_menu": {},
   "number_sections": false,
   "sideBar": true,
   "skip_h1_title": false,
   "title_cell": "Table of Contents",
   "title_sidebar": "Contents",
   "toc_cell": false,
   "toc_position": {},
   "toc_section_display": true,
   "toc_window_display": true
  },
  "varInspector": {
   "cols": {
    "lenName": 16,
    "lenType": 16,
    "lenVar": 40
   },
   "kernels_config": {
    "python": {
     "delete_cmd_postfix": "",
     "delete_cmd_prefix": "del ",
     "library": "var_list.py",
     "varRefreshCmd": "print(var_dic_list())"
    },
    "r": {
     "delete_cmd_postfix": ") ",
     "delete_cmd_prefix": "rm(",
     "library": "var_list.r",
     "varRefreshCmd": "cat(var_dic_list()) "
    }
   },
   "types_to_exclude": [
    "module",
    "function",
    "builtin_function_or_method",
    "instance",
    "_Feature"
   ],
   "window_display": false
  }
 },
 "nbformat": 4,
 "nbformat_minor": 2
}
