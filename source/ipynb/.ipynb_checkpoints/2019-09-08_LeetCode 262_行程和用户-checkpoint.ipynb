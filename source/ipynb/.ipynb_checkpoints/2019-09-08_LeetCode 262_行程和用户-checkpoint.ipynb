{
 "cells": [
  {
   "cell_type": "markdown",
   "metadata": {},
   "source": [
    "---\n",
    "title: LeetCode 262_行程和用户\n",
    "date: 2019-09-08\n",
    "categories: [LeetCode, Database]\n",
    "mathjax: false\n",
    "---"
   ]
  },
  {
   "cell_type": "markdown",
   "metadata": {},
   "source": [
    "## 题目描述"
   ]
  },
  {
   "cell_type": "markdown",
   "metadata": {},
   "source": [
    "Trips 表中存所有出租车的行程信息。每段行程有唯一键 Id，Client_Id 和 Driver_Id 是 Users 表中 Users_Id 的外键。Status 是枚举类型，枚举成员为 (‘completed’, ‘cancelled_by_driver’, ‘cancelled_by_client’)。\n",
    "\n",
    "```\n",
    "+----+-----------+-----------+---------+--------------------+----------+\n",
    "| Id | Client_Id | Driver_Id | City_Id |        Status      |Request_at|\n",
    "+----+-----------+-----------+---------+--------------------+----------+\n",
    "| 1  |     1     |    10     |    1    |     completed      |2013-10-01|\n",
    "| 2  |     2     |    11     |    1    | cancelled_by_driver|2013-10-01|\n",
    "| 3  |     3     |    12     |    6    |     completed      |2013-10-01|\n",
    "| 4  |     4     |    13     |    6    | cancelled_by_client|2013-10-01|\n",
    "| 5  |     1     |    10     |    1    |     completed      |2013-10-02|\n",
    "| 6  |     2     |    11     |    6    |     completed      |2013-10-02|\n",
    "| 7  |     3     |    12     |    6    |     completed      |2013-10-02|\n",
    "| 8  |     2     |    12     |    12   |     completed      |2013-10-03|\n",
    "| 9  |     3     |    10     |    12   |     completed      |2013-10-03| \n",
    "| 10 |     4     |    13     |    12   | cancelled_by_driver|2013-10-03|\n",
    "+----+-----------+-----------+---------+--------------------+----------+\n",
    "```\n",
    "\n",
    "Users 表存所有用户。每个用户有唯一键 Users_Id。Banned 表示这个用户是否被禁止，Role 则是一个表示（‘client’, ‘driver’, ‘partner’）的枚举类型。\n",
    "\n",
    "```\n",
    "+----------+--------+--------+\n",
    "| Users_Id | Banned |  Role  |\n",
    "+----------+--------+--------+\n",
    "|    1     |   No   | client |\n",
    "|    2     |   Yes  | client |\n",
    "|    3     |   No   | client |\n",
    "|    4     |   No   | client |\n",
    "|    10    |   No   | driver |\n",
    "|    11    |   No   | driver |\n",
    "|    12    |   No   | driver |\n",
    "|    13    |   No   | driver |\n",
    "+----------+--------+--------+\n",
    "```\n",
    "\n",
    "写一段 SQL 语句查出 2013年10月1日 至 2013年10月3日 期间非禁止用户的取消率。基于上表，你的 SQL 语句应返回如下结果，取消率（Cancellation Rate）保留两位小数。\n",
    "\n",
    "```\n",
    "+------------+-------------------+\n",
    "|     Day    | Cancellation Rate |\n",
    "+------------+-------------------+\n",
    "| 2013-10-01 |       0.33        |\n",
    "| 2013-10-02 |       0.00        |\n",
    "| 2013-10-03 |       0.50        |\n",
    "+------------+-------------------+\n",
    "```"
   ]
  },
  {
   "cell_type": "markdown",
   "metadata": {},
   "source": [
    "## 解题思路"
   ]
  },
  {
   "cell_type": "markdown",
   "metadata": {},
   "source": [
    "1. 将最后的限制先做出来，并保留唯一识别ID\n",
    "2. 分组记数\n",
    "3. 保留两位应用format，但官网解答写错用了round才对"
   ]
  },
  {
   "cell_type": "markdown",
   "metadata": {},
   "source": [
    "## code"
   ]
  },
  {
   "cell_type": "code",
   "execution_count": 1,
   "metadata": {
    "ExecuteTime": {
     "end_time": "2019-09-09T13:04:00.921923Z",
     "start_time": "2019-09-09T13:03:59.561130Z"
    },
    "collapsed": true,
    "scrolled": false
   },
   "outputs": [],
   "source": [
    "# Write your MySQL query statement below\n",
    "select\n",
    "    Request_at as 'Day',\n",
    "    round(sum(case when Status in (\"cancelled_by_driver\",\"cancelled_by_client\") then 1 else 0 end) / count(*),2) as 'Cancellation Rate'\n",
    "\n",
    "from Trips\n",
    "where id in \n",
    "(select\n",
    "    a.id as 'id'\n",
    "from Trips a\n",
    "left join Users b\n",
    "    on a.Client_Id = b.Users_Id\n",
    "left join Users c\n",
    "    on a.Driver_Id = c.Users_Id\n",
    "where b.Banned = \"No\" and c.Banned = \"No\" and Request_at >= \"2013-10-01\" and Request_at <= \"2013-10-03\")\n",
    "\n",
    "group by Request_at"
   ]
  },
  {
   "cell_type": "markdown",
   "metadata": {},
   "source": [
    "## 成绩"
   ]
  },
  {
   "cell_type": "markdown",
   "metadata": {},
   "source": [
    "- 用时：151 ms\n",
    "- 内存消耗：N/A"
   ]
  },
  {
   "cell_type": "markdown",
   "metadata": {},
   "source": [
    "> 参考：\n",
    "\n",
    "1. [262. 行程和用户 - 力扣（LeetCode）](https://leetcode-cn.com/problems/trips-and-users/)"
   ]
  }
 ],
 "metadata": {
  "kernelspec": {
   "display_name": "Python 3",
   "language": "python",
   "name": "python3"
  },
  "language_info": {
   "codemirror_mode": {
    "name": "ipython",
    "version": 3
   },
   "file_extension": ".py",
   "mimetype": "text/x-python",
   "name": "python",
   "nbconvert_exporter": "python",
   "pygments_lexer": "ipython3",
   "version": "3.6.1"
  },
  "toc": {
   "base_numbering": 1,
   "nav_menu": {},
   "number_sections": false,
   "sideBar": true,
   "skip_h1_title": false,
   "title_cell": "Table of Contents",
   "title_sidebar": "Contents",
   "toc_cell": false,
   "toc_position": {
    "height": "calc(100% - 180px)",
    "left": "10px",
    "top": "150px",
    "width": "267px"
   },
   "toc_section_display": true,
   "toc_window_display": true
  },
  "varInspector": {
   "cols": {
    "lenName": 16,
    "lenType": 16,
    "lenVar": 40
   },
   "kernels_config": {
    "python": {
     "delete_cmd_postfix": "",
     "delete_cmd_prefix": "del ",
     "library": "var_list.py",
     "varRefreshCmd": "print(var_dic_list())"
    },
    "r": {
     "delete_cmd_postfix": ") ",
     "delete_cmd_prefix": "rm(",
     "library": "var_list.r",
     "varRefreshCmd": "cat(var_dic_list()) "
    }
   },
   "types_to_exclude": [
    "module",
    "function",
    "builtin_function_or_method",
    "instance",
    "_Feature"
   ],
   "window_display": false
  }
 },
 "nbformat": 4,
 "nbformat_minor": 2
}
