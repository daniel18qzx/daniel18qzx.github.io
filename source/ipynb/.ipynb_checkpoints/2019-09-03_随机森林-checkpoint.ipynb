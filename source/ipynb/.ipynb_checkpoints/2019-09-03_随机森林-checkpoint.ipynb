{
 "cells": [
  {
   "cell_type": "markdown",
   "metadata": {},
   "source": [
    "---\n",
    "title: 随机森林\n",
    "date: 2019-09-03\n",
    "categories: [人工智能, 监督学习]\n",
    "mathjax: true\n",
    "---"
   ]
  },
  {
   "cell_type": "markdown",
   "metadata": {},
   "source": [
    "## 基本介绍"
   ]
  },
  {
   "cell_type": "markdown",
   "metadata": {},
   "source": [
    "1. 从原始训练数据集中，应⽤bootstrap⽅法有放回地随机抽取k个新的⾃助样本集，并由此构建k棵分类回归树，每次未被抽到的样本组成了Ｋ个袋外数据（out-of-bag,BBB）\n",
    "2. 设有n个特征，则在每⼀棵树的每个节点处随机抽取m个特征，通过计算每个特征蕴含的信息量，特征中选择⼀个最具有分类能⼒的特征进⾏节点分裂\n",
    "3. 每棵树最⼤限度地⽣长， 不做任何剪裁\n",
    "4. 将⽣成的多棵树组成随机森林， ⽤随机森林对新的数据进⾏分类，分类结果按树分类器投票多少⽽定"
   ]
  },
  {
   "cell_type": "markdown",
   "metadata": {},
   "source": [
    "## RandomForestClassifier"
   ]
  },
  {
   "cell_type": "code",
   "execution_count": 9,
   "metadata": {
    "ExecuteTime": {
     "end_time": "2019-09-09T12:42:44.793340Z",
     "start_time": "2019-09-09T12:42:44.769929Z"
    },
    "scrolled": false
   },
   "outputs": [
    {
     "name": "stderr",
     "output_type": "stream",
     "text": [
      "/anaconda3/lib/python3.7/site-packages/sklearn/ensemble/forest.py:246: FutureWarning: The default value of n_estimators will change from 10 in version 0.20 to 100 in 0.22.\n",
      "  \"10 in version 0.20 to 100 in 0.22.\", FutureWarning)\n"
     ]
    }
   ],
   "source": [
    "from sklearn.ensemble import RandomForestClassifier          # 导入随机森林的包\n",
    "from sklearn import datasets\n",
    "from sklearn.model_selection import train_test_split\n",
    "\n",
    "iris = datasets.load_iris()\n",
    "iris_data = iris['data']\n",
    "iris_label = iris['target']\n",
    "iris_target_name = iris['target_names']\n",
    "X = np.array(iris_data)\n",
    "Y = np.array(iris_label)\n",
    "\n",
    "x_train, x_test, y_train, y_test = train_test_split(X, Y, test_size=0.25)\n",
    "\n",
    "clf = RandomForestClassifier()\n",
    "clf = clf.fit(x_train, y_train)"
   ]
  },
  {
   "cell_type": "code",
   "execution_count": 10,
   "metadata": {
    "ExecuteTime": {
     "end_time": "2019-09-09T12:42:46.994711Z",
     "start_time": "2019-09-09T12:42:46.978770Z"
    }
   },
   "outputs": [
    {
     "data": {
      "text/plain": [
       "0.9821428571428571"
      ]
     },
     "execution_count": 10,
     "metadata": {},
     "output_type": "execute_result"
    }
   ],
   "source": [
    "from sklearn.metrics import roc_curve, auc\n",
    "\n",
    "y_pred = clf.predict(x_test)\n",
    "\n",
    "false_positive_rate, true_positive_rate, thresholds = roc_curve(\n",
    "    y_test, y_pred, pos_label=2)\n",
    "\n",
    "roc_auc = auc(false_positive_rate, true_positive_rate)\n",
    "roc_auc"
   ]
  },
  {
   "cell_type": "markdown",
   "metadata": {},
   "source": [
    "### 调参"
   ]
  },
  {
   "cell_type": "markdown",
   "metadata": {},
   "source": [
    "- n_estimators: int 默认10\n",
    "- criterion：gini” or “entropy”(default=”gini”)表示使用基尼不纯度还是信息增益来计算属性，来选择最合适的节点\n",
    "- max_depth：(default=None)设置树的最大深度，默认为None，直到使每一个叶节点只有一个类别，或是达到min_samples_split\n",
    "- min_samples_split：默认2，int（可以被分割的所含最小样本数），float（总样本的百分比）\n",
    "- min_samples_leaf：默认1，int或float，叶子节点所含最少样本数\n",
    "- min_weight_fraction_leaf：(default=0) 叶子节点所需要的最小权值（当样本采样权重设置时才有意义，叶子节点的权重为属于该节点的所有样本权重和）\n",
    "- max_features：(default=”auto”) 每次找最好的分割点是可以考虑的特征数\n",
    "- max_leaf_nodes:最大叶节点数 和树的最大深度同样作用\n",
    "- bootstrap：是否有放回采样，默认True\n",
    "- oob_score：默认False，是否使用袋外数据统计泛华误差。利用在某次决策树训练中没有被采样选中的数据对该单个模型进行验证，算是一个简单的交叉验证。性能消耗小，但是效果不错\n",
    "- n_jobs：默认1.可并行job数。-1代表有多少job=core\n",
    "- random_state:如果给定相同的参数和训练数据，random_state的确定值将始终产生相同的结果\n",
    "- verbose：(default=0) 是否显示任务进程\n",
    "- warm_start：False热启动，决定是否使用上次调用该类的结果然后增加新的\n",
    "- class_weight：None，各个label的权重"
   ]
  },
  {
   "cell_type": "markdown",
   "metadata": {},
   "source": [
    "> 参考：\n",
    "\n",
    "1. [从机器学习到深度学习：基于Scikit-learn与TensorFlow的高效开发实战](http://www.broadview.com.cn/book/5337)\n",
    "2. [sklearn 随机森林分类iris花](https://blog.csdn.net/qwq1503/article/details/91535494)\n",
    "3. [快速理解bootstrap,bagging,boosting-三个概念](https://blog.csdn.net/wangqi880/article/details/49765673)"
   ]
  }
 ],
 "metadata": {
  "kernelspec": {
   "display_name": "Python 3",
   "language": "python",
   "name": "python3"
  },
  "language_info": {
   "codemirror_mode": {
    "name": "ipython",
    "version": 3
   },
   "file_extension": ".py",
   "mimetype": "text/x-python",
   "name": "python",
   "nbconvert_exporter": "python",
   "pygments_lexer": "ipython3",
   "version": "3.7.1"
  },
  "toc": {
   "base_numbering": 1,
   "nav_menu": {},
   "number_sections": false,
   "sideBar": true,
   "skip_h1_title": false,
   "title_cell": "Table of Contents",
   "title_sidebar": "Contents",
   "toc_cell": false,
   "toc_position": {
    "height": "calc(100% - 180px)",
    "left": "10px",
    "top": "150px",
    "width": "267px"
   },
   "toc_section_display": true,
   "toc_window_display": true
  },
  "varInspector": {
   "cols": {
    "lenName": 16,
    "lenType": 16,
    "lenVar": 40
   },
   "kernels_config": {
    "python": {
     "delete_cmd_postfix": "",
     "delete_cmd_prefix": "del ",
     "library": "var_list.py",
     "varRefreshCmd": "print(var_dic_list())"
    },
    "r": {
     "delete_cmd_postfix": ") ",
     "delete_cmd_prefix": "rm(",
     "library": "var_list.r",
     "varRefreshCmd": "cat(var_dic_list()) "
    }
   },
   "types_to_exclude": [
    "module",
    "function",
    "builtin_function_or_method",
    "instance",
    "_Feature"
   ],
   "window_display": false
  }
 },
 "nbformat": 4,
 "nbformat_minor": 2
}
