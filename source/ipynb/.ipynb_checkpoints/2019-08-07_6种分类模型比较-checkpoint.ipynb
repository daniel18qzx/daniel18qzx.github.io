{
 "cells": [
  {
   "cell_type": "markdown",
   "metadata": {},
   "source": [
    "---\n",
    "title: 6种分类模型比较\n",
    "date: 2019-08-07\n",
    "categories: [人工智能, 监督学习]\n",
    "mathjax: false\n",
    "---"
   ]
  },
  {
   "cell_type": "markdown",
   "metadata": {},
   "source": [
    "## 数据集载入"
   ]
  },
  {
   "cell_type": "code",
   "execution_count": 15,
   "metadata": {
    "ExecuteTime": {
     "end_time": "2019-08-09T09:57:21.505102Z",
     "start_time": "2019-08-09T09:57:19.805885Z"
    },
    "scrolled": true
   },
   "outputs": [],
   "source": [
    "# -*- coding: utf-8 -*-\n",
    "import pandas as pd\n",
    "import numpy as np\n",
    "from matplotlib import pyplot as plt\n",
    "import seaborn as sns\n",
    "import warnings\n",
    "warnings.filterwarnings('ignore')\n",
    "\n",
    "df = pd.read_csv(u\"2019-08-01_金融数据描述_data1.csv\",encoding = 'gbk')"
   ]
  },
  {
   "cell_type": "code",
   "execution_count": 2,
   "metadata": {
    "scrolled": true
   },
   "outputs": [
    {
     "name": "stdout",
     "output_type": "stream",
     "text": [
      "<class 'pandas.core.frame.DataFrame'>\n",
      "RangeIndex: 4754 entries, 0 to 4753\n",
      "Data columns (total 90 columns):\n",
      "Unnamed: 0                                    4754 non-null int64\n",
      "custid                                        4754 non-null int64\n",
      "trade_no                                      4754 non-null object\n",
      "bank_card_no                                  4754 non-null object\n",
      "low_volume_percent                            4752 non-null float64\n",
      "middle_volume_percent                         4752 non-null float64\n",
      "take_amount_in_later_12_month_highest         4754 non-null int64\n",
      "trans_amount_increase_rate_lately             4751 non-null float64\n",
      "trans_activity_month                          4752 non-null float64\n",
      "trans_activity_day                            4752 non-null float64\n",
      "transd_mcc                                    4752 non-null float64\n",
      "trans_days_interval_filter                    4746 non-null float64\n",
      "trans_days_interval                           4752 non-null float64\n",
      "regional_mobility                             4752 non-null float64\n",
      "student_feature                               1756 non-null float64\n",
      "repayment_capability                          4754 non-null int64\n",
      "is_high_user                                  4754 non-null int64\n",
      "number_of_trans_from_2011                     4752 non-null float64\n",
      "first_transaction_time                        4752 non-null float64\n",
      "historical_trans_amount                       4754 non-null int64\n",
      "historical_trans_day                          4752 non-null float64\n",
      "rank_trad_1_month                             4752 non-null float64\n",
      "trans_amount_3_month                          4754 non-null int64\n",
      "avg_consume_less_12_valid_month               4752 non-null float64\n",
      "abs                                           4754 non-null int64\n",
      "top_trans_count_last_1_month                  4752 non-null float64\n",
      "avg_price_last_12_month                       4754 non-null int64\n",
      "avg_price_top_last_12_valid_month             4650 non-null float64\n",
      "reg_preference_for_trad                       4752 non-null object\n",
      "trans_top_time_last_1_month                   4746 non-null float64\n",
      "trans_top_time_last_6_month                   4746 non-null float64\n",
      "consume_top_time_last_1_month                 4746 non-null float64\n",
      "consume_top_time_last_6_month                 4746 non-null float64\n",
      "cross_consume_count_last_1_month              4328 non-null float64\n",
      "trans_fail_top_count_enum_last_1_month        4738 non-null float64\n",
      "trans_fail_top_count_enum_last_6_month        4738 non-null float64\n",
      "trans_fail_top_count_enum_last_12_month       4738 non-null float64\n",
      "consume_mini_time_last_1_month                4728 non-null float64\n",
      "max_cumulative_consume_later_1_month          4754 non-null int64\n",
      "max_consume_count_later_6_month               4746 non-null float64\n",
      "railway_consume_count_last_12_month           4742 non-null float64\n",
      "pawns_auctions_trusts_consume_last_1_month    4754 non-null int64\n",
      "pawns_auctions_trusts_consume_last_6_month    4754 non-null int64\n",
      "jewelry_consume_count_last_6_month            4742 non-null float64\n",
      "status                                        4754 non-null int64\n",
      "source                                        4754 non-null object\n",
      "first_transaction_day                         4752 non-null float64\n",
      "trans_day_last_12_month                       4752 non-null float64\n",
      "id_name                                       4478 non-null object\n",
      "apply_score                                   4450 non-null float64\n",
      "apply_credibility                             4450 non-null float64\n",
      "query_org_count                               4450 non-null float64\n",
      "query_finance_count                           4450 non-null float64\n",
      "query_cash_count                              4450 non-null float64\n",
      "query_sum_count                               4450 non-null float64\n",
      "latest_query_time                             4450 non-null object\n",
      "latest_one_month_apply                        4450 non-null float64\n",
      "latest_three_month_apply                      4450 non-null float64\n",
      "latest_six_month_apply                        4450 non-null float64\n",
      "loans_score                                   4457 non-null float64\n",
      "loans_credibility_behavior                    4457 non-null float64\n",
      "loans_count                                   4457 non-null float64\n",
      "loans_settle_count                            4457 non-null float64\n",
      "loans_overdue_count                           4457 non-null float64\n",
      "loans_org_count_behavior                      4457 non-null float64\n",
      "consfin_org_count_behavior                    4457 non-null float64\n",
      "loans_cash_count                              4457 non-null float64\n",
      "latest_one_month_loan                         4457 non-null float64\n",
      "latest_three_month_loan                       4457 non-null float64\n",
      "latest_six_month_loan                         4457 non-null float64\n",
      "history_suc_fee                               4457 non-null float64\n",
      "history_fail_fee                              4457 non-null float64\n",
      "latest_one_month_suc                          4457 non-null float64\n",
      "latest_one_month_fail                         4457 non-null float64\n",
      "loans_long_time                               4457 non-null float64\n",
      "loans_latest_time                             4457 non-null object\n",
      "loans_credit_limit                            4457 non-null float64\n",
      "loans_credibility_limit                       4457 non-null float64\n",
      "loans_org_count_current                       4457 non-null float64\n",
      "loans_product_count                           4457 non-null float64\n",
      "loans_max_limit                               4457 non-null float64\n",
      "loans_avg_limit                               4457 non-null float64\n",
      "consfin_credit_limit                          4457 non-null float64\n",
      "consfin_credibility                           4457 non-null float64\n",
      "consfin_org_count_current                     4457 non-null float64\n",
      "consfin_product_count                         4457 non-null float64\n",
      "consfin_max_limit                             4457 non-null float64\n",
      "consfin_avg_limit                             4457 non-null float64\n",
      "latest_query_day                              4450 non-null float64\n",
      "loans_latest_day                              4457 non-null float64\n",
      "dtypes: float64(70), int64(13), object(7)\n",
      "memory usage: 3.3+ MB\n"
     ]
    }
   ],
   "source": [
    "df.info()"
   ]
  },
  {
   "cell_type": "markdown",
   "metadata": {},
   "source": [
    "## 特征预处理"
   ]
  },
  {
   "cell_type": "markdown",
   "metadata": {},
   "source": [
    "#### 删除无用"
   ]
  },
  {
   "cell_type": "code",
   "execution_count": 22,
   "metadata": {
    "collapsed": true
   },
   "outputs": [],
   "source": [
    "delete = ['Unnamed: 0', 'custid', 'trade_no', 'bank_card_no','id_name','latest_query_time','source','loans_latest_time','first_transaction_time', 'student_feature']\n",
    "df = df.drop(delete,axis=1)"
   ]
  },
  {
   "cell_type": "markdown",
   "metadata": {},
   "source": [
    "#### 处理分类型特征"
   ]
  },
  {
   "cell_type": "code",
   "execution_count": 23,
   "metadata": {
    "collapsed": true
   },
   "outputs": [],
   "source": [
    "from sklearn.preprocessing import LabelEncoder\n",
    "df['reg_preference_for_trad'] = LabelEncoder().fit_transform(df['reg_preference_for_trad'].astype(str))"
   ]
  },
  {
   "cell_type": "markdown",
   "metadata": {},
   "source": [
    "#### 使用众数填充"
   ]
  },
  {
   "cell_type": "code",
   "execution_count": 24,
   "metadata": {
    "collapsed": true
   },
   "outputs": [],
   "source": [
    "from sklearn.preprocessing import Imputer\n",
    "for i in range(df.shape[1]):\n",
    "    feature = df.iloc[:,i].values.reshape(-1,1)\n",
    "    imp_mode = Imputer(strategy='most_frequent')\n",
    "    df.iloc[:,i] = imp_mode.fit_transform(feature)"
   ]
  },
  {
   "cell_type": "markdown",
   "metadata": {},
   "source": [
    "### 数据划分"
   ]
  },
  {
   "cell_type": "code",
   "execution_count": 25,
   "metadata": {
    "collapsed": true
   },
   "outputs": [],
   "source": [
    "X = df[:].drop(\"status\",axis=1)\n",
    "y = df[\"status\"]"
   ]
  },
  {
   "cell_type": "code",
   "execution_count": 26,
   "metadata": {},
   "outputs": [],
   "source": [
    "from sklearn.model_selection import train_test_split\n",
    "\n",
    "X_train, X_test, y_train, y_test = train_test_split(X, y, test_size=0.2)"
   ]
  },
  {
   "cell_type": "markdown",
   "metadata": {},
   "source": [
    "## 数据归一化"
   ]
  },
  {
   "cell_type": "code",
   "execution_count": 28,
   "metadata": {},
   "outputs": [],
   "source": [
    "from sklearn.preprocessing import minmax_scale\n",
    "X_train = minmax_scale(X_train)\n",
    "X_test =  minmax_scale(X_test)"
   ]
  },
  {
   "cell_type": "code",
   "execution_count": null,
   "metadata": {
    "collapsed": true
   },
   "outputs": [],
   "source": [
    "以下"
   ]
  },
  {
   "cell_type": "code",
   "execution_count": 29,
   "metadata": {},
   "outputs": [
    {
     "name": "stdout",
     "output_type": "stream",
     "text": [
      "[ 0.79133858  0.78449409  0.78421053  0.78289474  0.79078947]\n",
      "Accuracy: 0.79 (+/- 0.01)\n"
     ]
    },
    {
     "data": {
      "text/plain": [
       "0.77917981072555209"
      ]
     },
     "execution_count": 29,
     "metadata": {},
     "output_type": "execute_result"
    }
   ],
   "source": [
    "from sklearn.model_selection import cross_val_score\n",
    "clf_svc_cv = svm.SVC(kernel='linear',C=1)\n",
    "scores_clf_svc_cv = cross_val_score(clf_svc_cv,X_train,y_train,cv=5)\n",
    "\n",
    "print(scores_clf_svc_cv)\n",
    "print(\"Accuracy: %0.2f (+/- %0.2f)\" % (scores_clf_svc_cv.mean(), scores_clf_svc_cv.std() * 2))\n",
    "\n",
    "\n",
    "\n",
    "\n",
    "clf_svc = svm.SVC(kernel='linear').fit(X_train,y_train)\n",
    "clf_svc.score(X_test,y_test)"
   ]
  },
  {
   "cell_type": "markdown",
   "metadata": {},
   "source": [
    "## 建模与预测"
   ]
  },
  {
   "cell_type": "code",
   "execution_count": 58,
   "metadata": {},
   "outputs": [],
   "source": [
    "from sklearn.metrics import *\n",
    "from sklearn.linear_model import LogisticRegression\n",
    "from sklearn.svm import SVC\n",
    "from sklearn.tree import DecisionTreeClassifier\n",
    "from sklearn.ensemble import RandomForestClassifier, GradientBoostingClassifier\n",
    "from sklearn.neighbors import KNeighborsClassifier\n",
    "from sklearn.model_selection import cross_val_score\n",
    "\n",
    "LR = LogisticRegression()\n",
    "LR = LR.fit(X_train, y_train)\n",
    "# LR = cross_val_score(LR, X_train, y_train, cv = 5)\n",
    "\n",
    "svc = SVC(kernel='linear', probability = True)\n",
    "svc = svc.fit(X_train, y_train)\n",
    "# svc = cross_val_score(svc,X_train,y_train, cv = 5)\n",
    "\n",
    "DT = DecisionTreeClassifier(max_depth = 6)\n",
    "DT = DT.fit(X_train, y_train)\n",
    "# DT = cross_val_score(DT, X_train, y_train, cv = 5)\n",
    "\n",
    "RF = RandomForestClassifier()\n",
    "RF = RF.fit(X_train, y_train)\n",
    "# RF = cross_val_score(RF, X_train, y_train, cv = 5)\n",
    "\n",
    "KNN = KNeighborsClassifier()\n",
    "KNN = KNN.fit(X_train, y_train)\n",
    "# LR = cross_val_score(LR, X_train, y_train, cv = 5)\n",
    "\n",
    "GBDT = GradientBoostingClassifier()\n",
    "GBDT = GBDT.fit(X_train, y_train)\n",
    "# LR = cross_val_score(LR, X_train, y_train, cv = 5)\n",
    "\n",
    "names = [\"LR\", \"SVC\", 'DT', \"RF\", \"KNN\", \"GBDT\"]\n",
    "models = [LR, svc, DT, RF, KNN, GBDT]\n",
    "evaluates = ['accuracy', 'precision', 'recall', 'f1', 'auc']"
   ]
  },
  {
   "cell_type": "code",
   "execution_count": 59,
   "metadata": {},
   "outputs": [
    {
     "name": "stdout",
     "output_type": "stream",
     "text": [
      "LR 训练集： accuracy:0.8,precision:0.749, recall:0.3, f1:0.429, auc:0.802\n",
      "LR 测试集： accuracy:0.783,precision:0.586, recall:0.494, f1:0.536, auc:0.79\n",
      "\n",
      "\n",
      "SVC 训练集： accuracy:0.791,precision:0.809, recall:0.218, f1:0.344, auc:0.812\n",
      "SVC 测试集： accuracy:0.779,precision:0.613, recall:0.349, f1:0.444, auc:0.786\n",
      "\n",
      "\n",
      "DT 训练集： accuracy:0.824,precision:0.796, recall:0.397, f1:0.53, auc:0.826\n",
      "DT 测试集： accuracy:0.696,precision:0.414, recall:0.477, f1:0.443, auc:0.69\n",
      "\n",
      "\n",
      "RF 训练集： accuracy:0.983,precision:0.997, recall:0.937, f1:0.966, auc:1.0\n",
      "RF 测试集： accuracy:0.752,precision:0.518, recall:0.299, f1:0.379, auc:0.697\n",
      "\n",
      "\n",
      "KNN 训练集： accuracy:0.808,precision:0.726, recall:0.371, f1:0.491, auc:0.842\n",
      "KNN 测试集： accuracy:0.747,precision:0.5, recall:0.224, f1:0.309, auc:0.629\n",
      "\n",
      "\n",
      "GBDT 训练集： accuracy:0.849,precision:0.843, recall:0.489, f1:0.619, auc:0.909\n",
      "GBDT 测试集： accuracy:0.764,precision:0.545, recall:0.423, f1:0.477, auc:0.766\n",
      "\n",
      "\n"
     ]
    },
    {
     "data": {
      "text/html": [
       "<div>\n",
       "<style>\n",
       "    .dataframe thead tr:only-child th {\n",
       "        text-align: right;\n",
       "    }\n",
       "\n",
       "    .dataframe thead th {\n",
       "        text-align: left;\n",
       "    }\n",
       "\n",
       "    .dataframe tbody tr th {\n",
       "        vertical-align: top;\n",
       "    }\n",
       "</style>\n",
       "<table border=\"1\" class=\"dataframe\">\n",
       "  <thead>\n",
       "    <tr style=\"text-align: right;\">\n",
       "      <th></th>\n",
       "      <th></th>\n",
       "      <th>Accuracy</th>\n",
       "      <th>Precision</th>\n",
       "      <th>Recall</th>\n",
       "      <th>F1-Score</th>\n",
       "      <th>AUC-Score</th>\n",
       "    </tr>\n",
       "  </thead>\n",
       "  <tbody>\n",
       "    <tr>\n",
       "      <th rowspan=\"2\" valign=\"top\">LR</th>\n",
       "      <th>train</th>\n",
       "      <td>0.799632</td>\n",
       "      <td>0.748691</td>\n",
       "      <td>0.300420</td>\n",
       "      <td>0.428786</td>\n",
       "      <td>0.802149</td>\n",
       "    </tr>\n",
       "    <tr>\n",
       "      <th>test</th>\n",
       "      <td>0.783386</td>\n",
       "      <td>0.586207</td>\n",
       "      <td>0.493776</td>\n",
       "      <td>0.536036</td>\n",
       "      <td>0.789983</td>\n",
       "    </tr>\n",
       "    <tr>\n",
       "      <th rowspan=\"2\" valign=\"top\">SVC</th>\n",
       "      <th>train</th>\n",
       "      <td>0.791480</td>\n",
       "      <td>0.809339</td>\n",
       "      <td>0.218487</td>\n",
       "      <td>0.344086</td>\n",
       "      <td>0.811607</td>\n",
       "    </tr>\n",
       "    <tr>\n",
       "      <th>test</th>\n",
       "      <td>0.779180</td>\n",
       "      <td>0.613139</td>\n",
       "      <td>0.348548</td>\n",
       "      <td>0.444444</td>\n",
       "      <td>0.786219</td>\n",
       "    </tr>\n",
       "    <tr>\n",
       "      <th rowspan=\"2\" valign=\"top\">DT</th>\n",
       "      <th>train</th>\n",
       "      <td>0.823560</td>\n",
       "      <td>0.795789</td>\n",
       "      <td>0.397059</td>\n",
       "      <td>0.529783</td>\n",
       "      <td>0.825663</td>\n",
       "    </tr>\n",
       "    <tr>\n",
       "      <th>test</th>\n",
       "      <td>0.696109</td>\n",
       "      <td>0.413669</td>\n",
       "      <td>0.477178</td>\n",
       "      <td>0.443160</td>\n",
       "      <td>0.689945</td>\n",
       "    </tr>\n",
       "    <tr>\n",
       "      <th rowspan=\"2\" valign=\"top\">RF</th>\n",
       "      <th>train</th>\n",
       "      <td>0.983434</td>\n",
       "      <td>0.996648</td>\n",
       "      <td>0.936975</td>\n",
       "      <td>0.965891</td>\n",
       "      <td>0.999668</td>\n",
       "    </tr>\n",
       "    <tr>\n",
       "      <th>test</th>\n",
       "      <td>0.751840</td>\n",
       "      <td>0.517986</td>\n",
       "      <td>0.298755</td>\n",
       "      <td>0.378947</td>\n",
       "      <td>0.696546</td>\n",
       "    </tr>\n",
       "    <tr>\n",
       "      <th rowspan=\"2\" valign=\"top\">KNN</th>\n",
       "      <th>train</th>\n",
       "      <td>0.807520</td>\n",
       "      <td>0.726337</td>\n",
       "      <td>0.370798</td>\n",
       "      <td>0.490960</td>\n",
       "      <td>0.841861</td>\n",
       "    </tr>\n",
       "    <tr>\n",
       "      <th>test</th>\n",
       "      <td>0.746583</td>\n",
       "      <td>0.500000</td>\n",
       "      <td>0.224066</td>\n",
       "      <td>0.309456</td>\n",
       "      <td>0.629390</td>\n",
       "    </tr>\n",
       "    <tr>\n",
       "      <th rowspan=\"2\" valign=\"top\">GBDT</th>\n",
       "      <th>train</th>\n",
       "      <td>0.849329</td>\n",
       "      <td>0.842676</td>\n",
       "      <td>0.489496</td>\n",
       "      <td>0.619269</td>\n",
       "      <td>0.909004</td>\n",
       "    </tr>\n",
       "    <tr>\n",
       "      <th>test</th>\n",
       "      <td>0.764458</td>\n",
       "      <td>0.545455</td>\n",
       "      <td>0.423237</td>\n",
       "      <td>0.476636</td>\n",
       "      <td>0.766478</td>\n",
       "    </tr>\n",
       "  </tbody>\n",
       "</table>\n",
       "</div>"
      ],
      "text/plain": [
       "            Accuracy  Precision    Recall  F1-Score  AUC-Score\n",
       "LR   train  0.799632   0.748691  0.300420  0.428786   0.802149\n",
       "     test   0.783386   0.586207  0.493776  0.536036   0.789983\n",
       "SVC  train  0.791480   0.809339  0.218487  0.344086   0.811607\n",
       "     test   0.779180   0.613139  0.348548  0.444444   0.786219\n",
       "DT   train  0.823560   0.795789  0.397059  0.529783   0.825663\n",
       "     test   0.696109   0.413669  0.477178  0.443160   0.689945\n",
       "RF   train  0.983434   0.996648  0.936975  0.965891   0.999668\n",
       "     test   0.751840   0.517986  0.298755  0.378947   0.696546\n",
       "KNN  train  0.807520   0.726337  0.370798  0.490960   0.841861\n",
       "     test   0.746583   0.500000  0.224066  0.309456   0.629390\n",
       "GBDT train  0.849329   0.842676  0.489496  0.619269   0.909004\n",
       "     test   0.764458   0.545455  0.423237  0.476636   0.766478"
      ]
     },
     "execution_count": 59,
     "metadata": {},
     "output_type": "execute_result"
    }
   ],
   "source": [
    "df_list = []\n",
    "for name,model in zip(names,models):\n",
    "    \n",
    "    y_train_pred = model.predict(X_train)\n",
    "    y_test_pred = model.predict(X_test)\n",
    "    \n",
    "    #accuracy\n",
    "    train_accuracy = model.score(X_train,y_train)\n",
    "    test_accuracy = model.score(X_test,y_test)\n",
    "    \n",
    "    #precision   \n",
    "    train_precision = precision_score(y_train,y_train_pred)\n",
    "    test_precision = precision_score(y_test,y_test_pred)   \n",
    "    \n",
    "    #recall\n",
    "    train_recall = recall_score(y_train,y_train_pred)\n",
    "    test_recall = recall_score(y_test,y_test_pred)   \n",
    "    \n",
    "    #f1\n",
    "    train_f1 = f1_score(y_train,y_train_pred)\n",
    "    test_f1 = f1_score(y_test,y_test_pred)   \n",
    "    \n",
    "    #auc\n",
    "    y_train_pred = model.predict_proba(X_train)[:,1]\n",
    "    y_test_pred = model.predict_proba(X_test)[:,1]\n",
    "    \n",
    "    train_auc = roc_auc_score(y_train,y_train_pred)\n",
    "    test_auc = roc_auc_score(y_test,y_test_pred)\n",
    "    print('{} 训练集： accuracy:{:.3},precision:{:.3}, recall:{:.3}, f1:{:.3}, auc:{:.3}'.format(name,train_accuracy,train_precision,train_recall,train_f1,train_auc))\n",
    "    print('{} 测试集： accuracy:{:.3},precision:{:.3}, recall:{:.3}, f1:{:.3}, auc:{:.3}'.format(name,test_accuracy,test_precision,test_recall,test_f1,test_auc))\n",
    "    print('\\n')\n",
    "    df = pd.DataFrame(np.array([train_accuracy,train_precision,train_recall,train_f1,train_auc,test_accuracy,test_precision,test_recall,test_f1,test_auc]).reshape(2,-1),\n",
    "                  index = ['train','test'],\n",
    "                  columns = ['Accuracy','Precision','Recall','F1-Score','AUC-Score'])\n",
    "    df_list.append(df)\n",
    "\n",
    "pd.concat(df_list,axis=0,keys=names)"
   ]
  },
  {
   "cell_type": "code",
   "execution_count": 64,
   "metadata": {
    "scrolled": false
   },
   "outputs": [],
   "source": [
    "def draw_roc_curve(train_pre_proba,test_pre_proba,train_auc,test_auc,model_name,num):\n",
    "    fpr,tpr,roc_auc = train_pre_proba\n",
    "    test_fpr,test_tpr,test_roc_auc = test_pre_proba\n",
    "    \n",
    "    plt.figure()\n",
    "    lw = 2\n",
    "    plt.plot(fpr, tpr, color='darkorange',\n",
    "             lw=lw, label='ROC curve (area = %0.2f)' % train_auc)\n",
    "    plt.plot(test_fpr, test_tpr, color='red',\n",
    "         lw=lw, label='ROC curve (area = %0.2f)' %test_auc)\n",
    "    plt.plot([0, 1], [0, 1], color='navy', lw=lw, linestyle='--')\n",
    "    #plt.xlim([0.0, 1.0])\n",
    "    #plt.ylim([0.0, 1.05])\n",
    "    plt.xlabel('False Positive Rate')\n",
    "    plt.ylabel('True Positive Rate')\n",
    "    plt.title('Roc example '+ model_name)\n",
    "    plt.legend(loc=\"lower right\")\n",
    "    plt.savefig(\"../img/2019-08-07_5种分类模型比较_{}.png\".format(num))\n",
    "    plt.close()\n",
    "    \n",
    "for num,name,model in zip(range(1,7),names,models):\n",
    "    \n",
    "    y_train_pred = model.predict_proba(X_train)[:,1]\n",
    "    y_test_pred = model.predict_proba(X_test)[:,1]\n",
    "\n",
    "\n",
    "    train_roc = roc_curve(y_train,y_train_pred)\n",
    "    test_roc = roc_curve(y_test,y_test_pred)\n",
    "\n",
    "    train_auc = roc_auc_score(y_train,y_train_pred)\n",
    "    test_auc = roc_auc_score(y_test,y_test_pred)\n",
    "\n",
    "    draw_roc_curve(train_roc,test_roc,train_auc,test_auc,name,num)"
   ]
  },
  {
   "cell_type": "markdown",
   "metadata": {},
   "source": [
    "![](/img/2019-08-07_5种分类模型比较_1.png)"
   ]
  },
  {
   "cell_type": "markdown",
   "metadata": {},
   "source": [
    "![](/img/2019-08-07_5种分类模型比较_2.png)"
   ]
  },
  {
   "cell_type": "markdown",
   "metadata": {},
   "source": [
    "![](/img/2019-08-07_5种分类模型比较_3.png)"
   ]
  },
  {
   "cell_type": "markdown",
   "metadata": {},
   "source": [
    "![](/img/2019-08-07_5种分类模型比较_4.png)"
   ]
  },
  {
   "cell_type": "markdown",
   "metadata": {},
   "source": [
    "![](/img/2019-08-07_5种分类模型比较_5.png)"
   ]
  },
  {
   "cell_type": "markdown",
   "metadata": {},
   "source": [
    "![](/img/2019-08-07_5种分类模型比较_6.png)"
   ]
  },
  {
   "cell_type": "markdown",
   "metadata": {},
   "source": [
    "> 参考：\n",
    "\n",
    "1. [DataWhale数据挖掘实战营](https://github.com/datawhalechina/Datawhale_Learning/tree/master/doc/%E7%90%86%E8%AE%BA%E5%BA%94%E7%94%A8/%E6%95%B0%E6%8D%AE%E6%8C%96%E6%8E%98)\n",
    "2. [吴裕雄 PYTHON 机器学习——集成学习梯度提升决策树GRADIENTBOOSTINGCLASSIFIER分类模型](https://www.cnblogs.com/tszr/p/10801558.html)\n",
    "3. [使用5种分类模型进行用户贷款逾期预测](http://yezuolin.com/2018/11/TheModelofUserLoanOverdueEvaluation/)"
   ]
  }
 ],
 "metadata": {
  "kernelspec": {
   "display_name": "Python 3",
   "language": "python",
   "name": "python3"
  },
  "language_info": {
   "codemirror_mode": {
    "name": "ipython",
    "version": 3
   },
   "file_extension": ".py",
   "mimetype": "text/x-python",
   "name": "python",
   "nbconvert_exporter": "python",
   "pygments_lexer": "ipython3",
   "version": "3.6.1"
  },
  "toc": {
   "base_numbering": 1,
   "nav_menu": {},
   "number_sections": false,
   "sideBar": true,
   "skip_h1_title": false,
   "title_cell": "Table of Contents",
   "title_sidebar": "Contents",
   "toc_cell": false,
   "toc_position": {
    "height": "calc(100% - 180px)",
    "left": "10px",
    "top": "150px",
    "width": "184px"
   },
   "toc_section_display": true,
   "toc_window_display": true
  },
  "varInspector": {
   "cols": {
    "lenName": 16,
    "lenType": 16,
    "lenVar": 40
   },
   "kernels_config": {
    "python": {
     "delete_cmd_postfix": "",
     "delete_cmd_prefix": "del ",
     "library": "var_list.py",
     "varRefreshCmd": "print(var_dic_list())"
    },
    "r": {
     "delete_cmd_postfix": ") ",
     "delete_cmd_prefix": "rm(",
     "library": "var_list.r",
     "varRefreshCmd": "cat(var_dic_list()) "
    }
   },
   "types_to_exclude": [
    "module",
    "function",
    "builtin_function_or_method",
    "instance",
    "_Feature"
   ],
   "window_display": false
  }
 },
 "nbformat": 4,
 "nbformat_minor": 2
}
