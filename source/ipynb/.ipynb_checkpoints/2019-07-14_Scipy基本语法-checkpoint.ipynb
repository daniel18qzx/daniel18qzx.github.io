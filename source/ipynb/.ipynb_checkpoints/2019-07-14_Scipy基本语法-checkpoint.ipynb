{
 "cells": [
  {
   "cell_type": "markdown",
   "metadata": {},
   "source": [
    "---\n",
    "title: Scipy基本语法\n",
    "date: 2019-07-14\n",
    "categories: [基本语法, Scipy]\n",
    "---"
   ]
  },
  {
   "cell_type": "markdown",
   "metadata": {},
   "source": [
    "## 数据物理常数"
   ]
  },
  {
   "cell_type": "code",
   "execution_count": 52,
   "metadata": {
    "scrolled": true
   },
   "outputs": [
    {
     "name": "stdout",
     "output_type": "stream",
     "text": [
      "3.141592653589793\n",
      "9.80665\n"
     ]
    }
   ],
   "source": [
    "from scipy import constants\n",
    "    \n",
    "# 圆周率\n",
    "print(C.pi)\n",
    "\n",
    "# 引力常数\n",
    "print(C.g)"
   ]
  },
  {
   "cell_type": "markdown",
   "metadata": {},
   "source": [
    "## 积分"
   ]
  },
  {
   "cell_type": "code",
   "execution_count": 65,
   "metadata": {},
   "outputs": [
    {
     "name": "stdout",
     "output_type": "stream",
     "text": [
      "(42.0, 4.662936703425657e-13)\n",
      "42.44444444444444\n"
     ]
    }
   ],
   "source": [
    "from scipy import integrate\n",
    "\n",
    "# 定积分\n",
    "Y = lambda x: x**2+3\n",
    "print(integrate.quad(Y, -2, 4)) # (-2, 4)是上下限  # 返回值第二个是误差预估\n",
    "\n",
    "# 数值采样积分\n",
    "Y = lambda x: x**2+3\n",
    "x = np.linspace(-2, 4, 10)\n",
    "y = Y(x)\n",
    "print(integrate.trapz(y, x))"
   ]
  },
  {
   "cell_type": "markdown",
   "metadata": {},
   "source": [
    "## 优化"
   ]
  },
  {
   "cell_type": "code",
   "execution_count": 73,
   "metadata": {},
   "outputs": [
    {
     "name": "stdout",
     "output_type": "stream",
     "text": [
      "[0.         0.         2.14159739 0.        ]\n",
      "-0.9999999999887697\n"
     ]
    }
   ],
   "source": [
    "from scipy import optimize\n",
    "Y = lambda x: x[0]**3 + x[1]**3 + np.cos(x[2]+1)\n",
    "x0 = np.zeros(4)\n",
    "res = optimize.minimize(Y, x0)\n",
    "\n",
    "print(res.x) #x\n",
    "print(Y(res.x)) #y"
   ]
  },
  {
   "cell_type": "markdown",
   "metadata": {},
   "source": [
    "## 拟合"
   ]
  },
  {
   "cell_type": "code",
   "execution_count": 83,
   "metadata": {},
   "outputs": [
    {
     "data": {
      "text/plain": [
       "array([1., 2., 3.])"
      ]
     },
     "execution_count": 83,
     "metadata": {},
     "output_type": "execute_result"
    }
   ],
   "source": [
    "from scipy import optimize\n",
    "def func(x, a, b, c):\n",
    "    return a * np.exp(-b * x) + c\n",
    "\n",
    "x = np.linspace(0, 4, 50)\n",
    "y = func(x, 1, 2, 3)\n",
    "\n",
    "popt, pcov = optimize.curve_fit(func, x, y)\n",
    "popt"
   ]
  },
  {
   "cell_type": "markdown",
   "metadata": {},
   "source": [
    "## 方程式求解"
   ]
  },
  {
   "cell_type": "code",
   "execution_count": 88,
   "metadata": {},
   "outputs": [
    {
     "data": {
      "text/plain": [
       "array([-10.,  10.])"
      ]
     },
     "execution_count": 88,
     "metadata": {},
     "output_type": "execute_result"
    }
   ],
   "source": [
    "from scipy import optimize\n",
    "def func(x):\n",
    "    return [x[0]+x[1],x[0]+10]\n",
    "\n",
    "sol = optimize.root(func, [0, 0])\n",
    "sol.x"
   ]
  },
  {
   "cell_type": "markdown",
   "metadata": {},
   "source": [
    "> 参考：\n",
    "\n",
    "1. [从机器学习到深度学习：基于Scikit-learn与TensorFlow的高效开发实战](http://www.broadview.com.cn/book/5337)"
   ]
  }
 ],
 "metadata": {
  "kernelspec": {
   "display_name": "Python 3",
   "language": "python",
   "name": "python3"
  },
  "language_info": {
   "codemirror_mode": {
    "name": "ipython",
    "version": 3
   },
   "file_extension": ".py",
   "mimetype": "text/x-python",
   "name": "python",
   "nbconvert_exporter": "python",
   "pygments_lexer": "ipython3",
   "version": "3.6.2"
  }
 },
 "nbformat": 4,
 "nbformat_minor": 2
}
