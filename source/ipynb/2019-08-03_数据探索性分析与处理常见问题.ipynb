{
 "cells": [
  {
   "cell_type": "markdown",
   "metadata": {},
   "source": [
    "---\n",
    "title: 数据探索性分析与处理常见问题\n",
    "date: 2019-08-03\n",
    "categories: [基本语法, 数据处理]\n",
    "mathjax: false\n",
    "---"
   ]
  },
  {
   "cell_type": "markdown",
   "metadata": {},
   "source": [
    "## 数据缺失"
   ]
  },
  {
   "cell_type": "markdown",
   "metadata": {
    "ExecuteTime": {
     "end_time": "2019-08-07T10:17:48.791367Z",
     "start_time": "2019-08-07T10:17:48.709892Z"
    },
    "scrolled": true
   },
   "source": [
    "### 为什么需要处理缺失值？\n",
    "\n",
    "不同缺失值的处理方式在一定程度上影响了特征提取、建模和模型训练缺失值太多，可以尝试着直接删除，如果不删除，处理不好，可能会引来噪声缺失值较少，少于某一缺失率时，直接删除又会带来信息的损失，此时可以采取适当的填充方式。"
   ]
  },
  {
   "cell_type": "markdown",
   "metadata": {},
   "source": [
    "### 缺失率大于多少时应当抛弃该特征？\n",
    "\n",
    "一般为70%,但是还要分析该特征与训练目标的重要程度"
   ]
  },
  {
   "cell_type": "markdown",
   "metadata": {},
   "source": [
    "### 缺失值填充有哪些方法？\n",
    "\n",
    "#### 插值填充\n",
    "- 特殊值\n",
    "- 均值、加权均值（缺点：降低数据的方差，即随机性）\n",
    "- 中位数\n",
    "- 众数（多用在类别变数）\n",
    "- ...\n",
    "\n",
    "#### 插补法\n",
    "- 随机插补法：从总体中随机抽取某个样本代替缺失样本\n",
    "- 多重插补法：通过变量之间的关系对缺失数据进行预测，利用蒙特卡洛方法生成多个完整的数据集，在对这些数据集进行分析，最后对分析结果进行汇总处理\n",
    "- 热平台插补：指在非缺失数据集中找到一个与缺失值所在样本相似的样本（匹配样本），利用其中的观测值对缺失值进行插补\n",
    "- 拉格朗日差值法\n",
    "- 牛顿插值法\n",
    "\n",
    "> 列的维度上，如果是连续性，就使用平均值插补，如果是离散性，就使用众数来插补; 行的维度上，引入预测模型，可考虑辅助回归，通过变量间的关系来预测缺失数据    \n",
    "\n",
    "\n",
    "#### 丢弃\n",
    "如果行和列的缺失达到一定的比例，建议放弃整行或整列数据\n",
    "\n",
    "#### 模型法\n",
    "更多时候我们会基于已有的其他字段，将缺失字段作为目标变量进行预测，从而得到最为可能的补全值。如果带有缺失值的列是数值变量，采用回归模型补全；如果是分类变量，则采用分类模型补全\n",
    "\n",
    "#### 专家补全\n",
    "对于少量且具有重要意义的数据记录，专家补足也是非常重要的一种途径\n",
    "\n",
    "#### 不处理\n",
    "- 当缺失值对模型的影响不大时，直接在包含空值的数据上进行数据挖掘\n",
    "- 很多模型对于缺失值有容忍度或灵活的处理方法，因此在预处理阶段可以不做处理\n",
    "- 树模型对于缺失值的敏感度较低，大部分时候可以在数据有缺失时使用\n",
    "- 涉及到距离度量(distance measurement)时，如计算两个点之间的距离，缺失数据就变得比较重要。因为涉及到“距离”这个概念，那么缺失值处理不当就会导致效果很差，如K近邻算法(KNN)和支持向量机(SVM)\n",
    "- 线性模型的代价函数(loss function)往往涉及到距离(distance)的计算，计算预测值和真实值之间的差别，这容易导致对缺失值敏感\n",
    "- 神经网络的鲁棒性强，对于缺失数据不是非常敏感，但一般没有那么多数据可供使用。\n",
    "- 贝叶斯模型对于缺失数据也比较稳定，数据量很小的时候首推贝叶斯模型。"
   ]
  },
  {
   "cell_type": "markdown",
   "metadata": {},
   "source": [
    "## 时间序列"
   ]
  },
  {
   "cell_type": "markdown",
   "metadata": {},
   "source": [
    "依情况处理，主要看单独时间字段或时间字段与某些字段的组合属性对目标分析的作用程度，再采取相应方式来进行特征提取比如：可以将时间字段与其他字段属性进行组合，分析每天、每周、每月或特点星期几等情况下特征数据频率信息，总的来说还是得看分析得目标\n",
    "\n",
    "通常看到的情况是，除了考虑时间序列这个单独的特征外，往往是将时间序列和具有时间属性的特征联合起来分析，查看组合特征的对所需要分析的内容的影响"
   ]
  },
  {
   "cell_type": "markdown",
   "metadata": {},
   "source": [
    "### 异常值和离群值"
   ]
  },
  {
   "cell_type": "markdown",
   "metadata": {},
   "source": [
    "大多数的参数统计数值如均值、标准差、相关系数等，以及基于这些参数的统计分析均对离群值高度敏感。因此离群值的存在会对数据分析造成极大影响\n",
    "\n",
    "#### 判断\n",
    "- 用分位数搞定，看跟平均值的偏差超过几倍标准差\n",
    "- LOF算法\n",
    "- describe的时候加一个箱型图\n",
    "\n",
    "#### 处理\n",
    "- 对数转换\n",
    "- 缩尾\n",
    "- 截尾\n",
    "- 插值"
   ]
  },
  {
   "cell_type": "markdown",
   "metadata": {},
   "source": [
    "> 参考：\n",
    "\n",
    "1. [DataWhale数据挖掘实战营](https://github.com/datawhalechina/Datawhale_Learning/tree/master/doc/%E7%90%86%E8%AE%BA%E5%BA%94%E7%94%A8/%E6%95%B0%E6%8D%AE%E6%8C%96%E6%8E%98)\n",
    "2. [利用Python进行数据分析·第2版](https://www.jianshu.com/p/29ece4592178)\n",
    "3. [Stata：离群值！离群值？离群值！](https://www.jianshu.com/p/0c967a1526ef)\n",
    "4. [机器学习中如何处理不平衡数据？](https://www.jiqizhixin.com/articles/021704)"
   ]
  }
 ],
 "metadata": {
  "kernelspec": {
   "display_name": "Python 3",
   "language": "python",
   "name": "python3"
  },
  "language_info": {
   "codemirror_mode": {
    "name": "ipython",
    "version": 3
   },
   "file_extension": ".py",
   "mimetype": "text/x-python",
   "name": "python",
   "nbconvert_exporter": "python",
   "pygments_lexer": "ipython3",
   "version": "3.6.1"
  },
  "toc": {
   "base_numbering": 1,
   "nav_menu": {},
   "number_sections": false,
   "sideBar": true,
   "skip_h1_title": false,
   "title_cell": "Table of Contents",
   "title_sidebar": "Contents",
   "toc_cell": false,
   "toc_position": {},
   "toc_section_display": true,
   "toc_window_display": true
  },
  "varInspector": {
   "cols": {
    "lenName": 16,
    "lenType": 16,
    "lenVar": 40
   },
   "kernels_config": {
    "python": {
     "delete_cmd_postfix": "",
     "delete_cmd_prefix": "del ",
     "library": "var_list.py",
     "varRefreshCmd": "print(var_dic_list())"
    },
    "r": {
     "delete_cmd_postfix": ") ",
     "delete_cmd_prefix": "rm(",
     "library": "var_list.r",
     "varRefreshCmd": "cat(var_dic_list()) "
    }
   },
   "types_to_exclude": [
    "module",
    "function",
    "builtin_function_or_method",
    "instance",
    "_Feature"
   ],
   "window_display": false
  }
 },
 "nbformat": 4,
 "nbformat_minor": 2
}
