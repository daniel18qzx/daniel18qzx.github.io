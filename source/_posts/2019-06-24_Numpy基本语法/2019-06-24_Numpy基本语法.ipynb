{
 "cells": [
  {
   "cell_type": "markdown",
   "metadata": {},
   "source": [
    "---\n",
    "title: Numpy基本语法\n",
    "date: 2019-06-24\n",
    "id: 2\n",
    "categories: [基本语法]\n",
    "---"
   ]
  },
  {
   "cell_type": "markdown",
   "metadata": {},
   "source": [
    "## 生成数组"
   ]
  },
  {
   "cell_type": "code",
   "execution_count": 15,
   "metadata": {},
   "outputs": [
    {
     "name": "stdout",
     "output_type": "stream",
     "text": [
      "===使用普通一维数组生成NumPy一维数组===\n",
      "[6.  7.5 8.  0.  1. ]\n",
      "float64\n",
      "\n",
      "===使用普通二维数组生成NumPy二维数组===\n",
      "[[1 2 3 4]\n",
      " [5 6 7 8]]\n",
      "(2, 4)\n",
      "\n",
      "===使用内置函数创建数组===\n",
      "[0. 0. 0. 0. 0. 0. 0. 0. 0. 0.]\n",
      "[[0. 0. 0. 0. 0. 0.]\n",
      " [0. 0. 0. 0. 0. 0.]\n",
      " [0. 0. 0. 0. 0. 0.]]\n",
      "[[[4.9e-324 9.9e-324]\n",
      "  [1.5e-323 2.0e-323]\n",
      "  [2.5e-323 3.0e-323]]\n",
      "\n",
      " [[3.5e-323 4.0e-323]\n",
      "  [4.4e-323 4.9e-323]\n",
      "  [5.4e-323 5.9e-323]]]\n",
      "[4607182418800017408 4607182418800017408 4607182418800017408]\n",
      "[[1. 1.]]\n",
      "[[8 8]\n",
      " [8 8]]\n",
      "[[1. 0. 0.]\n",
      " [0. 1. 0.]\n",
      " [0. 0. 1.]]\n",
      "[[0.46824109 0.9710855 ]\n",
      " [0.41688259 0.20446181]\n",
      " [0.31828888 0.2797158 ]]\n",
      "\n",
      "===使用arrange生成连续元素===\n",
      "[ 0  1  2  3  4  5  6  7  8  9 10 11 12 13 14]\n",
      "\n",
      "===broadcasting===\n",
      "[[0 1 2]\n",
      " [1 2 3]\n",
      " [2 3 4]]\n"
     ]
    }
   ],
   "source": [
    "# -*- coding: utf-8 -*-\n",
    "import numpy as np\n",
    "\n",
    "print(\"===使用普通一维数组生成NumPy一维数组===\")\n",
    "data = [6, 7.5, 8, 0, 1]\n",
    "arr = np.array(data)\n",
    "print(arr)\n",
    "print(arr.dtype) # 类型\n",
    "print('')\n",
    "\n",
    "print(\"===使用普通二维数组生成NumPy二维数组===\")\n",
    "data = [[1, 2, 3, 4], [5, 6, 7, 8]]\n",
    "arr = np.array(data)\n",
    "print(arr)\n",
    "print(arr.shape) # 维度\n",
    "print('')\n",
    "\n",
    "print(\"===使用内置函数创建数组===\")\n",
    "print(np.zeros(10)) # 生成包含10个0的一维数组\n",
    "print(np.zeros((3, 6))) # 生成3*6的二维数组\n",
    "print(np.empty((2, 3, 2))) # 生成2*3*2的三维数组，所有元素未初始化。\n",
    "print(np.empty_like((2, 3, 2))) # 生成2*3*2的三维数组，所有元素未初始化。\n",
    "print(np.ones((1,2)))\n",
    "print(np.full((2,2), 8))\n",
    "print(np.eye(3))\n",
    "print(np.random.random((3,2)))\n",
    "print('')\n",
    "\n",
    "print(\"===使用arrange生成连续元素===\")\n",
    "print(np.arange(15))  # [0, 1, 2, ..., 14]\n",
    "print('')\n",
    "\n",
    "print(\"===broadcasting===\")\n",
    "print(np.arange(3).reshape((3,1))+np.arange(3))"
   ]
  },
  {
   "cell_type": "markdown",
   "metadata": {},
   "source": [
    "## 堆叠"
   ]
  },
  {
   "cell_type": "code",
   "execution_count": 18,
   "metadata": {},
   "outputs": [
    {
     "name": "stdout",
     "output_type": "stream",
     "text": [
      "[[1. 2. 5. 6.]\n",
      " [3. 4. 7. 8.]]\n",
      "[[1. 2.]\n",
      " [3. 4.]\n",
      " [5. 6.]\n",
      " [7. 8.]]\n"
     ]
    }
   ],
   "source": [
    "x = np.array([[1,2],[3,4]], dtype=np.float64)\n",
    "y = np.array([[5,6],[7,8]], dtype=np.float64)\n",
    "\n",
    "print(np.hstack((x,y)))\n",
    "print(np.vstack((x,y)))"
   ]
  },
  {
   "cell_type": "markdown",
   "metadata": {},
   "source": [
    "## 运算"
   ]
  },
  {
   "cell_type": "code",
   "execution_count": 11,
   "metadata": {},
   "outputs": [
    {
     "name": "stdout",
     "output_type": "stream",
     "text": [
      "===逐元素运算===\n",
      "[[ 6.  8.]\n",
      " [10. 12.]]\n",
      "[[-4. -4.]\n",
      " [-4. -4.]]\n",
      "[[ 5. 12.]\n",
      " [21. 32.]]\n",
      "[[0.2        0.33333333]\n",
      " [0.42857143 0.5       ]]\n",
      "[[1.         1.41421356]\n",
      " [1.73205081 2.        ]]\n",
      "===矩阵内元素运算===\n",
      "10.0\n",
      "[4. 6.]\n",
      "[3. 7.]\n"
     ]
    }
   ],
   "source": [
    "x = np.array([[1,2],[3,4]], dtype=np.float64)\n",
    "y = np.array([[5,6],[7,8]], dtype=np.float64)\n",
    "\n",
    "print(\"===逐元素运算===\")\n",
    "print(x+y)\n",
    "print(x-y)\n",
    "print(x*y)\n",
    "print(x/y)\n",
    "print(np.sqrt(x))\n",
    "print('')\n",
    "\n",
    "print(\"===矩阵内元素运算===\")\n",
    "print(x.sum())\n",
    "print(np.sum(x, axis=0))\n",
    "print(np.sum(x, axis=1))\n",
    "print(np.mean(x))\n",
    "print(np.mean(x, axis=0))\n",
    "print(np.mean(x, axis=1))\n",
    "print(x.cumsum(axis=0))\n",
    "print(x.cumsum(axis=1))\n",
    "print(x.cumprod(axis=0))\n",
    "print(x.cumprod(axis=1))"
   ]
  },
  {
   "cell_type": "markdown",
   "metadata": {},
   "source": [
    "## 索引/切片"
   ]
  },
  {
   "cell_type": "code",
   "execution_count": 9,
   "metadata": {},
   "outputs": [
    {
     "name": "stdout",
     "output_type": "stream",
     "text": [
      "===通过索引访问二维数组某一行或某个元素===\n",
      "[7 8 9]\n",
      "3\n",
      "3\n",
      "\n",
      "===对更高维数组的访问和操作===\n",
      "[[1 2 3]\n",
      " [4 5 6]]\n",
      "[7 8 9]\n",
      "[[[42 42 42]\n",
      "  [42 42 42]]\n",
      "\n",
      " [[ 7  8  9]\n",
      "  [10 11 12]]]\n",
      "[[[ 1  2  3]\n",
      "  [ 4  5  6]]\n",
      "\n",
      " [[ 7  8  9]\n",
      "  [10 11 12]]]\n",
      "\n",
      "===使用切片访问和操作数组===\n",
      "[2 3 4 5 6]\n",
      "[[1 2 3]\n",
      " [4 5 6]]\n",
      "[[2 3]\n",
      " [5 6]]\n",
      "[[1]\n",
      " [4]\n",
      " [7]]\n",
      "[[1 0 0]\n",
      " [4 0 0]\n",
      " [7 8 9]]\n"
     ]
    }
   ],
   "source": [
    "print(\"===通过索引访问二维数组某一行或某个元素===\")\n",
    "arr = np.array([[1, 2, 3], [4, 5, 6], [7, 8, 9]])\n",
    "print(arr[2])\n",
    "print(arr[0][2])\n",
    "print(arr[0, 2]) # 普通Python数组不能用。\n",
    "print('')\n",
    "\n",
    "print(\"===对更高维数组的访问和操作===\")\n",
    "arr = np.array([[[1, 2, 3], [4, 5, 6]], [[7, 8, 9], [10, 11, 12]]])\n",
    "print(arr[0])  # 结果是个2维数组\n",
    "print(arr[1, 0]) # 结果是个2维数组\n",
    "old_values = arr[0].copy()  # 复制arr[0]的值\n",
    "arr[0] = 42 # 把arr[0]所有的元素都设置为同一个值\n",
    "print(arr)\n",
    "arr[0] = old_values # 把原来的数组写回去\n",
    "print(arr)\n",
    "print('')\n",
    "\n",
    "print(\"===使用切片访问和操作数组===\")\n",
    "arr = np.array([1, 2, 3, 4, 5, 6, 7, 8, 9, 10])\n",
    "print(arr[1:6])  # 打印元素arr[1]到arr[5]，和list切片不同，这里是引用。\n",
    "arr = np.array([[1, 2, 3], [4, 5, 6], [7, 8, 9]])\n",
    "print(arr[:2]) # 打印第1、2行\n",
    "print(arr[:2, 1:]) # 打印第1、2行，第2、3列\n",
    "print(arr[:, :1])  # 打印第一列的所有元素\n",
    "arr[:2, 1:] = 0 # 第1、2行，第2、3列的元素设置为0\n",
    "print(arr)\n"
   ]
  },
  {
   "cell_type": "markdown",
   "metadata": {},
   "source": [
    "## 矩阵"
   ]
  },
  {
   "cell_type": "code",
   "execution_count": 7,
   "metadata": {},
   "outputs": [
    {
     "name": "stdout",
     "output_type": "stream",
     "text": [
      "2 500\n",
      "1.8900527954101562\n",
      "0.6348848342895508\n",
      "0.25273704528808594\n",
      "0.02255988121032715\n"
     ]
    }
   ],
   "source": [
    "import numpy as np\n",
    "import numpy.linalg as la\n",
    "import time\n",
    "\n",
    "X = np.array([range(0, 500), range(500, 1000)])\n",
    "m, n = X.shape\n",
    "print(m, n)\n",
    "\n",
    "'''\n",
    "D(i, j) = ||xi - xj||^2\n",
    "'''\n",
    "t = time.time()\n",
    "D = np.zeros([n, n])\n",
    "for i in range(n):\n",
    "    for j in range(i + 1, n):\n",
    "        D[i, j] = la.norm(X[:, i] - X[:, j]) ** 2\n",
    "        D[j, i] = D[i, j]\n",
    "print(time.time() - t)\n",
    "\n",
    "'''\n",
    "|xi - xi| = sqrt((xi - xj) * (xi - xj).T)\n",
    "D(i, j) = (xi - xj) * (xi - xj).T\n",
    "'''\n",
    "t = time.time()\n",
    "D = np.zeros([n, n])\n",
    "for i in range(n):\n",
    "    for j in range(i + 1, n):\n",
    "        d = X[:, i] - X[:, j]\n",
    "        D[i, j] = np.dot(d, d)\n",
    "        D[j, i] = D[i, j]\n",
    "print(time.time() - t)\n",
    "\n",
    "'''\n",
    "D(i, j) = (xi - xj) * (xi - xj).T\n",
    "        = xi * xi.T - xi * xj.T - xj * xi.T + xj * xj.T\n",
    "        = xi * xi.T - 2 * xi * xj.T + xj * xj.T\n",
    "G(i,j) = xi.T * xj\n",
    "'''\n",
    "t = time.time()\n",
    "G = np.dot(X.T, X)\n",
    "D = np.zeros([n, n])\n",
    "for i in range(n):\n",
    "    for j in range(i + 1, n):\n",
    "        D[i, j] = G[i, i] - G[i, j] * 2 + G[j,j]\n",
    "        D[j, i] = D[i, j]\n",
    "print(time.time() - t)\n",
    "\n",
    "'''\n",
    "H(i, j) = G(i, i)\n",
    "K(i, j) = G(j, j) = H(i, j).T\n",
    "D(i, j) = H(i, j) + K(i, j) - 2 * G(i, j)\n",
    "'''\n",
    "t = time.time()\n",
    "G = np.dot(X.T, X)\n",
    "H = np.tile(np.diag(G), (n, 1)) # n rows, 1 for each row\n",
    "D = H + H.T - G * 2\n",
    "print(time.time() - t)\n"
   ]
  },
  {
   "cell_type": "markdown",
   "metadata": {},
   "source": [
    "> 参考：\n",
    "\n",
    "1. [廖雪峰Python数据分析](https://www.julyedu.com/course/getDetail/66/)"
   ]
  }
 ],
 "metadata": {
  "kernelspec": {
   "display_name": "Python 3",
   "language": "python",
   "name": "python3"
  },
  "language_info": {
   "codemirror_mode": {
    "name": "ipython",
    "version": 3
   },
   "file_extension": ".py",
   "mimetype": "text/x-python",
   "name": "python",
   "nbconvert_exporter": "python",
   "pygments_lexer": "ipython3",
   "version": "3.6.2"
  }
 },
 "nbformat": 4,
 "nbformat_minor": 2
}
